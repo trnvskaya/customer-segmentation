{
 "cells": [
  {
   "cell_type": "code",
   "execution_count": 1,
   "id": "278d0ba3",
   "metadata": {},
   "outputs": [],
   "source": [
    "import numpy as np\n",
    "import pandas as pd"
   ]
  },
  {
   "cell_type": "code",
   "execution_count": 2,
   "id": "c2b2aca9",
   "metadata": {},
   "outputs": [],
   "source": [
    "import matplotlib.pyplot as plt\n",
    "import seaborn as sns\n",
    "import plotly.express as px"
   ]
  },
  {
   "cell_type": "markdown",
   "id": "ba298400",
   "metadata": {},
   "source": [
    "Loading the dataset:"
   ]
  },
  {
   "cell_type": "code",
   "execution_count": 3,
   "id": "0ae70612",
   "metadata": {},
   "outputs": [],
   "source": [
    "data = pd.read_csv(\"customer_segmentation.csv\")"
   ]
  },
  {
   "cell_type": "markdown",
   "id": "cf79f277",
   "metadata": {},
   "source": [
    "### Basic Data Preprocessing"
   ]
  },
  {
   "cell_type": "code",
   "execution_count": 4,
   "id": "36df52d7",
   "metadata": {},
   "outputs": [
    {
     "data": {
      "text/html": [
       "<div>\n",
       "<style scoped>\n",
       "    .dataframe tbody tr th:only-of-type {\n",
       "        vertical-align: middle;\n",
       "    }\n",
       "\n",
       "    .dataframe tbody tr th {\n",
       "        vertical-align: top;\n",
       "    }\n",
       "\n",
       "    .dataframe thead th {\n",
       "        text-align: right;\n",
       "    }\n",
       "</style>\n",
       "<table border=\"1\" class=\"dataframe\">\n",
       "  <thead>\n",
       "    <tr style=\"text-align: right;\">\n",
       "      <th></th>\n",
       "      <th>ID</th>\n",
       "      <th>Year_Birth</th>\n",
       "      <th>Education</th>\n",
       "      <th>Marital_Status</th>\n",
       "      <th>Income</th>\n",
       "      <th>Kidhome</th>\n",
       "      <th>Teenhome</th>\n",
       "      <th>Dt_Customer</th>\n",
       "      <th>Recency</th>\n",
       "      <th>MntWines</th>\n",
       "      <th>...</th>\n",
       "      <th>NumWebVisitsMonth</th>\n",
       "      <th>AcceptedCmp3</th>\n",
       "      <th>AcceptedCmp4</th>\n",
       "      <th>AcceptedCmp5</th>\n",
       "      <th>AcceptedCmp1</th>\n",
       "      <th>AcceptedCmp2</th>\n",
       "      <th>Complain</th>\n",
       "      <th>Z_CostContact</th>\n",
       "      <th>Z_Revenue</th>\n",
       "      <th>Response</th>\n",
       "    </tr>\n",
       "  </thead>\n",
       "  <tbody>\n",
       "    <tr>\n",
       "      <th>0</th>\n",
       "      <td>5524</td>\n",
       "      <td>1957</td>\n",
       "      <td>Graduation</td>\n",
       "      <td>Single</td>\n",
       "      <td>58138.0</td>\n",
       "      <td>0</td>\n",
       "      <td>0</td>\n",
       "      <td>04-09-2012</td>\n",
       "      <td>58</td>\n",
       "      <td>635</td>\n",
       "      <td>...</td>\n",
       "      <td>7</td>\n",
       "      <td>0</td>\n",
       "      <td>0</td>\n",
       "      <td>0</td>\n",
       "      <td>0</td>\n",
       "      <td>0</td>\n",
       "      <td>0</td>\n",
       "      <td>3</td>\n",
       "      <td>11</td>\n",
       "      <td>1</td>\n",
       "    </tr>\n",
       "    <tr>\n",
       "      <th>1</th>\n",
       "      <td>2174</td>\n",
       "      <td>1954</td>\n",
       "      <td>Graduation</td>\n",
       "      <td>Single</td>\n",
       "      <td>46344.0</td>\n",
       "      <td>1</td>\n",
       "      <td>1</td>\n",
       "      <td>08-03-2014</td>\n",
       "      <td>38</td>\n",
       "      <td>11</td>\n",
       "      <td>...</td>\n",
       "      <td>5</td>\n",
       "      <td>0</td>\n",
       "      <td>0</td>\n",
       "      <td>0</td>\n",
       "      <td>0</td>\n",
       "      <td>0</td>\n",
       "      <td>0</td>\n",
       "      <td>3</td>\n",
       "      <td>11</td>\n",
       "      <td>0</td>\n",
       "    </tr>\n",
       "    <tr>\n",
       "      <th>2</th>\n",
       "      <td>4141</td>\n",
       "      <td>1965</td>\n",
       "      <td>Graduation</td>\n",
       "      <td>Together</td>\n",
       "      <td>71613.0</td>\n",
       "      <td>0</td>\n",
       "      <td>0</td>\n",
       "      <td>21-08-2013</td>\n",
       "      <td>26</td>\n",
       "      <td>426</td>\n",
       "      <td>...</td>\n",
       "      <td>4</td>\n",
       "      <td>0</td>\n",
       "      <td>0</td>\n",
       "      <td>0</td>\n",
       "      <td>0</td>\n",
       "      <td>0</td>\n",
       "      <td>0</td>\n",
       "      <td>3</td>\n",
       "      <td>11</td>\n",
       "      <td>0</td>\n",
       "    </tr>\n",
       "    <tr>\n",
       "      <th>3</th>\n",
       "      <td>6182</td>\n",
       "      <td>1984</td>\n",
       "      <td>Graduation</td>\n",
       "      <td>Together</td>\n",
       "      <td>26646.0</td>\n",
       "      <td>1</td>\n",
       "      <td>0</td>\n",
       "      <td>10-02-2014</td>\n",
       "      <td>26</td>\n",
       "      <td>11</td>\n",
       "      <td>...</td>\n",
       "      <td>6</td>\n",
       "      <td>0</td>\n",
       "      <td>0</td>\n",
       "      <td>0</td>\n",
       "      <td>0</td>\n",
       "      <td>0</td>\n",
       "      <td>0</td>\n",
       "      <td>3</td>\n",
       "      <td>11</td>\n",
       "      <td>0</td>\n",
       "    </tr>\n",
       "    <tr>\n",
       "      <th>4</th>\n",
       "      <td>5324</td>\n",
       "      <td>1981</td>\n",
       "      <td>PhD</td>\n",
       "      <td>Married</td>\n",
       "      <td>58293.0</td>\n",
       "      <td>1</td>\n",
       "      <td>0</td>\n",
       "      <td>19-01-2014</td>\n",
       "      <td>94</td>\n",
       "      <td>173</td>\n",
       "      <td>...</td>\n",
       "      <td>5</td>\n",
       "      <td>0</td>\n",
       "      <td>0</td>\n",
       "      <td>0</td>\n",
       "      <td>0</td>\n",
       "      <td>0</td>\n",
       "      <td>0</td>\n",
       "      <td>3</td>\n",
       "      <td>11</td>\n",
       "      <td>0</td>\n",
       "    </tr>\n",
       "  </tbody>\n",
       "</table>\n",
       "<p>5 rows × 29 columns</p>\n",
       "</div>"
      ],
      "text/plain": [
       "     ID  Year_Birth   Education Marital_Status   Income  Kidhome  Teenhome  \\\n",
       "0  5524        1957  Graduation         Single  58138.0        0         0   \n",
       "1  2174        1954  Graduation         Single  46344.0        1         1   \n",
       "2  4141        1965  Graduation       Together  71613.0        0         0   \n",
       "3  6182        1984  Graduation       Together  26646.0        1         0   \n",
       "4  5324        1981         PhD        Married  58293.0        1         0   \n",
       "\n",
       "  Dt_Customer  Recency  MntWines  ...  NumWebVisitsMonth  AcceptedCmp3  \\\n",
       "0  04-09-2012       58       635  ...                  7             0   \n",
       "1  08-03-2014       38        11  ...                  5             0   \n",
       "2  21-08-2013       26       426  ...                  4             0   \n",
       "3  10-02-2014       26        11  ...                  6             0   \n",
       "4  19-01-2014       94       173  ...                  5             0   \n",
       "\n",
       "   AcceptedCmp4  AcceptedCmp5  AcceptedCmp1  AcceptedCmp2  Complain  \\\n",
       "0             0             0             0             0         0   \n",
       "1             0             0             0             0         0   \n",
       "2             0             0             0             0         0   \n",
       "3             0             0             0             0         0   \n",
       "4             0             0             0             0         0   \n",
       "\n",
       "   Z_CostContact  Z_Revenue  Response  \n",
       "0              3         11         1  \n",
       "1              3         11         0  \n",
       "2              3         11         0  \n",
       "3              3         11         0  \n",
       "4              3         11         0  \n",
       "\n",
       "[5 rows x 29 columns]"
      ]
     },
     "execution_count": 4,
     "metadata": {},
     "output_type": "execute_result"
    }
   ],
   "source": [
    "data.head()"
   ]
  },
  {
   "cell_type": "markdown",
   "id": "41585b65",
   "metadata": {},
   "source": [
    "By looking at `data.head` we can see that the dataset given has 29 columns. Looking at the data, we can make an assumption that dataset represents personal data alongside with some kind of website activity."
   ]
  },
  {
   "cell_type": "code",
   "execution_count": 5,
   "id": "70b6558a",
   "metadata": {},
   "outputs": [
    {
     "name": "stdout",
     "output_type": "stream",
     "text": [
      "<class 'pandas.core.frame.DataFrame'>\n",
      "RangeIndex: 2240 entries, 0 to 2239\n",
      "Data columns (total 29 columns):\n",
      " #   Column               Non-Null Count  Dtype  \n",
      "---  ------               --------------  -----  \n",
      " 0   ID                   2240 non-null   int64  \n",
      " 1   Year_Birth           2240 non-null   int64  \n",
      " 2   Education            2240 non-null   object \n",
      " 3   Marital_Status       2240 non-null   object \n",
      " 4   Income               2216 non-null   float64\n",
      " 5   Kidhome              2240 non-null   int64  \n",
      " 6   Teenhome             2240 non-null   int64  \n",
      " 7   Dt_Customer          2240 non-null   object \n",
      " 8   Recency              2240 non-null   int64  \n",
      " 9   MntWines             2240 non-null   int64  \n",
      " 10  MntFruits            2240 non-null   int64  \n",
      " 11  MntMeatProducts      2240 non-null   int64  \n",
      " 12  MntFishProducts      2240 non-null   int64  \n",
      " 13  MntSweetProducts     2240 non-null   int64  \n",
      " 14  MntGoldProds         2240 non-null   int64  \n",
      " 15  NumDealsPurchases    2240 non-null   int64  \n",
      " 16  NumWebPurchases      2240 non-null   int64  \n",
      " 17  NumCatalogPurchases  2240 non-null   int64  \n",
      " 18  NumStorePurchases    2240 non-null   int64  \n",
      " 19  NumWebVisitsMonth    2240 non-null   int64  \n",
      " 20  AcceptedCmp3         2240 non-null   int64  \n",
      " 21  AcceptedCmp4         2240 non-null   int64  \n",
      " 22  AcceptedCmp5         2240 non-null   int64  \n",
      " 23  AcceptedCmp1         2240 non-null   int64  \n",
      " 24  AcceptedCmp2         2240 non-null   int64  \n",
      " 25  Complain             2240 non-null   int64  \n",
      " 26  Z_CostContact        2240 non-null   int64  \n",
      " 27  Z_Revenue            2240 non-null   int64  \n",
      " 28  Response             2240 non-null   int64  \n",
      "dtypes: float64(1), int64(25), object(3)\n",
      "memory usage: 507.6+ KB\n"
     ]
    }
   ],
   "source": [
    "data.info() "
   ]
  },
  {
   "cell_type": "code",
   "execution_count": 6,
   "id": "dd00e23b",
   "metadata": {},
   "outputs": [
    {
     "data": {
      "text/plain": [
       "ID                      0\n",
       "Year_Birth              0\n",
       "Education               0\n",
       "Marital_Status          0\n",
       "Income                 24\n",
       "Kidhome                 0\n",
       "Teenhome                0\n",
       "Dt_Customer             0\n",
       "Recency                 0\n",
       "MntWines                0\n",
       "MntFruits               0\n",
       "MntMeatProducts         0\n",
       "MntFishProducts         0\n",
       "MntSweetProducts        0\n",
       "MntGoldProds            0\n",
       "NumDealsPurchases       0\n",
       "NumWebPurchases         0\n",
       "NumCatalogPurchases     0\n",
       "NumStorePurchases       0\n",
       "NumWebVisitsMonth       0\n",
       "AcceptedCmp3            0\n",
       "AcceptedCmp4            0\n",
       "AcceptedCmp5            0\n",
       "AcceptedCmp1            0\n",
       "AcceptedCmp2            0\n",
       "Complain                0\n",
       "Z_CostContact           0\n",
       "Z_Revenue               0\n",
       "Response                0\n",
       "dtype: int64"
      ]
     },
     "execution_count": 6,
     "metadata": {},
     "output_type": "execute_result"
    }
   ],
   "source": [
    "data.isnull().sum()"
   ]
  },
  {
   "cell_type": "markdown",
   "id": "afc22330",
   "metadata": {},
   "source": [
    "As there are only 24 null values, it seems logical to just drop the rows with missing data."
   ]
  },
  {
   "cell_type": "code",
   "execution_count": 7,
   "id": "7001446e",
   "metadata": {},
   "outputs": [],
   "source": [
    "data.dropna(inplace=True)"
   ]
  },
  {
   "cell_type": "code",
   "execution_count": 8,
   "id": "c58e9910",
   "metadata": {},
   "outputs": [
    {
     "data": {
      "text/plain": [
       "0"
      ]
     },
     "execution_count": 8,
     "metadata": {},
     "output_type": "execute_result"
    }
   ],
   "source": [
    "data.isnull().sum().sum()"
   ]
  },
  {
   "cell_type": "code",
   "execution_count": 9,
   "id": "cde8202c",
   "metadata": {},
   "outputs": [
    {
     "data": {
      "text/plain": [
       "Education\n",
       "Graduation    1116\n",
       "PhD            481\n",
       "Master         365\n",
       "2n Cycle       200\n",
       "Basic           54\n",
       "Name: count, dtype: int64"
      ]
     },
     "execution_count": 9,
     "metadata": {},
     "output_type": "execute_result"
    }
   ],
   "source": [
    "data[\"Education\"].value_counts()"
   ]
  },
  {
   "cell_type": "code",
   "execution_count": 56,
   "id": "e5c70beb",
   "metadata": {},
   "outputs": [
    {
     "data": {
      "text/plain": [
       "Marital_Status\n",
       "Married     857\n",
       "Together    572\n",
       "Single      470\n",
       "Divorced    231\n",
       "Widow        76\n",
       "Alone         3\n",
       "Absurd        2\n",
       "YOLO          2\n",
       "Name: count, dtype: int64"
      ]
     },
     "execution_count": 56,
     "metadata": {},
     "output_type": "execute_result"
    }
   ],
   "source": [
    "data[\"Marital_Status\"].value_counts()"
   ]
  },
  {
   "cell_type": "code",
   "execution_count": 10,
   "id": "965c9506",
   "metadata": {},
   "outputs": [],
   "source": [
    "data[\"Dt_Customer\"] = pd.to_datetime(data[\"Dt_Customer\"], dayfirst=True)"
   ]
  },
  {
   "cell_type": "code",
   "execution_count": 11,
   "id": "7df4abb2",
   "metadata": {},
   "outputs": [],
   "source": [
    "from datetime import datetime"
   ]
  },
  {
   "cell_type": "code",
   "execution_count": 12,
   "id": "d9dec767",
   "metadata": {},
   "outputs": [],
   "source": [
    "data[\"Age\"] = datetime.now().year - data[\"Year_Birth\"]"
   ]
  },
  {
   "cell_type": "code",
   "execution_count": 13,
   "id": "9364efaf",
   "metadata": {},
   "outputs": [],
   "source": [
    "data[\"Total_Children\"] = data[\"Kidhome\"] + data[\"Teenhome\"]"
   ]
  },
  {
   "cell_type": "code",
   "execution_count": 14,
   "id": "08a86ac2",
   "metadata": {},
   "outputs": [
    {
     "data": {
      "text/plain": [
       "Index(['ID', 'Year_Birth', 'Education', 'Marital_Status', 'Income', 'Kidhome',\n",
       "       'Teenhome', 'Dt_Customer', 'Recency', 'MntWines', 'MntFruits',\n",
       "       'MntMeatProducts', 'MntFishProducts', 'MntSweetProducts',\n",
       "       'MntGoldProds', 'NumDealsPurchases', 'NumWebPurchases',\n",
       "       'NumCatalogPurchases', 'NumStorePurchases', 'NumWebVisitsMonth',\n",
       "       'AcceptedCmp3', 'AcceptedCmp4', 'AcceptedCmp5', 'AcceptedCmp1',\n",
       "       'AcceptedCmp2', 'Complain', 'Z_CostContact', 'Z_Revenue', 'Response',\n",
       "       'Age', 'Total_Children'],\n",
       "      dtype='object')"
      ]
     },
     "execution_count": 14,
     "metadata": {},
     "output_type": "execute_result"
    }
   ],
   "source": [
    "data.columns"
   ]
  },
  {
   "cell_type": "code",
   "execution_count": 15,
   "id": "ced4e39b",
   "metadata": {},
   "outputs": [],
   "source": [
    "spending_cols = ['MntWines', 'MntFruits',\n",
    "       'MntMeatProducts', 'MntFishProducts', 'MntSweetProducts',\n",
    "       'MntGoldProds']"
   ]
  },
  {
   "cell_type": "code",
   "execution_count": 16,
   "id": "cbc23eaf",
   "metadata": {},
   "outputs": [],
   "source": [
    "data[\"Total_spending\"] = data[spending_cols].sum(axis=1)"
   ]
  },
  {
   "cell_type": "code",
   "execution_count": 17,
   "id": "5e5bb3d1",
   "metadata": {},
   "outputs": [],
   "source": [
    "data[\"Customer_since\"] = (datetime.now() - data[\"Dt_Customer\"]).dt.days"
   ]
  },
  {
   "cell_type": "markdown",
   "id": "a7aeed45",
   "metadata": {},
   "source": [
    "### Data Visualization"
   ]
  },
  {
   "cell_type": "markdown",
   "id": "641cbe9f",
   "metadata": {},
   "source": [
    "#### Distribution"
   ]
  },
  {
   "cell_type": "code",
   "execution_count": 18,
   "id": "a7497f1e",
   "metadata": {},
   "outputs": [
    {
     "data": {
      "application/vnd.plotly.v1+json": {
       "config": {
        "plotlyServerURL": "https://plot.ly"
       },
       "data": [
        {
         "bingroup": "x",
         "hovertemplate": "Age=%{x}<br>count=%{y}<extra></extra>",
         "legendgroup": "",
         "marker": {
          "color": "#636efa",
          "pattern": {
           "shape": ""
          }
         },
         "name": "",
         "nbinsx": 30,
         "orientation": "v",
         "showlegend": false,
         "type": "histogram",
         "x": {
          "bdata": "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",
          "dtype": "i2"
         },
         "xaxis": "x",
         "yaxis": "y"
        }
       ],
       "layout": {
        "barmode": "relative",
        "legend": {
         "tracegroupgap": 0
        },
        "template": {
         "data": {
          "bar": [
           {
            "error_x": {
             "color": "#2a3f5f"
            },
            "error_y": {
             "color": "#2a3f5f"
            },
            "marker": {
             "line": {
              "color": "#E5ECF6",
              "width": 0.5
             },
             "pattern": {
              "fillmode": "overlay",
              "size": 10,
              "solidity": 0.2
             }
            },
            "type": "bar"
           }
          ],
          "barpolar": [
           {
            "marker": {
             "line": {
              "color": "#E5ECF6",
              "width": 0.5
             },
             "pattern": {
              "fillmode": "overlay",
              "size": 10,
              "solidity": 0.2
             }
            },
            "type": "barpolar"
           }
          ],
          "carpet": [
           {
            "aaxis": {
             "endlinecolor": "#2a3f5f",
             "gridcolor": "white",
             "linecolor": "white",
             "minorgridcolor": "white",
             "startlinecolor": "#2a3f5f"
            },
            "baxis": {
             "endlinecolor": "#2a3f5f",
             "gridcolor": "white",
             "linecolor": "white",
             "minorgridcolor": "white",
             "startlinecolor": "#2a3f5f"
            },
            "type": "carpet"
           }
          ],
          "choropleth": [
           {
            "colorbar": {
             "outlinewidth": 0,
             "ticks": ""
            },
            "type": "choropleth"
           }
          ],
          "contour": [
           {
            "colorbar": {
             "outlinewidth": 0,
             "ticks": ""
            },
            "colorscale": [
             [
              0,
              "#0d0887"
             ],
             [
              0.1111111111111111,
              "#46039f"
             ],
             [
              0.2222222222222222,
              "#7201a8"
             ],
             [
              0.3333333333333333,
              "#9c179e"
             ],
             [
              0.4444444444444444,
              "#bd3786"
             ],
             [
              0.5555555555555556,
              "#d8576b"
             ],
             [
              0.6666666666666666,
              "#ed7953"
             ],
             [
              0.7777777777777778,
              "#fb9f3a"
             ],
             [
              0.8888888888888888,
              "#fdca26"
             ],
             [
              1,
              "#f0f921"
             ]
            ],
            "type": "contour"
           }
          ],
          "contourcarpet": [
           {
            "colorbar": {
             "outlinewidth": 0,
             "ticks": ""
            },
            "type": "contourcarpet"
           }
          ],
          "heatmap": [
           {
            "colorbar": {
             "outlinewidth": 0,
             "ticks": ""
            },
            "colorscale": [
             [
              0,
              "#0d0887"
             ],
             [
              0.1111111111111111,
              "#46039f"
             ],
             [
              0.2222222222222222,
              "#7201a8"
             ],
             [
              0.3333333333333333,
              "#9c179e"
             ],
             [
              0.4444444444444444,
              "#bd3786"
             ],
             [
              0.5555555555555556,
              "#d8576b"
             ],
             [
              0.6666666666666666,
              "#ed7953"
             ],
             [
              0.7777777777777778,
              "#fb9f3a"
             ],
             [
              0.8888888888888888,
              "#fdca26"
             ],
             [
              1,
              "#f0f921"
             ]
            ],
            "type": "heatmap"
           }
          ],
          "histogram": [
           {
            "marker": {
             "pattern": {
              "fillmode": "overlay",
              "size": 10,
              "solidity": 0.2
             }
            },
            "type": "histogram"
           }
          ],
          "histogram2d": [
           {
            "colorbar": {
             "outlinewidth": 0,
             "ticks": ""
            },
            "colorscale": [
             [
              0,
              "#0d0887"
             ],
             [
              0.1111111111111111,
              "#46039f"
             ],
             [
              0.2222222222222222,
              "#7201a8"
             ],
             [
              0.3333333333333333,
              "#9c179e"
             ],
             [
              0.4444444444444444,
              "#bd3786"
             ],
             [
              0.5555555555555556,
              "#d8576b"
             ],
             [
              0.6666666666666666,
              "#ed7953"
             ],
             [
              0.7777777777777778,
              "#fb9f3a"
             ],
             [
              0.8888888888888888,
              "#fdca26"
             ],
             [
              1,
              "#f0f921"
             ]
            ],
            "type": "histogram2d"
           }
          ],
          "histogram2dcontour": [
           {
            "colorbar": {
             "outlinewidth": 0,
             "ticks": ""
            },
            "colorscale": [
             [
              0,
              "#0d0887"
             ],
             [
              0.1111111111111111,
              "#46039f"
             ],
             [
              0.2222222222222222,
              "#7201a8"
             ],
             [
              0.3333333333333333,
              "#9c179e"
             ],
             [
              0.4444444444444444,
              "#bd3786"
             ],
             [
              0.5555555555555556,
              "#d8576b"
             ],
             [
              0.6666666666666666,
              "#ed7953"
             ],
             [
              0.7777777777777778,
              "#fb9f3a"
             ],
             [
              0.8888888888888888,
              "#fdca26"
             ],
             [
              1,
              "#f0f921"
             ]
            ],
            "type": "histogram2dcontour"
           }
          ],
          "mesh3d": [
           {
            "colorbar": {
             "outlinewidth": 0,
             "ticks": ""
            },
            "type": "mesh3d"
           }
          ],
          "parcoords": [
           {
            "line": {
             "colorbar": {
              "outlinewidth": 0,
              "ticks": ""
             }
            },
            "type": "parcoords"
           }
          ],
          "pie": [
           {
            "automargin": true,
            "type": "pie"
           }
          ],
          "scatter": [
           {
            "fillpattern": {
             "fillmode": "overlay",
             "size": 10,
             "solidity": 0.2
            },
            "type": "scatter"
           }
          ],
          "scatter3d": [
           {
            "line": {
             "colorbar": {
              "outlinewidth": 0,
              "ticks": ""
             }
            },
            "marker": {
             "colorbar": {
              "outlinewidth": 0,
              "ticks": ""
             }
            },
            "type": "scatter3d"
           }
          ],
          "scattercarpet": [
           {
            "marker": {
             "colorbar": {
              "outlinewidth": 0,
              "ticks": ""
             }
            },
            "type": "scattercarpet"
           }
          ],
          "scattergeo": [
           {
            "marker": {
             "colorbar": {
              "outlinewidth": 0,
              "ticks": ""
             }
            },
            "type": "scattergeo"
           }
          ],
          "scattergl": [
           {
            "marker": {
             "colorbar": {
              "outlinewidth": 0,
              "ticks": ""
             }
            },
            "type": "scattergl"
           }
          ],
          "scattermap": [
           {
            "marker": {
             "colorbar": {
              "outlinewidth": 0,
              "ticks": ""
             }
            },
            "type": "scattermap"
           }
          ],
          "scattermapbox": [
           {
            "marker": {
             "colorbar": {
              "outlinewidth": 0,
              "ticks": ""
             }
            },
            "type": "scattermapbox"
           }
          ],
          "scatterpolar": [
           {
            "marker": {
             "colorbar": {
              "outlinewidth": 0,
              "ticks": ""
             }
            },
            "type": "scatterpolar"
           }
          ],
          "scatterpolargl": [
           {
            "marker": {
             "colorbar": {
              "outlinewidth": 0,
              "ticks": ""
             }
            },
            "type": "scatterpolargl"
           }
          ],
          "scatterternary": [
           {
            "marker": {
             "colorbar": {
              "outlinewidth": 0,
              "ticks": ""
             }
            },
            "type": "scatterternary"
           }
          ],
          "surface": [
           {
            "colorbar": {
             "outlinewidth": 0,
             "ticks": ""
            },
            "colorscale": [
             [
              0,
              "#0d0887"
             ],
             [
              0.1111111111111111,
              "#46039f"
             ],
             [
              0.2222222222222222,
              "#7201a8"
             ],
             [
              0.3333333333333333,
              "#9c179e"
             ],
             [
              0.4444444444444444,
              "#bd3786"
             ],
             [
              0.5555555555555556,
              "#d8576b"
             ],
             [
              0.6666666666666666,
              "#ed7953"
             ],
             [
              0.7777777777777778,
              "#fb9f3a"
             ],
             [
              0.8888888888888888,
              "#fdca26"
             ],
             [
              1,
              "#f0f921"
             ]
            ],
            "type": "surface"
           }
          ],
          "table": [
           {
            "cells": {
             "fill": {
              "color": "#EBF0F8"
             },
             "line": {
              "color": "white"
             }
            },
            "header": {
             "fill": {
              "color": "#C8D4E3"
             },
             "line": {
              "color": "white"
             }
            },
            "type": "table"
           }
          ]
         },
         "layout": {
          "annotationdefaults": {
           "arrowcolor": "#2a3f5f",
           "arrowhead": 0,
           "arrowwidth": 1
          },
          "autotypenumbers": "strict",
          "coloraxis": {
           "colorbar": {
            "outlinewidth": 0,
            "ticks": ""
           }
          },
          "colorscale": {
           "diverging": [
            [
             0,
             "#8e0152"
            ],
            [
             0.1,
             "#c51b7d"
            ],
            [
             0.2,
             "#de77ae"
            ],
            [
             0.3,
             "#f1b6da"
            ],
            [
             0.4,
             "#fde0ef"
            ],
            [
             0.5,
             "#f7f7f7"
            ],
            [
             0.6,
             "#e6f5d0"
            ],
            [
             0.7,
             "#b8e186"
            ],
            [
             0.8,
             "#7fbc41"
            ],
            [
             0.9,
             "#4d9221"
            ],
            [
             1,
             "#276419"
            ]
           ],
           "sequential": [
            [
             0,
             "#0d0887"
            ],
            [
             0.1111111111111111,
             "#46039f"
            ],
            [
             0.2222222222222222,
             "#7201a8"
            ],
            [
             0.3333333333333333,
             "#9c179e"
            ],
            [
             0.4444444444444444,
             "#bd3786"
            ],
            [
             0.5555555555555556,
             "#d8576b"
            ],
            [
             0.6666666666666666,
             "#ed7953"
            ],
            [
             0.7777777777777778,
             "#fb9f3a"
            ],
            [
             0.8888888888888888,
             "#fdca26"
            ],
            [
             1,
             "#f0f921"
            ]
           ],
           "sequentialminus": [
            [
             0,
             "#0d0887"
            ],
            [
             0.1111111111111111,
             "#46039f"
            ],
            [
             0.2222222222222222,
             "#7201a8"
            ],
            [
             0.3333333333333333,
             "#9c179e"
            ],
            [
             0.4444444444444444,
             "#bd3786"
            ],
            [
             0.5555555555555556,
             "#d8576b"
            ],
            [
             0.6666666666666666,
             "#ed7953"
            ],
            [
             0.7777777777777778,
             "#fb9f3a"
            ],
            [
             0.8888888888888888,
             "#fdca26"
            ],
            [
             1,
             "#f0f921"
            ]
           ]
          },
          "colorway": [
           "#636efa",
           "#EF553B",
           "#00cc96",
           "#ab63fa",
           "#FFA15A",
           "#19d3f3",
           "#FF6692",
           "#B6E880",
           "#FF97FF",
           "#FECB52"
          ],
          "font": {
           "color": "#2a3f5f"
          },
          "geo": {
           "bgcolor": "white",
           "lakecolor": "white",
           "landcolor": "#E5ECF6",
           "showlakes": true,
           "showland": true,
           "subunitcolor": "white"
          },
          "hoverlabel": {
           "align": "left"
          },
          "hovermode": "closest",
          "mapbox": {
           "style": "light"
          },
          "paper_bgcolor": "white",
          "plot_bgcolor": "#E5ECF6",
          "polar": {
           "angularaxis": {
            "gridcolor": "white",
            "linecolor": "white",
            "ticks": ""
           },
           "bgcolor": "#E5ECF6",
           "radialaxis": {
            "gridcolor": "white",
            "linecolor": "white",
            "ticks": ""
           }
          },
          "scene": {
           "xaxis": {
            "backgroundcolor": "#E5ECF6",
            "gridcolor": "white",
            "gridwidth": 2,
            "linecolor": "white",
            "showbackground": true,
            "ticks": "",
            "zerolinecolor": "white"
           },
           "yaxis": {
            "backgroundcolor": "#E5ECF6",
            "gridcolor": "white",
            "gridwidth": 2,
            "linecolor": "white",
            "showbackground": true,
            "ticks": "",
            "zerolinecolor": "white"
           },
           "zaxis": {
            "backgroundcolor": "#E5ECF6",
            "gridcolor": "white",
            "gridwidth": 2,
            "linecolor": "white",
            "showbackground": true,
            "ticks": "",
            "zerolinecolor": "white"
           }
          },
          "shapedefaults": {
           "line": {
            "color": "#2a3f5f"
           }
          },
          "ternary": {
           "aaxis": {
            "gridcolor": "white",
            "linecolor": "white",
            "ticks": ""
           },
           "baxis": {
            "gridcolor": "white",
            "linecolor": "white",
            "ticks": ""
           },
           "bgcolor": "#E5ECF6",
           "caxis": {
            "gridcolor": "white",
            "linecolor": "white",
            "ticks": ""
           }
          },
          "title": {
           "x": 0.05
          },
          "xaxis": {
           "automargin": true,
           "gridcolor": "white",
           "linecolor": "white",
           "ticks": "",
           "title": {
            "standoff": 15
           },
           "zerolinecolor": "white",
           "zerolinewidth": 2
          },
          "yaxis": {
           "automargin": true,
           "gridcolor": "white",
           "linecolor": "white",
           "ticks": "",
           "title": {
            "standoff": 15
           },
           "zerolinecolor": "white",
           "zerolinewidth": 2
          }
         }
        },
        "title": {
         "text": "Age Distribution"
        },
        "xaxis": {
         "anchor": "y",
         "domain": [
          0,
          1
         ],
         "title": {
          "text": "Age"
         }
        },
        "yaxis": {
         "anchor": "x",
         "domain": [
          0,
          1
         ],
         "title": {
          "text": "count"
         }
        }
       }
      }
     },
     "metadata": {},
     "output_type": "display_data"
    }
   ],
   "source": [
    "px.histogram(data, x=\"Age\", nbins=30, title=\"Age Distribution\").show()"
   ]
  },
  {
   "cell_type": "markdown",
   "id": "c35c953c",
   "metadata": {},
   "source": [
    "We can see that some data show ages of 125+, which seems like an input error or a purposefully false data. I suggest we drop these rows."
   ]
  },
  {
   "cell_type": "code",
   "execution_count": 19,
   "id": "f7b2eaba",
   "metadata": {},
   "outputs": [],
   "source": [
    "data = data[data[\"Age\"] <= 120]"
   ]
  },
  {
   "cell_type": "code",
   "execution_count": 20,
   "id": "be4a2a99",
   "metadata": {},
   "outputs": [
    {
     "data": {
      "application/vnd.plotly.v1+json": {
       "config": {
        "plotlyServerURL": "https://plot.ly"
       },
       "data": [
        {
         "bingroup": "x",
         "hovertemplate": "Age=%{x}<br>count=%{y}<extra></extra>",
         "legendgroup": "",
         "marker": {
          "color": "#636efa",
          "pattern": {
           "shape": ""
          }
         },
         "name": "",
         "nbinsx": 30,
         "orientation": "v",
         "showlegend": false,
         "type": "histogram",
         "x": {
          "bdata": "REc8KSw6NigzSzFCSSZPLU9MKCsuTEdKODEkPCQ+N0lPSjcxNFItKEQyMR05R0Q9MDAvRjslOSsySUpNNjouQzdHQjJJMDUxMTwoODQ+JkE3RDQ6NTcqQTVKKkFCLlBCLj04L0EuIj4iLT83Lzo4SDooMSo8KUhFSUM4PToxQjQ8ITE/MyUxMiw0O0g4NSVJTEMvMEZDUCkyNDtIQiVEPCs3QjoyTTdCSjElTylAKjc7MT0vJCU0MC1HRzRJOS8wPCklPjtHRUc5MygwL01HLSU4Ny0/LzFJNSc7PzZKPDIrQzQ5QzYjQz01SCU4MigzQzozQD09RC45Ny9JOz43NzdIKjJBPj5FLCc5LDFPMzIzSUU7TCk4LTY8SSUnKzxDRS8lKUA7Tj0hMToxO0U1KEo2MzxASEQxKUsnKiRFNipBOTU8JSc4SzRJPDc2MUQnOzMxL0Y4Uk1EOC8vOjhBMT8yKTI3OzUyNyRAODgoRzQsNjlBTDkuLiBPOSI2KSYtRTwzQUY8NTYzPisxRiY/UjIfLDY0KiszVEgnJCQ5QCQ6PTdFO0w2JyRNTyQzQjU9MUhGODYtMTU7KUkrPUxDPjI4RjdKNjItLC8lRTUwNTA0NTMyQT0xMzhJQzFGPVE/LzZMUUtAIyhFSDEkIUIsLj1CTzJAI0JRPCYiSCYnQzA9QTI4MD8rSjo6SSwwOCkrMSM9LTk0PiQ2PkxJLys3Qi8tNjc+Sz9KLjczOS83LDA5NztFM0o6Sio2RkBGQikyPDA1Mjg4LyxAQUZNOyc0RTI8OFE0OjgzPDEvQUA2TC9GMTJBMDA3QzdBND9JP0s2QU1CPU42NzcwQ0EoM0tGMkhDTjs+KDItRUIzJjk2PT83LTIzPi4oLT46K0Y6MTUrJDhBN0NJTEAeTEBBNC8vJTknN0pNNic8MkgrMkEvN0M8Ryk8MTtGMTwiTEgvTTRMNEkkOEhFSy89STIeN0c1QzI4Li81PS5CLDolL0lGMCY8RS5KPDVESDxDRjYzMTc1NSdBOS8xUERLL0A/Rzw0OTdFSlFDMTZENTUsNTJGJzcxRzUvLTVAPkJCRz9DKTEhOi06RTUtLTBLMyUsQTciRT4tM0dEOzMuNCg7JDg4JiQyNDsnLy4qQjEsL0g2KkUvNTIyLDU3SEI/LzQ8KiJSNUVDMydDNzo0ODBANjMnOyE+NR9HQStHR0YgOE0nLi8rIDEzJEokSTY2NzYyST8qSCcmKy4wMi4xNDYxMTxJNEQ6PzgyLUI0NDMtJTklQjY/QjxJR0E8Li9LMy84MUVHNSwkRx4vRDRFRSYsJkdHSEk5Pi4xLzk2Sjw4NDE0M0g7LzovJkM9NjY4MDQtQzU2SEJHIj8nPDtBKTs8O0w3KigzSkkmTEMmND1AITxFLzY7RkhDQCwxOS88NkUrNzA3QypDNDNCNTwuQycrLjIuJzc1QUk3MzxHKjRBKTYqKjsvOS40Lkc/OzAoSUo6LzEoMzk/JEBIJC8/UDMsRUcnUj0uM0E+MTNASjxFPB8zNTk5TTgdMyNELkFJLCwiS0RAQzYoPEk/Mzc4QUk4OTw4NUAwQkMuREU8I0Q8REY1ODUyPD4iPic0RCxDQkYnMkY2Jy8qMTZFNSRJKTo/Ti82ITk0MjxJOjU+N0YyMTg0KitBSTI+N01DUT41Ozk2Mj0vMio2REpKNzU4NTZFNjQwPkcvO08vNkgoNy47MTwrNUFFPEYkPzw0NSlBQzkwMz8rMitQLjg/TS8yKypJKz8wTCMrMkIqMT9FICY8Kz8vTz42OSEzSzBDMTQ5QzJBPEE4QTIoNkZFNE0xLS41NDUyNUUzNTk4QDVIRDc6SkhLSDA1OFEjLjtNNTQ1NTs4QjczNUM1KjQoNDouQCc9KklMLk1PQzZEKzQ1PEg6PDg2NTczS0JGLyc+SElLNzcwOzhDR0U3JkAuQSwtMTE3T0Y1NkslLyNCMDhCJTI0MDRGMzUyNkMlMjwnMC0/LzU3KjYxNDQxTUMmQTJDMjIlJSRCNjokQC9IPScmPkQySjxFPzM6PzFAMSoxJUcoST1HS0RPRyInMEErTiExRU5LOyY0STwtJj9GJTw6NEEpNjI8RUZBQD4wIzQ9JS8jMjApKiY8RTw2K0I+STY+KzFOOEIvTUZHUDgxOD0sLixBMyw6SytAPjBOL0dHNSxDOTE7JCg6Qjc6KEonRjciMi4xLS82RipJOC05NiRKJigsI0k2KkRKMUYkNDQpRTwvNCdCLzshKUUwMzEuKiI/Ky5GPEBKPUJGO0NHOj5CNj0qUE44SU5POExAMy1MNi45NkY1PS4yMCdFLStAMjNPKEk6RigwNCkuMTlCNjo0Ki4uSz4/MUlBRjA9LDEzSjtKQzs9RTM7PjghRyorSkVAPzY2OS84PCdDMiZCPzMwLzdERkcrSDlEPDI+IzslHjIvQCk2SjE1KDsyLjYrNDkpNjA6PTVNSSZCQ0oyKTg5OCgpRDYyKyUkKDkzTC9HUEs9KiY2OUc2J0ItQTc2Oj45IywxPDA1RVJCMDg3RDwzTis5SjJFTEI0KUswKTFKKzM5R1UxSjE9SzFFI0s8Py9JO041PkwvOyo2MjY4PjkuKSkzSj8yRC8iJ0U+Nk5DQS0yMjQtNzo3OzUwNz1CO0MnMCxDMio6SjUvK0VJPC48SEwoTkYxMilLMEopKyI3LC42N0I0N05KMkJGSDw0MUs4Ky8zSk1JKS5MRTgmKjcwQTRBJTghQi02MzgxIExLMkUxMjFMKTM1Jz83TEBGLEgzRzgsST82MTEtRUQ1Oyc8MzExTC1EPDg3RzszNjlENEQ2QTQ/QzUxODEqPTJGPD0tREwhM0cjKSw8NzJKRjI6NDZGMzU9L0RBNUVENSo2TkRESTM0RzIjODQvIzktRz4+RixLHjFHKk0vKC4rLj43OS4/NSk3JzAzOk8sRUc=",
          "dtype": "i1"
         },
         "xaxis": "x",
         "yaxis": "y"
        }
       ],
       "layout": {
        "barmode": "relative",
        "legend": {
         "tracegroupgap": 0
        },
        "template": {
         "data": {
          "bar": [
           {
            "error_x": {
             "color": "#2a3f5f"
            },
            "error_y": {
             "color": "#2a3f5f"
            },
            "marker": {
             "line": {
              "color": "#E5ECF6",
              "width": 0.5
             },
             "pattern": {
              "fillmode": "overlay",
              "size": 10,
              "solidity": 0.2
             }
            },
            "type": "bar"
           }
          ],
          "barpolar": [
           {
            "marker": {
             "line": {
              "color": "#E5ECF6",
              "width": 0.5
             },
             "pattern": {
              "fillmode": "overlay",
              "size": 10,
              "solidity": 0.2
             }
            },
            "type": "barpolar"
           }
          ],
          "carpet": [
           {
            "aaxis": {
             "endlinecolor": "#2a3f5f",
             "gridcolor": "white",
             "linecolor": "white",
             "minorgridcolor": "white",
             "startlinecolor": "#2a3f5f"
            },
            "baxis": {
             "endlinecolor": "#2a3f5f",
             "gridcolor": "white",
             "linecolor": "white",
             "minorgridcolor": "white",
             "startlinecolor": "#2a3f5f"
            },
            "type": "carpet"
           }
          ],
          "choropleth": [
           {
            "colorbar": {
             "outlinewidth": 0,
             "ticks": ""
            },
            "type": "choropleth"
           }
          ],
          "contour": [
           {
            "colorbar": {
             "outlinewidth": 0,
             "ticks": ""
            },
            "colorscale": [
             [
              0,
              "#0d0887"
             ],
             [
              0.1111111111111111,
              "#46039f"
             ],
             [
              0.2222222222222222,
              "#7201a8"
             ],
             [
              0.3333333333333333,
              "#9c179e"
             ],
             [
              0.4444444444444444,
              "#bd3786"
             ],
             [
              0.5555555555555556,
              "#d8576b"
             ],
             [
              0.6666666666666666,
              "#ed7953"
             ],
             [
              0.7777777777777778,
              "#fb9f3a"
             ],
             [
              0.8888888888888888,
              "#fdca26"
             ],
             [
              1,
              "#f0f921"
             ]
            ],
            "type": "contour"
           }
          ],
          "contourcarpet": [
           {
            "colorbar": {
             "outlinewidth": 0,
             "ticks": ""
            },
            "type": "contourcarpet"
           }
          ],
          "heatmap": [
           {
            "colorbar": {
             "outlinewidth": 0,
             "ticks": ""
            },
            "colorscale": [
             [
              0,
              "#0d0887"
             ],
             [
              0.1111111111111111,
              "#46039f"
             ],
             [
              0.2222222222222222,
              "#7201a8"
             ],
             [
              0.3333333333333333,
              "#9c179e"
             ],
             [
              0.4444444444444444,
              "#bd3786"
             ],
             [
              0.5555555555555556,
              "#d8576b"
             ],
             [
              0.6666666666666666,
              "#ed7953"
             ],
             [
              0.7777777777777778,
              "#fb9f3a"
             ],
             [
              0.8888888888888888,
              "#fdca26"
             ],
             [
              1,
              "#f0f921"
             ]
            ],
            "type": "heatmap"
           }
          ],
          "histogram": [
           {
            "marker": {
             "pattern": {
              "fillmode": "overlay",
              "size": 10,
              "solidity": 0.2
             }
            },
            "type": "histogram"
           }
          ],
          "histogram2d": [
           {
            "colorbar": {
             "outlinewidth": 0,
             "ticks": ""
            },
            "colorscale": [
             [
              0,
              "#0d0887"
             ],
             [
              0.1111111111111111,
              "#46039f"
             ],
             [
              0.2222222222222222,
              "#7201a8"
             ],
             [
              0.3333333333333333,
              "#9c179e"
             ],
             [
              0.4444444444444444,
              "#bd3786"
             ],
             [
              0.5555555555555556,
              "#d8576b"
             ],
             [
              0.6666666666666666,
              "#ed7953"
             ],
             [
              0.7777777777777778,
              "#fb9f3a"
             ],
             [
              0.8888888888888888,
              "#fdca26"
             ],
             [
              1,
              "#f0f921"
             ]
            ],
            "type": "histogram2d"
           }
          ],
          "histogram2dcontour": [
           {
            "colorbar": {
             "outlinewidth": 0,
             "ticks": ""
            },
            "colorscale": [
             [
              0,
              "#0d0887"
             ],
             [
              0.1111111111111111,
              "#46039f"
             ],
             [
              0.2222222222222222,
              "#7201a8"
             ],
             [
              0.3333333333333333,
              "#9c179e"
             ],
             [
              0.4444444444444444,
              "#bd3786"
             ],
             [
              0.5555555555555556,
              "#d8576b"
             ],
             [
              0.6666666666666666,
              "#ed7953"
             ],
             [
              0.7777777777777778,
              "#fb9f3a"
             ],
             [
              0.8888888888888888,
              "#fdca26"
             ],
             [
              1,
              "#f0f921"
             ]
            ],
            "type": "histogram2dcontour"
           }
          ],
          "mesh3d": [
           {
            "colorbar": {
             "outlinewidth": 0,
             "ticks": ""
            },
            "type": "mesh3d"
           }
          ],
          "parcoords": [
           {
            "line": {
             "colorbar": {
              "outlinewidth": 0,
              "ticks": ""
             }
            },
            "type": "parcoords"
           }
          ],
          "pie": [
           {
            "automargin": true,
            "type": "pie"
           }
          ],
          "scatter": [
           {
            "fillpattern": {
             "fillmode": "overlay",
             "size": 10,
             "solidity": 0.2
            },
            "type": "scatter"
           }
          ],
          "scatter3d": [
           {
            "line": {
             "colorbar": {
              "outlinewidth": 0,
              "ticks": ""
             }
            },
            "marker": {
             "colorbar": {
              "outlinewidth": 0,
              "ticks": ""
             }
            },
            "type": "scatter3d"
           }
          ],
          "scattercarpet": [
           {
            "marker": {
             "colorbar": {
              "outlinewidth": 0,
              "ticks": ""
             }
            },
            "type": "scattercarpet"
           }
          ],
          "scattergeo": [
           {
            "marker": {
             "colorbar": {
              "outlinewidth": 0,
              "ticks": ""
             }
            },
            "type": "scattergeo"
           }
          ],
          "scattergl": [
           {
            "marker": {
             "colorbar": {
              "outlinewidth": 0,
              "ticks": ""
             }
            },
            "type": "scattergl"
           }
          ],
          "scattermap": [
           {
            "marker": {
             "colorbar": {
              "outlinewidth": 0,
              "ticks": ""
             }
            },
            "type": "scattermap"
           }
          ],
          "scattermapbox": [
           {
            "marker": {
             "colorbar": {
              "outlinewidth": 0,
              "ticks": ""
             }
            },
            "type": "scattermapbox"
           }
          ],
          "scatterpolar": [
           {
            "marker": {
             "colorbar": {
              "outlinewidth": 0,
              "ticks": ""
             }
            },
            "type": "scatterpolar"
           }
          ],
          "scatterpolargl": [
           {
            "marker": {
             "colorbar": {
              "outlinewidth": 0,
              "ticks": ""
             }
            },
            "type": "scatterpolargl"
           }
          ],
          "scatterternary": [
           {
            "marker": {
             "colorbar": {
              "outlinewidth": 0,
              "ticks": ""
             }
            },
            "type": "scatterternary"
           }
          ],
          "surface": [
           {
            "colorbar": {
             "outlinewidth": 0,
             "ticks": ""
            },
            "colorscale": [
             [
              0,
              "#0d0887"
             ],
             [
              0.1111111111111111,
              "#46039f"
             ],
             [
              0.2222222222222222,
              "#7201a8"
             ],
             [
              0.3333333333333333,
              "#9c179e"
             ],
             [
              0.4444444444444444,
              "#bd3786"
             ],
             [
              0.5555555555555556,
              "#d8576b"
             ],
             [
              0.6666666666666666,
              "#ed7953"
             ],
             [
              0.7777777777777778,
              "#fb9f3a"
             ],
             [
              0.8888888888888888,
              "#fdca26"
             ],
             [
              1,
              "#f0f921"
             ]
            ],
            "type": "surface"
           }
          ],
          "table": [
           {
            "cells": {
             "fill": {
              "color": "#EBF0F8"
             },
             "line": {
              "color": "white"
             }
            },
            "header": {
             "fill": {
              "color": "#C8D4E3"
             },
             "line": {
              "color": "white"
             }
            },
            "type": "table"
           }
          ]
         },
         "layout": {
          "annotationdefaults": {
           "arrowcolor": "#2a3f5f",
           "arrowhead": 0,
           "arrowwidth": 1
          },
          "autotypenumbers": "strict",
          "coloraxis": {
           "colorbar": {
            "outlinewidth": 0,
            "ticks": ""
           }
          },
          "colorscale": {
           "diverging": [
            [
             0,
             "#8e0152"
            ],
            [
             0.1,
             "#c51b7d"
            ],
            [
             0.2,
             "#de77ae"
            ],
            [
             0.3,
             "#f1b6da"
            ],
            [
             0.4,
             "#fde0ef"
            ],
            [
             0.5,
             "#f7f7f7"
            ],
            [
             0.6,
             "#e6f5d0"
            ],
            [
             0.7,
             "#b8e186"
            ],
            [
             0.8,
             "#7fbc41"
            ],
            [
             0.9,
             "#4d9221"
            ],
            [
             1,
             "#276419"
            ]
           ],
           "sequential": [
            [
             0,
             "#0d0887"
            ],
            [
             0.1111111111111111,
             "#46039f"
            ],
            [
             0.2222222222222222,
             "#7201a8"
            ],
            [
             0.3333333333333333,
             "#9c179e"
            ],
            [
             0.4444444444444444,
             "#bd3786"
            ],
            [
             0.5555555555555556,
             "#d8576b"
            ],
            [
             0.6666666666666666,
             "#ed7953"
            ],
            [
             0.7777777777777778,
             "#fb9f3a"
            ],
            [
             0.8888888888888888,
             "#fdca26"
            ],
            [
             1,
             "#f0f921"
            ]
           ],
           "sequentialminus": [
            [
             0,
             "#0d0887"
            ],
            [
             0.1111111111111111,
             "#46039f"
            ],
            [
             0.2222222222222222,
             "#7201a8"
            ],
            [
             0.3333333333333333,
             "#9c179e"
            ],
            [
             0.4444444444444444,
             "#bd3786"
            ],
            [
             0.5555555555555556,
             "#d8576b"
            ],
            [
             0.6666666666666666,
             "#ed7953"
            ],
            [
             0.7777777777777778,
             "#fb9f3a"
            ],
            [
             0.8888888888888888,
             "#fdca26"
            ],
            [
             1,
             "#f0f921"
            ]
           ]
          },
          "colorway": [
           "#636efa",
           "#EF553B",
           "#00cc96",
           "#ab63fa",
           "#FFA15A",
           "#19d3f3",
           "#FF6692",
           "#B6E880",
           "#FF97FF",
           "#FECB52"
          ],
          "font": {
           "color": "#2a3f5f"
          },
          "geo": {
           "bgcolor": "white",
           "lakecolor": "white",
           "landcolor": "#E5ECF6",
           "showlakes": true,
           "showland": true,
           "subunitcolor": "white"
          },
          "hoverlabel": {
           "align": "left"
          },
          "hovermode": "closest",
          "mapbox": {
           "style": "light"
          },
          "paper_bgcolor": "white",
          "plot_bgcolor": "#E5ECF6",
          "polar": {
           "angularaxis": {
            "gridcolor": "white",
            "linecolor": "white",
            "ticks": ""
           },
           "bgcolor": "#E5ECF6",
           "radialaxis": {
            "gridcolor": "white",
            "linecolor": "white",
            "ticks": ""
           }
          },
          "scene": {
           "xaxis": {
            "backgroundcolor": "#E5ECF6",
            "gridcolor": "white",
            "gridwidth": 2,
            "linecolor": "white",
            "showbackground": true,
            "ticks": "",
            "zerolinecolor": "white"
           },
           "yaxis": {
            "backgroundcolor": "#E5ECF6",
            "gridcolor": "white",
            "gridwidth": 2,
            "linecolor": "white",
            "showbackground": true,
            "ticks": "",
            "zerolinecolor": "white"
           },
           "zaxis": {
            "backgroundcolor": "#E5ECF6",
            "gridcolor": "white",
            "gridwidth": 2,
            "linecolor": "white",
            "showbackground": true,
            "ticks": "",
            "zerolinecolor": "white"
           }
          },
          "shapedefaults": {
           "line": {
            "color": "#2a3f5f"
           }
          },
          "ternary": {
           "aaxis": {
            "gridcolor": "white",
            "linecolor": "white",
            "ticks": ""
           },
           "baxis": {
            "gridcolor": "white",
            "linecolor": "white",
            "ticks": ""
           },
           "bgcolor": "#E5ECF6",
           "caxis": {
            "gridcolor": "white",
            "linecolor": "white",
            "ticks": ""
           }
          },
          "title": {
           "x": 0.05
          },
          "xaxis": {
           "automargin": true,
           "gridcolor": "white",
           "linecolor": "white",
           "ticks": "",
           "title": {
            "standoff": 15
           },
           "zerolinecolor": "white",
           "zerolinewidth": 2
          },
          "yaxis": {
           "automargin": true,
           "gridcolor": "white",
           "linecolor": "white",
           "ticks": "",
           "title": {
            "standoff": 15
           },
           "zerolinecolor": "white",
           "zerolinewidth": 2
          }
         }
        },
        "title": {
         "text": "Age Distribution"
        },
        "xaxis": {
         "anchor": "y",
         "domain": [
          0,
          1
         ],
         "title": {
          "text": "Age"
         }
        },
        "yaxis": {
         "anchor": "x",
         "domain": [
          0,
          1
         ],
         "title": {
          "text": "count"
         }
        }
       }
      }
     },
     "metadata": {},
     "output_type": "display_data"
    }
   ],
   "source": [
    "px.histogram(data, x=\"Age\", nbins=30, title=\"Age Distribution\").show()"
   ]
  },
  {
   "cell_type": "markdown",
   "id": "e1ed7849",
   "metadata": {},
   "source": [
    "Now the distribution graph seems much neater and more realistic"
   ]
  },
  {
   "cell_type": "code",
   "execution_count": 21,
   "id": "7022282a",
   "metadata": {},
   "outputs": [
    {
     "data": {
      "application/vnd.plotly.v1+json": {
       "config": {
        "plotlyServerURL": "https://plot.ly"
       },
       "data": [
        {
         "bingroup": "x",
         "hovertemplate": "Income=%{x}<br>count=%{y}<extra></extra>",
         "legendgroup": "",
         "marker": {
          "color": "#636efa",
          "pattern": {
           "shape": ""
          }
         },
         "name": "",
         "nbinsx": 50,
         "orientation": "v",
         "showlegend": false,
         "type": "histogram",
         "x": {
          "bdata": "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",
          "dtype": "f8"
         },
         "xaxis": "x",
         "yaxis": "y"
        }
       ],
       "layout": {
        "barmode": "relative",
        "legend": {
         "tracegroupgap": 0
        },
        "template": {
         "data": {
          "bar": [
           {
            "error_x": {
             "color": "#2a3f5f"
            },
            "error_y": {
             "color": "#2a3f5f"
            },
            "marker": {
             "line": {
              "color": "#E5ECF6",
              "width": 0.5
             },
             "pattern": {
              "fillmode": "overlay",
              "size": 10,
              "solidity": 0.2
             }
            },
            "type": "bar"
           }
          ],
          "barpolar": [
           {
            "marker": {
             "line": {
              "color": "#E5ECF6",
              "width": 0.5
             },
             "pattern": {
              "fillmode": "overlay",
              "size": 10,
              "solidity": 0.2
             }
            },
            "type": "barpolar"
           }
          ],
          "carpet": [
           {
            "aaxis": {
             "endlinecolor": "#2a3f5f",
             "gridcolor": "white",
             "linecolor": "white",
             "minorgridcolor": "white",
             "startlinecolor": "#2a3f5f"
            },
            "baxis": {
             "endlinecolor": "#2a3f5f",
             "gridcolor": "white",
             "linecolor": "white",
             "minorgridcolor": "white",
             "startlinecolor": "#2a3f5f"
            },
            "type": "carpet"
           }
          ],
          "choropleth": [
           {
            "colorbar": {
             "outlinewidth": 0,
             "ticks": ""
            },
            "type": "choropleth"
           }
          ],
          "contour": [
           {
            "colorbar": {
             "outlinewidth": 0,
             "ticks": ""
            },
            "colorscale": [
             [
              0,
              "#0d0887"
             ],
             [
              0.1111111111111111,
              "#46039f"
             ],
             [
              0.2222222222222222,
              "#7201a8"
             ],
             [
              0.3333333333333333,
              "#9c179e"
             ],
             [
              0.4444444444444444,
              "#bd3786"
             ],
             [
              0.5555555555555556,
              "#d8576b"
             ],
             [
              0.6666666666666666,
              "#ed7953"
             ],
             [
              0.7777777777777778,
              "#fb9f3a"
             ],
             [
              0.8888888888888888,
              "#fdca26"
             ],
             [
              1,
              "#f0f921"
             ]
            ],
            "type": "contour"
           }
          ],
          "contourcarpet": [
           {
            "colorbar": {
             "outlinewidth": 0,
             "ticks": ""
            },
            "type": "contourcarpet"
           }
          ],
          "heatmap": [
           {
            "colorbar": {
             "outlinewidth": 0,
             "ticks": ""
            },
            "colorscale": [
             [
              0,
              "#0d0887"
             ],
             [
              0.1111111111111111,
              "#46039f"
             ],
             [
              0.2222222222222222,
              "#7201a8"
             ],
             [
              0.3333333333333333,
              "#9c179e"
             ],
             [
              0.4444444444444444,
              "#bd3786"
             ],
             [
              0.5555555555555556,
              "#d8576b"
             ],
             [
              0.6666666666666666,
              "#ed7953"
             ],
             [
              0.7777777777777778,
              "#fb9f3a"
             ],
             [
              0.8888888888888888,
              "#fdca26"
             ],
             [
              1,
              "#f0f921"
             ]
            ],
            "type": "heatmap"
           }
          ],
          "histogram": [
           {
            "marker": {
             "pattern": {
              "fillmode": "overlay",
              "size": 10,
              "solidity": 0.2
             }
            },
            "type": "histogram"
           }
          ],
          "histogram2d": [
           {
            "colorbar": {
             "outlinewidth": 0,
             "ticks": ""
            },
            "colorscale": [
             [
              0,
              "#0d0887"
             ],
             [
              0.1111111111111111,
              "#46039f"
             ],
             [
              0.2222222222222222,
              "#7201a8"
             ],
             [
              0.3333333333333333,
              "#9c179e"
             ],
             [
              0.4444444444444444,
              "#bd3786"
             ],
             [
              0.5555555555555556,
              "#d8576b"
             ],
             [
              0.6666666666666666,
              "#ed7953"
             ],
             [
              0.7777777777777778,
              "#fb9f3a"
             ],
             [
              0.8888888888888888,
              "#fdca26"
             ],
             [
              1,
              "#f0f921"
             ]
            ],
            "type": "histogram2d"
           }
          ],
          "histogram2dcontour": [
           {
            "colorbar": {
             "outlinewidth": 0,
             "ticks": ""
            },
            "colorscale": [
             [
              0,
              "#0d0887"
             ],
             [
              0.1111111111111111,
              "#46039f"
             ],
             [
              0.2222222222222222,
              "#7201a8"
             ],
             [
              0.3333333333333333,
              "#9c179e"
             ],
             [
              0.4444444444444444,
              "#bd3786"
             ],
             [
              0.5555555555555556,
              "#d8576b"
             ],
             [
              0.6666666666666666,
              "#ed7953"
             ],
             [
              0.7777777777777778,
              "#fb9f3a"
             ],
             [
              0.8888888888888888,
              "#fdca26"
             ],
             [
              1,
              "#f0f921"
             ]
            ],
            "type": "histogram2dcontour"
           }
          ],
          "mesh3d": [
           {
            "colorbar": {
             "outlinewidth": 0,
             "ticks": ""
            },
            "type": "mesh3d"
           }
          ],
          "parcoords": [
           {
            "line": {
             "colorbar": {
              "outlinewidth": 0,
              "ticks": ""
             }
            },
            "type": "parcoords"
           }
          ],
          "pie": [
           {
            "automargin": true,
            "type": "pie"
           }
          ],
          "scatter": [
           {
            "fillpattern": {
             "fillmode": "overlay",
             "size": 10,
             "solidity": 0.2
            },
            "type": "scatter"
           }
          ],
          "scatter3d": [
           {
            "line": {
             "colorbar": {
              "outlinewidth": 0,
              "ticks": ""
             }
            },
            "marker": {
             "colorbar": {
              "outlinewidth": 0,
              "ticks": ""
             }
            },
            "type": "scatter3d"
           }
          ],
          "scattercarpet": [
           {
            "marker": {
             "colorbar": {
              "outlinewidth": 0,
              "ticks": ""
             }
            },
            "type": "scattercarpet"
           }
          ],
          "scattergeo": [
           {
            "marker": {
             "colorbar": {
              "outlinewidth": 0,
              "ticks": ""
             }
            },
            "type": "scattergeo"
           }
          ],
          "scattergl": [
           {
            "marker": {
             "colorbar": {
              "outlinewidth": 0,
              "ticks": ""
             }
            },
            "type": "scattergl"
           }
          ],
          "scattermap": [
           {
            "marker": {
             "colorbar": {
              "outlinewidth": 0,
              "ticks": ""
             }
            },
            "type": "scattermap"
           }
          ],
          "scattermapbox": [
           {
            "marker": {
             "colorbar": {
              "outlinewidth": 0,
              "ticks": ""
             }
            },
            "type": "scattermapbox"
           }
          ],
          "scatterpolar": [
           {
            "marker": {
             "colorbar": {
              "outlinewidth": 0,
              "ticks": ""
             }
            },
            "type": "scatterpolar"
           }
          ],
          "scatterpolargl": [
           {
            "marker": {
             "colorbar": {
              "outlinewidth": 0,
              "ticks": ""
             }
            },
            "type": "scatterpolargl"
           }
          ],
          "scatterternary": [
           {
            "marker": {
             "colorbar": {
              "outlinewidth": 0,
              "ticks": ""
             }
            },
            "type": "scatterternary"
           }
          ],
          "surface": [
           {
            "colorbar": {
             "outlinewidth": 0,
             "ticks": ""
            },
            "colorscale": [
             [
              0,
              "#0d0887"
             ],
             [
              0.1111111111111111,
              "#46039f"
             ],
             [
              0.2222222222222222,
              "#7201a8"
             ],
             [
              0.3333333333333333,
              "#9c179e"
             ],
             [
              0.4444444444444444,
              "#bd3786"
             ],
             [
              0.5555555555555556,
              "#d8576b"
             ],
             [
              0.6666666666666666,
              "#ed7953"
             ],
             [
              0.7777777777777778,
              "#fb9f3a"
             ],
             [
              0.8888888888888888,
              "#fdca26"
             ],
             [
              1,
              "#f0f921"
             ]
            ],
            "type": "surface"
           }
          ],
          "table": [
           {
            "cells": {
             "fill": {
              "color": "#EBF0F8"
             },
             "line": {
              "color": "white"
             }
            },
            "header": {
             "fill": {
              "color": "#C8D4E3"
             },
             "line": {
              "color": "white"
             }
            },
            "type": "table"
           }
          ]
         },
         "layout": {
          "annotationdefaults": {
           "arrowcolor": "#2a3f5f",
           "arrowhead": 0,
           "arrowwidth": 1
          },
          "autotypenumbers": "strict",
          "coloraxis": {
           "colorbar": {
            "outlinewidth": 0,
            "ticks": ""
           }
          },
          "colorscale": {
           "diverging": [
            [
             0,
             "#8e0152"
            ],
            [
             0.1,
             "#c51b7d"
            ],
            [
             0.2,
             "#de77ae"
            ],
            [
             0.3,
             "#f1b6da"
            ],
            [
             0.4,
             "#fde0ef"
            ],
            [
             0.5,
             "#f7f7f7"
            ],
            [
             0.6,
             "#e6f5d0"
            ],
            [
             0.7,
             "#b8e186"
            ],
            [
             0.8,
             "#7fbc41"
            ],
            [
             0.9,
             "#4d9221"
            ],
            [
             1,
             "#276419"
            ]
           ],
           "sequential": [
            [
             0,
             "#0d0887"
            ],
            [
             0.1111111111111111,
             "#46039f"
            ],
            [
             0.2222222222222222,
             "#7201a8"
            ],
            [
             0.3333333333333333,
             "#9c179e"
            ],
            [
             0.4444444444444444,
             "#bd3786"
            ],
            [
             0.5555555555555556,
             "#d8576b"
            ],
            [
             0.6666666666666666,
             "#ed7953"
            ],
            [
             0.7777777777777778,
             "#fb9f3a"
            ],
            [
             0.8888888888888888,
             "#fdca26"
            ],
            [
             1,
             "#f0f921"
            ]
           ],
           "sequentialminus": [
            [
             0,
             "#0d0887"
            ],
            [
             0.1111111111111111,
             "#46039f"
            ],
            [
             0.2222222222222222,
             "#7201a8"
            ],
            [
             0.3333333333333333,
             "#9c179e"
            ],
            [
             0.4444444444444444,
             "#bd3786"
            ],
            [
             0.5555555555555556,
             "#d8576b"
            ],
            [
             0.6666666666666666,
             "#ed7953"
            ],
            [
             0.7777777777777778,
             "#fb9f3a"
            ],
            [
             0.8888888888888888,
             "#fdca26"
            ],
            [
             1,
             "#f0f921"
            ]
           ]
          },
          "colorway": [
           "#636efa",
           "#EF553B",
           "#00cc96",
           "#ab63fa",
           "#FFA15A",
           "#19d3f3",
           "#FF6692",
           "#B6E880",
           "#FF97FF",
           "#FECB52"
          ],
          "font": {
           "color": "#2a3f5f"
          },
          "geo": {
           "bgcolor": "white",
           "lakecolor": "white",
           "landcolor": "#E5ECF6",
           "showlakes": true,
           "showland": true,
           "subunitcolor": "white"
          },
          "hoverlabel": {
           "align": "left"
          },
          "hovermode": "closest",
          "mapbox": {
           "style": "light"
          },
          "paper_bgcolor": "white",
          "plot_bgcolor": "#E5ECF6",
          "polar": {
           "angularaxis": {
            "gridcolor": "white",
            "linecolor": "white",
            "ticks": ""
           },
           "bgcolor": "#E5ECF6",
           "radialaxis": {
            "gridcolor": "white",
            "linecolor": "white",
            "ticks": ""
           }
          },
          "scene": {
           "xaxis": {
            "backgroundcolor": "#E5ECF6",
            "gridcolor": "white",
            "gridwidth": 2,
            "linecolor": "white",
            "showbackground": true,
            "ticks": "",
            "zerolinecolor": "white"
           },
           "yaxis": {
            "backgroundcolor": "#E5ECF6",
            "gridcolor": "white",
            "gridwidth": 2,
            "linecolor": "white",
            "showbackground": true,
            "ticks": "",
            "zerolinecolor": "white"
           },
           "zaxis": {
            "backgroundcolor": "#E5ECF6",
            "gridcolor": "white",
            "gridwidth": 2,
            "linecolor": "white",
            "showbackground": true,
            "ticks": "",
            "zerolinecolor": "white"
           }
          },
          "shapedefaults": {
           "line": {
            "color": "#2a3f5f"
           }
          },
          "ternary": {
           "aaxis": {
            "gridcolor": "white",
            "linecolor": "white",
            "ticks": ""
           },
           "baxis": {
            "gridcolor": "white",
            "linecolor": "white",
            "ticks": ""
           },
           "bgcolor": "#E5ECF6",
           "caxis": {
            "gridcolor": "white",
            "linecolor": "white",
            "ticks": ""
           }
          },
          "title": {
           "x": 0.05
          },
          "xaxis": {
           "automargin": true,
           "gridcolor": "white",
           "linecolor": "white",
           "ticks": "",
           "title": {
            "standoff": 15
           },
           "zerolinecolor": "white",
           "zerolinewidth": 2
          },
          "yaxis": {
           "automargin": true,
           "gridcolor": "white",
           "linecolor": "white",
           "ticks": "",
           "title": {
            "standoff": 15
           },
           "zerolinecolor": "white",
           "zerolinewidth": 2
          }
         }
        },
        "title": {
         "text": "Income Distribution"
        },
        "xaxis": {
         "anchor": "y",
         "domain": [
          0,
          1
         ],
         "title": {
          "text": "Income"
         }
        },
        "yaxis": {
         "anchor": "x",
         "domain": [
          0,
          1
         ],
         "title": {
          "text": "count"
         }
        }
       }
      }
     },
     "metadata": {},
     "output_type": "display_data"
    }
   ],
   "source": [
    "px.histogram(data, x=\"Income\", nbins=50, title=\"Income Distribution\").show()"
   ]
  },
  {
   "cell_type": "markdown",
   "id": "7dcfeecf",
   "metadata": {},
   "source": []
  },
  {
   "cell_type": "markdown",
   "id": "87b2bb23",
   "metadata": {},
   "source": [
    "This histogram shows outliers but they dont seem to be unrealistic, just rare, so I will leave the data as it is"
   ]
  },
  {
   "cell_type": "code",
   "execution_count": 22,
   "id": "97cd0c5e",
   "metadata": {},
   "outputs": [
    {
     "data": {
      "application/vnd.plotly.v1+json": {
       "config": {
        "plotlyServerURL": "https://plot.ly"
       },
       "data": [
        {
         "bingroup": "x",
         "hovertemplate": "Total_spending=%{x}<br>count=%{y}<extra></extra>",
         "legendgroup": "",
         "marker": {
          "color": "#636efa",
          "pattern": {
           "shape": ""
          }
         },
         "name": "",
         "nbinsx": 30,
         "orientation": "v",
         "showlegend": false,
         "type": "histogram",
         "x": {
          "bdata": "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",
          "dtype": "i2"
         },
         "xaxis": "x",
         "yaxis": "y"
        }
       ],
       "layout": {
        "barmode": "relative",
        "legend": {
         "tracegroupgap": 0
        },
        "template": {
         "data": {
          "bar": [
           {
            "error_x": {
             "color": "#2a3f5f"
            },
            "error_y": {
             "color": "#2a3f5f"
            },
            "marker": {
             "line": {
              "color": "#E5ECF6",
              "width": 0.5
             },
             "pattern": {
              "fillmode": "overlay",
              "size": 10,
              "solidity": 0.2
             }
            },
            "type": "bar"
           }
          ],
          "barpolar": [
           {
            "marker": {
             "line": {
              "color": "#E5ECF6",
              "width": 0.5
             },
             "pattern": {
              "fillmode": "overlay",
              "size": 10,
              "solidity": 0.2
             }
            },
            "type": "barpolar"
           }
          ],
          "carpet": [
           {
            "aaxis": {
             "endlinecolor": "#2a3f5f",
             "gridcolor": "white",
             "linecolor": "white",
             "minorgridcolor": "white",
             "startlinecolor": "#2a3f5f"
            },
            "baxis": {
             "endlinecolor": "#2a3f5f",
             "gridcolor": "white",
             "linecolor": "white",
             "minorgridcolor": "white",
             "startlinecolor": "#2a3f5f"
            },
            "type": "carpet"
           }
          ],
          "choropleth": [
           {
            "colorbar": {
             "outlinewidth": 0,
             "ticks": ""
            },
            "type": "choropleth"
           }
          ],
          "contour": [
           {
            "colorbar": {
             "outlinewidth": 0,
             "ticks": ""
            },
            "colorscale": [
             [
              0,
              "#0d0887"
             ],
             [
              0.1111111111111111,
              "#46039f"
             ],
             [
              0.2222222222222222,
              "#7201a8"
             ],
             [
              0.3333333333333333,
              "#9c179e"
             ],
             [
              0.4444444444444444,
              "#bd3786"
             ],
             [
              0.5555555555555556,
              "#d8576b"
             ],
             [
              0.6666666666666666,
              "#ed7953"
             ],
             [
              0.7777777777777778,
              "#fb9f3a"
             ],
             [
              0.8888888888888888,
              "#fdca26"
             ],
             [
              1,
              "#f0f921"
             ]
            ],
            "type": "contour"
           }
          ],
          "contourcarpet": [
           {
            "colorbar": {
             "outlinewidth": 0,
             "ticks": ""
            },
            "type": "contourcarpet"
           }
          ],
          "heatmap": [
           {
            "colorbar": {
             "outlinewidth": 0,
             "ticks": ""
            },
            "colorscale": [
             [
              0,
              "#0d0887"
             ],
             [
              0.1111111111111111,
              "#46039f"
             ],
             [
              0.2222222222222222,
              "#7201a8"
             ],
             [
              0.3333333333333333,
              "#9c179e"
             ],
             [
              0.4444444444444444,
              "#bd3786"
             ],
             [
              0.5555555555555556,
              "#d8576b"
             ],
             [
              0.6666666666666666,
              "#ed7953"
             ],
             [
              0.7777777777777778,
              "#fb9f3a"
             ],
             [
              0.8888888888888888,
              "#fdca26"
             ],
             [
              1,
              "#f0f921"
             ]
            ],
            "type": "heatmap"
           }
          ],
          "histogram": [
           {
            "marker": {
             "pattern": {
              "fillmode": "overlay",
              "size": 10,
              "solidity": 0.2
             }
            },
            "type": "histogram"
           }
          ],
          "histogram2d": [
           {
            "colorbar": {
             "outlinewidth": 0,
             "ticks": ""
            },
            "colorscale": [
             [
              0,
              "#0d0887"
             ],
             [
              0.1111111111111111,
              "#46039f"
             ],
             [
              0.2222222222222222,
              "#7201a8"
             ],
             [
              0.3333333333333333,
              "#9c179e"
             ],
             [
              0.4444444444444444,
              "#bd3786"
             ],
             [
              0.5555555555555556,
              "#d8576b"
             ],
             [
              0.6666666666666666,
              "#ed7953"
             ],
             [
              0.7777777777777778,
              "#fb9f3a"
             ],
             [
              0.8888888888888888,
              "#fdca26"
             ],
             [
              1,
              "#f0f921"
             ]
            ],
            "type": "histogram2d"
           }
          ],
          "histogram2dcontour": [
           {
            "colorbar": {
             "outlinewidth": 0,
             "ticks": ""
            },
            "colorscale": [
             [
              0,
              "#0d0887"
             ],
             [
              0.1111111111111111,
              "#46039f"
             ],
             [
              0.2222222222222222,
              "#7201a8"
             ],
             [
              0.3333333333333333,
              "#9c179e"
             ],
             [
              0.4444444444444444,
              "#bd3786"
             ],
             [
              0.5555555555555556,
              "#d8576b"
             ],
             [
              0.6666666666666666,
              "#ed7953"
             ],
             [
              0.7777777777777778,
              "#fb9f3a"
             ],
             [
              0.8888888888888888,
              "#fdca26"
             ],
             [
              1,
              "#f0f921"
             ]
            ],
            "type": "histogram2dcontour"
           }
          ],
          "mesh3d": [
           {
            "colorbar": {
             "outlinewidth": 0,
             "ticks": ""
            },
            "type": "mesh3d"
           }
          ],
          "parcoords": [
           {
            "line": {
             "colorbar": {
              "outlinewidth": 0,
              "ticks": ""
             }
            },
            "type": "parcoords"
           }
          ],
          "pie": [
           {
            "automargin": true,
            "type": "pie"
           }
          ],
          "scatter": [
           {
            "fillpattern": {
             "fillmode": "overlay",
             "size": 10,
             "solidity": 0.2
            },
            "type": "scatter"
           }
          ],
          "scatter3d": [
           {
            "line": {
             "colorbar": {
              "outlinewidth": 0,
              "ticks": ""
             }
            },
            "marker": {
             "colorbar": {
              "outlinewidth": 0,
              "ticks": ""
             }
            },
            "type": "scatter3d"
           }
          ],
          "scattercarpet": [
           {
            "marker": {
             "colorbar": {
              "outlinewidth": 0,
              "ticks": ""
             }
            },
            "type": "scattercarpet"
           }
          ],
          "scattergeo": [
           {
            "marker": {
             "colorbar": {
              "outlinewidth": 0,
              "ticks": ""
             }
            },
            "type": "scattergeo"
           }
          ],
          "scattergl": [
           {
            "marker": {
             "colorbar": {
              "outlinewidth": 0,
              "ticks": ""
             }
            },
            "type": "scattergl"
           }
          ],
          "scattermap": [
           {
            "marker": {
             "colorbar": {
              "outlinewidth": 0,
              "ticks": ""
             }
            },
            "type": "scattermap"
           }
          ],
          "scattermapbox": [
           {
            "marker": {
             "colorbar": {
              "outlinewidth": 0,
              "ticks": ""
             }
            },
            "type": "scattermapbox"
           }
          ],
          "scatterpolar": [
           {
            "marker": {
             "colorbar": {
              "outlinewidth": 0,
              "ticks": ""
             }
            },
            "type": "scatterpolar"
           }
          ],
          "scatterpolargl": [
           {
            "marker": {
             "colorbar": {
              "outlinewidth": 0,
              "ticks": ""
             }
            },
            "type": "scatterpolargl"
           }
          ],
          "scatterternary": [
           {
            "marker": {
             "colorbar": {
              "outlinewidth": 0,
              "ticks": ""
             }
            },
            "type": "scatterternary"
           }
          ],
          "surface": [
           {
            "colorbar": {
             "outlinewidth": 0,
             "ticks": ""
            },
            "colorscale": [
             [
              0,
              "#0d0887"
             ],
             [
              0.1111111111111111,
              "#46039f"
             ],
             [
              0.2222222222222222,
              "#7201a8"
             ],
             [
              0.3333333333333333,
              "#9c179e"
             ],
             [
              0.4444444444444444,
              "#bd3786"
             ],
             [
              0.5555555555555556,
              "#d8576b"
             ],
             [
              0.6666666666666666,
              "#ed7953"
             ],
             [
              0.7777777777777778,
              "#fb9f3a"
             ],
             [
              0.8888888888888888,
              "#fdca26"
             ],
             [
              1,
              "#f0f921"
             ]
            ],
            "type": "surface"
           }
          ],
          "table": [
           {
            "cells": {
             "fill": {
              "color": "#EBF0F8"
             },
             "line": {
              "color": "white"
             }
            },
            "header": {
             "fill": {
              "color": "#C8D4E3"
             },
             "line": {
              "color": "white"
             }
            },
            "type": "table"
           }
          ]
         },
         "layout": {
          "annotationdefaults": {
           "arrowcolor": "#2a3f5f",
           "arrowhead": 0,
           "arrowwidth": 1
          },
          "autotypenumbers": "strict",
          "coloraxis": {
           "colorbar": {
            "outlinewidth": 0,
            "ticks": ""
           }
          },
          "colorscale": {
           "diverging": [
            [
             0,
             "#8e0152"
            ],
            [
             0.1,
             "#c51b7d"
            ],
            [
             0.2,
             "#de77ae"
            ],
            [
             0.3,
             "#f1b6da"
            ],
            [
             0.4,
             "#fde0ef"
            ],
            [
             0.5,
             "#f7f7f7"
            ],
            [
             0.6,
             "#e6f5d0"
            ],
            [
             0.7,
             "#b8e186"
            ],
            [
             0.8,
             "#7fbc41"
            ],
            [
             0.9,
             "#4d9221"
            ],
            [
             1,
             "#276419"
            ]
           ],
           "sequential": [
            [
             0,
             "#0d0887"
            ],
            [
             0.1111111111111111,
             "#46039f"
            ],
            [
             0.2222222222222222,
             "#7201a8"
            ],
            [
             0.3333333333333333,
             "#9c179e"
            ],
            [
             0.4444444444444444,
             "#bd3786"
            ],
            [
             0.5555555555555556,
             "#d8576b"
            ],
            [
             0.6666666666666666,
             "#ed7953"
            ],
            [
             0.7777777777777778,
             "#fb9f3a"
            ],
            [
             0.8888888888888888,
             "#fdca26"
            ],
            [
             1,
             "#f0f921"
            ]
           ],
           "sequentialminus": [
            [
             0,
             "#0d0887"
            ],
            [
             0.1111111111111111,
             "#46039f"
            ],
            [
             0.2222222222222222,
             "#7201a8"
            ],
            [
             0.3333333333333333,
             "#9c179e"
            ],
            [
             0.4444444444444444,
             "#bd3786"
            ],
            [
             0.5555555555555556,
             "#d8576b"
            ],
            [
             0.6666666666666666,
             "#ed7953"
            ],
            [
             0.7777777777777778,
             "#fb9f3a"
            ],
            [
             0.8888888888888888,
             "#fdca26"
            ],
            [
             1,
             "#f0f921"
            ]
           ]
          },
          "colorway": [
           "#636efa",
           "#EF553B",
           "#00cc96",
           "#ab63fa",
           "#FFA15A",
           "#19d3f3",
           "#FF6692",
           "#B6E880",
           "#FF97FF",
           "#FECB52"
          ],
          "font": {
           "color": "#2a3f5f"
          },
          "geo": {
           "bgcolor": "white",
           "lakecolor": "white",
           "landcolor": "#E5ECF6",
           "showlakes": true,
           "showland": true,
           "subunitcolor": "white"
          },
          "hoverlabel": {
           "align": "left"
          },
          "hovermode": "closest",
          "mapbox": {
           "style": "light"
          },
          "paper_bgcolor": "white",
          "plot_bgcolor": "#E5ECF6",
          "polar": {
           "angularaxis": {
            "gridcolor": "white",
            "linecolor": "white",
            "ticks": ""
           },
           "bgcolor": "#E5ECF6",
           "radialaxis": {
            "gridcolor": "white",
            "linecolor": "white",
            "ticks": ""
           }
          },
          "scene": {
           "xaxis": {
            "backgroundcolor": "#E5ECF6",
            "gridcolor": "white",
            "gridwidth": 2,
            "linecolor": "white",
            "showbackground": true,
            "ticks": "",
            "zerolinecolor": "white"
           },
           "yaxis": {
            "backgroundcolor": "#E5ECF6",
            "gridcolor": "white",
            "gridwidth": 2,
            "linecolor": "white",
            "showbackground": true,
            "ticks": "",
            "zerolinecolor": "white"
           },
           "zaxis": {
            "backgroundcolor": "#E5ECF6",
            "gridcolor": "white",
            "gridwidth": 2,
            "linecolor": "white",
            "showbackground": true,
            "ticks": "",
            "zerolinecolor": "white"
           }
          },
          "shapedefaults": {
           "line": {
            "color": "#2a3f5f"
           }
          },
          "ternary": {
           "aaxis": {
            "gridcolor": "white",
            "linecolor": "white",
            "ticks": ""
           },
           "baxis": {
            "gridcolor": "white",
            "linecolor": "white",
            "ticks": ""
           },
           "bgcolor": "#E5ECF6",
           "caxis": {
            "gridcolor": "white",
            "linecolor": "white",
            "ticks": ""
           }
          },
          "title": {
           "x": 0.05
          },
          "xaxis": {
           "automargin": true,
           "gridcolor": "white",
           "linecolor": "white",
           "ticks": "",
           "title": {
            "standoff": 15
           },
           "zerolinecolor": "white",
           "zerolinewidth": 2
          },
          "yaxis": {
           "automargin": true,
           "gridcolor": "white",
           "linecolor": "white",
           "ticks": "",
           "title": {
            "standoff": 15
           },
           "zerolinecolor": "white",
           "zerolinewidth": 2
          }
         }
        },
        "title": {
         "text": "Total Spending Distribution"
        },
        "xaxis": {
         "anchor": "y",
         "domain": [
          0,
          1
         ],
         "title": {
          "text": "Total_spending"
         }
        },
        "yaxis": {
         "anchor": "x",
         "domain": [
          0,
          1
         ],
         "title": {
          "text": "count"
         }
        }
       }
      }
     },
     "metadata": {},
     "output_type": "display_data"
    }
   ],
   "source": [
    "px.histogram(data, x=\"Total_spending\", nbins=30, title=\"Total Spending Distribution\").show()"
   ]
  },
  {
   "cell_type": "code",
   "execution_count": 24,
   "id": "0ea45611",
   "metadata": {},
   "outputs": [
    {
     "data": {
      "application/vnd.plotly.v1+json": {
       "config": {
        "plotlyServerURL": "https://plot.ly"
       },
       "data": [
        {
         "alignmentgroup": "True",
         "hovertemplate": "Education=%{x}<br>Income=%{y}<extra></extra>",
         "legendgroup": "",
         "marker": {
          "color": "#636efa"
         },
         "name": "",
         "notched": false,
         "offsetgroup": "",
         "orientation": "v",
         "showlegend": false,
         "type": "box",
         "x": [
          "Graduation",
          "Graduation",
          "Graduation",
          "Graduation",
          "PhD",
          "Master",
          "Graduation",
          "PhD",
          "PhD",
          "PhD",
          "Basic",
          "Graduation",
          "Master",
          "Graduation",
          "PhD",
          "Graduation",
          "Graduation",
          "Master",
          "2n Cycle",
          "Graduation",
          "Graduation",
          "PhD",
          "PhD",
          "Graduation",
          "Graduation",
          "Graduation",
          "Graduation",
          "PhD",
          "Master",
          "Master",
          "Graduation",
          "PhD",
          "Master",
          "Master",
          "PhD",
          "2n Cycle",
          "Graduation",
          "PhD",
          "Graduation",
          "Master",
          "Graduation",
          "Master",
          "Graduation",
          "2n Cycle",
          "Graduation",
          "PhD",
          "Graduation",
          "Master",
          "Graduation",
          "Graduation",
          "Graduation",
          "Master",
          "Graduation",
          "Graduation",
          "PhD",
          "Master",
          "Graduation",
          "Graduation",
          "PhD",
          "Graduation",
          "Graduation",
          "Graduation",
          "2n Cycle",
          "Graduation",
          "Graduation",
          "Master",
          "Graduation",
          "PhD",
          "Graduation",
          "Graduation",
          "Master",
          "Graduation",
          "2n Cycle",
          "Graduation",
          "Graduation",
          "Graduation",
          "2n Cycle",
          "Master",
          "Graduation",
          "Graduation",
          "Master",
          "Graduation",
          "Graduation",
          "Graduation",
          "Master",
          "PhD",
          "Graduation",
          "Graduation",
          "Graduation",
          "2n Cycle",
          "PhD",
          "2n Cycle",
          "PhD",
          "Graduation",
          "PhD",
          "Graduation",
          "Basic",
          "Graduation",
          "Graduation",
          "Graduation",
          "Master",
          "Graduation",
          "PhD",
          "Master",
          "Graduation",
          "PhD",
          "Graduation",
          "Graduation",
          "2n Cycle",
          "2n Cycle",
          "Graduation",
          "Master",
          "Master",
          "Master",
          "Graduation",
          "Graduation",
          "2n Cycle",
          "Graduation",
          "Master",
          "PhD",
          "Graduation",
          "Master",
          "Graduation",
          "PhD",
          "PhD",
          "Basic",
          "PhD",
          "PhD",
          "PhD",
          "Master",
          "Master",
          "Graduation",
          "PhD",
          "Graduation",
          "Graduation",
          "Graduation",
          "Graduation",
          "2n Cycle",
          "Master",
          "Master",
          "Graduation",
          "2n Cycle",
          "Graduation",
          "PhD",
          "Graduation",
          "Graduation",
          "Graduation",
          "Graduation",
          "Graduation",
          "Master",
          "PhD",
          "Graduation",
          "PhD",
          "PhD",
          "Graduation",
          "Graduation",
          "Graduation",
          "Graduation",
          "Graduation",
          "Graduation",
          "Graduation",
          "Graduation",
          "PhD",
          "Graduation",
          "PhD",
          "PhD",
          "PhD",
          "Graduation",
          "2n Cycle",
          "PhD",
          "2n Cycle",
          "Master",
          "Master",
          "Basic",
          "Graduation",
          "PhD",
          "Graduation",
          "Graduation",
          "PhD",
          "Basic",
          "PhD",
          "Graduation",
          "Graduation",
          "Graduation",
          "Master",
          "Graduation",
          "Graduation",
          "PhD",
          "Graduation",
          "Graduation",
          "Graduation",
          "PhD",
          "PhD",
          "Master",
          "Graduation",
          "Master",
          "Graduation",
          "Graduation",
          "Graduation",
          "Graduation",
          "PhD",
          "Master",
          "Graduation",
          "Graduation",
          "2n Cycle",
          "Master",
          "Master",
          "Graduation",
          "2n Cycle",
          "Graduation",
          "PhD",
          "PhD",
          "Graduation",
          "Graduation",
          "Graduation",
          "Graduation",
          "PhD",
          "PhD",
          "Graduation",
          "2n Cycle",
          "Graduation",
          "Graduation",
          "PhD",
          "2n Cycle",
          "Master",
          "PhD",
          "Graduation",
          "Graduation",
          "Graduation",
          "Graduation",
          "Graduation",
          "Graduation",
          "PhD",
          "Graduation",
          "Graduation",
          "PhD",
          "Master",
          "Master",
          "Graduation",
          "Graduation",
          "2n Cycle",
          "Graduation",
          "PhD",
          "PhD",
          "Graduation",
          "Graduation",
          "PhD",
          "Graduation",
          "PhD",
          "Master",
          "PhD",
          "Master",
          "Master",
          "Graduation",
          "PhD",
          "Graduation",
          "Graduation",
          "Graduation",
          "Master",
          "PhD",
          "Graduation",
          "Graduation",
          "PhD",
          "Graduation",
          "Master",
          "PhD",
          "Master",
          "Basic",
          "Graduation",
          "Graduation",
          "PhD",
          "Master",
          "Graduation",
          "Graduation",
          "Master",
          "Graduation",
          "Master",
          "2n Cycle",
          "Graduation",
          "Graduation",
          "Graduation",
          "Graduation",
          "Master",
          "2n Cycle",
          "Master",
          "Graduation",
          "PhD",
          "Graduation",
          "2n Cycle",
          "PhD",
          "Graduation",
          "Graduation",
          "Master",
          "Graduation",
          "Graduation",
          "Master",
          "Master",
          "Graduation",
          "Graduation",
          "Master",
          "Graduation",
          "Master",
          "Graduation",
          "Graduation",
          "Graduation",
          "Graduation",
          "Graduation",
          "PhD",
          "PhD",
          "Graduation",
          "Graduation",
          "PhD",
          "Graduation",
          "PhD",
          "PhD",
          "Graduation",
          "PhD",
          "PhD",
          "Master",
          "Graduation",
          "Graduation",
          "Graduation",
          "Graduation",
          "Graduation",
          "Graduation",
          "Graduation",
          "PhD",
          "PhD",
          "Basic",
          "Graduation",
          "Graduation",
          "Graduation",
          "Graduation",
          "Master",
          "Graduation",
          "Graduation",
          "PhD",
          "Graduation",
          "PhD",
          "Graduation",
          "Graduation",
          "PhD",
          "Master",
          "PhD",
          "Graduation",
          "PhD",
          "Graduation",
          "PhD",
          "Graduation",
          "Graduation",
          "Graduation",
          "Graduation",
          "Graduation",
          "PhD",
          "2n Cycle",
          "Graduation",
          "Master",
          "Graduation",
          "PhD",
          "Master",
          "Graduation",
          "Graduation",
          "PhD",
          "Graduation",
          "PhD",
          "Graduation",
          "Graduation",
          "2n Cycle",
          "Master",
          "Graduation",
          "Master",
          "Graduation",
          "Graduation",
          "PhD",
          "Graduation",
          "Master",
          "Graduation",
          "PhD",
          "Master",
          "PhD",
          "Graduation",
          "Graduation",
          "Graduation",
          "2n Cycle",
          "2n Cycle",
          "Graduation",
          "Graduation",
          "Graduation",
          "PhD",
          "Graduation",
          "PhD",
          "PhD",
          "PhD",
          "Graduation",
          "2n Cycle",
          "Graduation",
          "PhD",
          "Graduation",
          "Graduation",
          "PhD",
          "2n Cycle",
          "Graduation",
          "Graduation",
          "Master",
          "PhD",
          "Graduation",
          "Master",
          "Master",
          "PhD",
          "Graduation",
          "Graduation",
          "Graduation",
          "2n Cycle",
          "Graduation",
          "PhD",
          "Graduation",
          "2n Cycle",
          "Graduation",
          "Graduation",
          "Master",
          "Graduation",
          "Master",
          "PhD",
          "2n Cycle",
          "Graduation",
          "PhD",
          "Graduation",
          "Graduation",
          "2n Cycle",
          "Graduation",
          "Master",
          "Graduation",
          "Graduation",
          "PhD",
          "Graduation",
          "Graduation",
          "Master",
          "2n Cycle",
          "Graduation",
          "Graduation",
          "2n Cycle",
          "Master",
          "Graduation",
          "2n Cycle",
          "Graduation",
          "Graduation",
          "PhD",
          "Graduation",
          "Graduation",
          "PhD",
          "PhD",
          "Graduation",
          "Graduation",
          "PhD",
          "Graduation",
          "Graduation",
          "PhD",
          "Graduation",
          "Graduation",
          "Graduation",
          "PhD",
          "Master",
          "PhD",
          "Graduation",
          "Master",
          "Master",
          "Graduation",
          "Graduation",
          "Master",
          "PhD",
          "Master",
          "Graduation",
          "Graduation",
          "2n Cycle",
          "PhD",
          "Graduation",
          "Graduation",
          "Master",
          "PhD",
          "Master",
          "Graduation",
          "PhD",
          "PhD",
          "Graduation",
          "Graduation",
          "Master",
          "Basic",
          "PhD",
          "Master",
          "Graduation",
          "Graduation",
          "Graduation",
          "Graduation",
          "Graduation",
          "PhD",
          "Graduation",
          "Graduation",
          "Master",
          "PhD",
          "Master",
          "Graduation",
          "Graduation",
          "Graduation",
          "Master",
          "Graduation",
          "Master",
          "Graduation",
          "Graduation",
          "Graduation",
          "Graduation",
          "PhD",
          "Master",
          "Graduation",
          "PhD",
          "2n Cycle",
          "Graduation",
          "Master",
          "Graduation",
          "Graduation",
          "Master",
          "Graduation",
          "Graduation",
          "2n Cycle",
          "Master",
          "2n Cycle",
          "Graduation",
          "PhD",
          "PhD",
          "Graduation",
          "2n Cycle",
          "Graduation",
          "Graduation",
          "Graduation",
          "Master",
          "2n Cycle",
          "Graduation",
          "PhD",
          "Graduation",
          "Master",
          "Graduation",
          "PhD",
          "Graduation",
          "2n Cycle",
          "Graduation",
          "Graduation",
          "Graduation",
          "Master",
          "2n Cycle",
          "PhD",
          "PhD",
          "Graduation",
          "Master",
          "Graduation",
          "Graduation",
          "Graduation",
          "PhD",
          "2n Cycle",
          "PhD",
          "Master",
          "PhD",
          "Graduation",
          "Graduation",
          "PhD",
          "Master",
          "PhD",
          "Graduation",
          "2n Cycle",
          "Master",
          "Graduation",
          "2n Cycle",
          "Graduation",
          "Master",
          "Graduation",
          "Graduation",
          "PhD",
          "Master",
          "Master",
          "Graduation",
          "PhD",
          "Master",
          "Graduation",
          "Master",
          "2n Cycle",
          "Graduation",
          "Graduation",
          "Graduation",
          "Graduation",
          "PhD",
          "Master",
          "Master",
          "Graduation",
          "Graduation",
          "Basic",
          "Graduation",
          "Master",
          "Master",
          "Basic",
          "Graduation",
          "PhD",
          "Graduation",
          "Master",
          "PhD",
          "Graduation",
          "Master",
          "PhD",
          "Graduation",
          "Graduation",
          "2n Cycle",
          "2n Cycle",
          "Graduation",
          "Graduation",
          "Graduation",
          "PhD",
          "Graduation",
          "PhD",
          "PhD",
          "2n Cycle",
          "2n Cycle",
          "Graduation",
          "Graduation",
          "Graduation",
          "Graduation",
          "Master",
          "Graduation",
          "Graduation",
          "PhD",
          "PhD",
          "Graduation",
          "Master",
          "PhD",
          "Graduation",
          "Master",
          "Master",
          "Graduation",
          "Master",
          "Graduation",
          "Graduation",
          "PhD",
          "Graduation",
          "Graduation",
          "Graduation",
          "2n Cycle",
          "PhD",
          "PhD",
          "Graduation",
          "Graduation",
          "Graduation",
          "Basic",
          "Master",
          "Graduation",
          "PhD",
          "Basic",
          "PhD",
          "2n Cycle",
          "PhD",
          "Master",
          "Graduation",
          "Graduation",
          "PhD",
          "Graduation",
          "PhD",
          "Graduation",
          "2n Cycle",
          "PhD",
          "Graduation",
          "Graduation",
          "2n Cycle",
          "Graduation",
          "Graduation",
          "PhD",
          "PhD",
          "PhD",
          "PhD",
          "PhD",
          "PhD",
          "Graduation",
          "Master",
          "Basic",
          "Master",
          "Master",
          "Graduation",
          "PhD",
          "Graduation",
          "Graduation",
          "Graduation",
          "Graduation",
          "Graduation",
          "Master",
          "Master",
          "Graduation",
          "PhD",
          "Graduation",
          "PhD",
          "Master",
          "Graduation",
          "Master",
          "Graduation",
          "Graduation",
          "Graduation",
          "PhD",
          "2n Cycle",
          "Graduation",
          "Graduation",
          "Graduation",
          "Master",
          "Graduation",
          "PhD",
          "Graduation",
          "Graduation",
          "Graduation",
          "Graduation",
          "Master",
          "Master",
          "Graduation",
          "PhD",
          "PhD",
          "Graduation",
          "PhD",
          "Graduation",
          "Graduation",
          "Graduation",
          "Master",
          "Basic",
          "Graduation",
          "PhD",
          "Master",
          "PhD",
          "2n Cycle",
          "Graduation",
          "Graduation",
          "2n Cycle",
          "Graduation",
          "Graduation",
          "2n Cycle",
          "PhD",
          "PhD",
          "Graduation",
          "Graduation",
          "Graduation",
          "2n Cycle",
          "PhD",
          "Graduation",
          "Master",
          "PhD",
          "2n Cycle",
          "Graduation",
          "Master",
          "PhD",
          "Graduation",
          "Graduation",
          "Graduation",
          "Graduation",
          "2n Cycle",
          "Master",
          "Graduation",
          "PhD",
          "Graduation",
          "Graduation",
          "PhD",
          "Graduation",
          "PhD",
          "PhD",
          "Master",
          "Graduation",
          "PhD",
          "Graduation",
          "Graduation",
          "Graduation",
          "Graduation",
          "Basic",
          "Master",
          "PhD",
          "Master",
          "Graduation",
          "Master",
          "PhD",
          "Graduation",
          "Graduation",
          "Graduation",
          "Master",
          "PhD",
          "2n Cycle",
          "Graduation",
          "Graduation",
          "Master",
          "Graduation",
          "Graduation",
          "PhD",
          "Graduation",
          "Master",
          "Master",
          "Graduation",
          "Graduation",
          "Graduation",
          "Graduation",
          "Graduation",
          "Graduation",
          "Master",
          "PhD",
          "PhD",
          "Graduation",
          "Graduation",
          "Graduation",
          "2n Cycle",
          "PhD",
          "Graduation",
          "Graduation",
          "Graduation",
          "Graduation",
          "2n Cycle",
          "Graduation",
          "Graduation",
          "PhD",
          "Graduation",
          "PhD",
          "Graduation",
          "PhD",
          "2n Cycle",
          "Graduation",
          "Graduation",
          "Master",
          "Graduation",
          "2n Cycle",
          "Graduation",
          "Graduation",
          "Graduation",
          "Graduation",
          "Graduation",
          "2n Cycle",
          "Graduation",
          "2n Cycle",
          "Master",
          "Graduation",
          "Graduation",
          "Graduation",
          "PhD",
          "2n Cycle",
          "PhD",
          "PhD",
          "Graduation",
          "Master",
          "Graduation",
          "Graduation",
          "2n Cycle",
          "Graduation",
          "Master",
          "Graduation",
          "2n Cycle",
          "2n Cycle",
          "PhD",
          "Master",
          "Master",
          "Graduation",
          "Graduation",
          "PhD",
          "Graduation",
          "Graduation",
          "2n Cycle",
          "Master",
          "Graduation",
          "Master",
          "Graduation",
          "Master",
          "2n Cycle",
          "Graduation",
          "Graduation",
          "Graduation",
          "2n Cycle",
          "PhD",
          "PhD",
          "PhD",
          "Graduation",
          "Graduation",
          "Master",
          "Graduation",
          "Master",
          "Graduation",
          "Basic",
          "PhD",
          "PhD",
          "Graduation",
          "Graduation",
          "PhD",
          "Graduation",
          "Graduation",
          "Graduation",
          "Graduation",
          "Graduation",
          "Graduation",
          "Graduation",
          "Graduation",
          "Graduation",
          "Graduation",
          "PhD",
          "PhD",
          "Graduation",
          "PhD",
          "Master",
          "Graduation",
          "Graduation",
          "Master",
          "PhD",
          "2n Cycle",
          "PhD",
          "PhD",
          "Graduation",
          "Master",
          "PhD",
          "Graduation",
          "Master",
          "Graduation",
          "2n Cycle",
          "Graduation",
          "PhD",
          "PhD",
          "Graduation",
          "PhD",
          "Basic",
          "Graduation",
          "PhD",
          "Graduation",
          "PhD",
          "Graduation",
          "PhD",
          "2n Cycle",
          "PhD",
          "Graduation",
          "Graduation",
          "Basic",
          "PhD",
          "2n Cycle",
          "Graduation",
          "Graduation",
          "2n Cycle",
          "PhD",
          "PhD",
          "Master",
          "PhD",
          "Master",
          "PhD",
          "Graduation",
          "Graduation",
          "Graduation",
          "PhD",
          "Graduation",
          "PhD",
          "Master",
          "PhD",
          "Graduation",
          "Graduation",
          "Graduation",
          "Graduation",
          "PhD",
          "Graduation",
          "Graduation",
          "PhD",
          "2n Cycle",
          "2n Cycle",
          "Master",
          "Graduation",
          "Master",
          "Master",
          "Graduation",
          "Graduation",
          "2n Cycle",
          "Graduation",
          "Master",
          "Graduation",
          "Graduation",
          "PhD",
          "PhD",
          "Graduation",
          "2n Cycle",
          "PhD",
          "Graduation",
          "2n Cycle",
          "Master",
          "Graduation",
          "Graduation",
          "Graduation",
          "Graduation",
          "Graduation",
          "Graduation",
          "Graduation",
          "PhD",
          "PhD",
          "2n Cycle",
          "Graduation",
          "PhD",
          "Graduation",
          "Master",
          "Graduation",
          "Graduation",
          "PhD",
          "Graduation",
          "PhD",
          "Graduation",
          "Master",
          "Master",
          "Master",
          "2n Cycle",
          "Graduation",
          "Graduation",
          "Graduation",
          "Graduation",
          "PhD",
          "PhD",
          "Master",
          "Graduation",
          "PhD",
          "Graduation",
          "Basic",
          "PhD",
          "2n Cycle",
          "Graduation",
          "Graduation",
          "Graduation",
          "2n Cycle",
          "Graduation",
          "Graduation",
          "PhD",
          "Master",
          "PhD",
          "Graduation",
          "Graduation",
          "Graduation",
          "Graduation",
          "Graduation",
          "Graduation",
          "Master",
          "Master",
          "PhD",
          "Graduation",
          "Graduation",
          "2n Cycle",
          "PhD",
          "PhD",
          "2n Cycle",
          "Master",
          "Graduation",
          "Graduation",
          "PhD",
          "Graduation",
          "Graduation",
          "Master",
          "Graduation",
          "PhD",
          "PhD",
          "PhD",
          "Graduation",
          "Graduation",
          "2n Cycle",
          "Graduation",
          "Graduation",
          "PhD",
          "Graduation",
          "Graduation",
          "Graduation",
          "Graduation",
          "Graduation",
          "PhD",
          "2n Cycle",
          "Master",
          "PhD",
          "Graduation",
          "Graduation",
          "Graduation",
          "Graduation",
          "Master",
          "Graduation",
          "Graduation",
          "PhD",
          "Graduation",
          "PhD",
          "PhD",
          "PhD",
          "Graduation",
          "PhD",
          "PhD",
          "Graduation",
          "Graduation",
          "2n Cycle",
          "Master",
          "Graduation",
          "Graduation",
          "2n Cycle",
          "Graduation",
          "Graduation",
          "Graduation",
          "PhD",
          "PhD",
          "2n Cycle",
          "2n Cycle",
          "Graduation",
          "Graduation",
          "2n Cycle",
          "PhD",
          "Master",
          "PhD",
          "Graduation",
          "PhD",
          "Master",
          "Basic",
          "2n Cycle",
          "Graduation",
          "PhD",
          "Master",
          "Graduation",
          "Graduation",
          "Graduation",
          "Graduation",
          "Graduation",
          "Basic",
          "2n Cycle",
          "Master",
          "Graduation",
          "Graduation",
          "Graduation",
          "Graduation",
          "2n Cycle",
          "PhD",
          "PhD",
          "Master",
          "Graduation",
          "Master",
          "Graduation",
          "2n Cycle",
          "PhD",
          "Graduation",
          "Master",
          "Graduation",
          "Graduation",
          "PhD",
          "Graduation",
          "PhD",
          "Graduation",
          "Graduation",
          "Graduation",
          "Master",
          "PhD",
          "Graduation",
          "Graduation",
          "Graduation",
          "Graduation",
          "Graduation",
          "Graduation",
          "Graduation",
          "Graduation",
          "PhD",
          "Graduation",
          "2n Cycle",
          "Graduation",
          "Graduation",
          "Graduation",
          "Basic",
          "2n Cycle",
          "PhD",
          "Master",
          "Basic",
          "Master",
          "Master",
          "Graduation",
          "Graduation",
          "Master",
          "Graduation",
          "Graduation",
          "PhD",
          "Basic",
          "Graduation",
          "Graduation",
          "Graduation",
          "PhD",
          "PhD",
          "2n Cycle",
          "Master",
          "Master",
          "Graduation",
          "Graduation",
          "Master",
          "Master",
          "2n Cycle",
          "Master",
          "PhD",
          "2n Cycle",
          "Graduation",
          "Graduation",
          "Master",
          "Graduation",
          "Master",
          "Master",
          "PhD",
          "Graduation",
          "PhD",
          "Graduation",
          "Graduation",
          "Graduation",
          "Graduation",
          "Graduation",
          "Graduation",
          "Graduation",
          "Graduation",
          "PhD",
          "PhD",
          "Graduation",
          "Basic",
          "Graduation",
          "2n Cycle",
          "Graduation",
          "PhD",
          "PhD",
          "PhD",
          "Graduation",
          "Master",
          "Master",
          "Graduation",
          "PhD",
          "Graduation",
          "Graduation",
          "PhD",
          "Graduation",
          "Master",
          "Graduation",
          "Graduation",
          "Graduation",
          "Basic",
          "PhD",
          "Graduation",
          "Master",
          "PhD",
          "Graduation",
          "Basic",
          "Graduation",
          "PhD",
          "Graduation",
          "PhD",
          "Graduation",
          "PhD",
          "Graduation",
          "Graduation",
          "PhD",
          "2n Cycle",
          "Graduation",
          "Graduation",
          "Graduation",
          "PhD",
          "PhD",
          "Master",
          "Graduation",
          "Graduation",
          "Graduation",
          "PhD",
          "Graduation",
          "PhD",
          "2n Cycle",
          "Graduation",
          "Master",
          "Graduation",
          "Master",
          "Master",
          "Graduation",
          "Master",
          "Graduation",
          "Graduation",
          "Graduation",
          "Graduation",
          "2n Cycle",
          "PhD",
          "Master",
          "Basic",
          "Graduation",
          "PhD",
          "2n Cycle",
          "Master",
          "Graduation",
          "Graduation",
          "Graduation",
          "2n Cycle",
          "PhD",
          "PhD",
          "Master",
          "PhD",
          "Graduation",
          "Graduation",
          "Graduation",
          "Master",
          "Graduation",
          "2n Cycle",
          "Graduation",
          "Graduation",
          "Graduation",
          "Graduation",
          "PhD",
          "Graduation",
          "Graduation",
          "PhD",
          "Master",
          "Master",
          "2n Cycle",
          "2n Cycle",
          "PhD",
          "Graduation",
          "2n Cycle",
          "Graduation",
          "Graduation",
          "Master",
          "Master",
          "Graduation",
          "Graduation",
          "Basic",
          "Master",
          "Graduation",
          "PhD",
          "Master",
          "PhD",
          "Graduation",
          "Graduation",
          "Graduation",
          "Graduation",
          "Master",
          "Graduation",
          "Graduation",
          "Master",
          "Graduation",
          "Graduation",
          "Graduation",
          "Master",
          "Master",
          "Graduation",
          "Basic",
          "Graduation",
          "2n Cycle",
          "PhD",
          "Graduation",
          "PhD",
          "PhD",
          "Graduation",
          "Graduation",
          "Graduation",
          "Graduation",
          "Graduation",
          "Graduation",
          "PhD",
          "Graduation",
          "Master",
          "Graduation",
          "Basic",
          "Graduation",
          "2n Cycle",
          "2n Cycle",
          "Master",
          "Graduation",
          "Graduation",
          "Master",
          "Graduation",
          "Graduation",
          "2n Cycle",
          "Master",
          "PhD",
          "PhD",
          "Graduation",
          "Graduation",
          "Graduation",
          "Master",
          "Master",
          "2n Cycle",
          "Graduation",
          "Graduation",
          "2n Cycle",
          "Graduation",
          "Graduation",
          "Master",
          "Graduation",
          "PhD",
          "2n Cycle",
          "PhD",
          "Master",
          "Graduation",
          "Graduation",
          "Master",
          "PhD",
          "Graduation",
          "Graduation",
          "Graduation",
          "Graduation",
          "Master",
          "PhD",
          "Master",
          "Master",
          "Graduation",
          "PhD",
          "PhD",
          "Graduation",
          "Master",
          "Graduation",
          "Graduation",
          "Graduation",
          "Basic",
          "Graduation",
          "Graduation",
          "Graduation",
          "PhD",
          "2n Cycle",
          "Graduation",
          "PhD",
          "Graduation",
          "Graduation",
          "PhD",
          "PhD",
          "2n Cycle",
          "Graduation",
          "Master",
          "2n Cycle",
          "Graduation",
          "Graduation",
          "Graduation",
          "2n Cycle",
          "Graduation",
          "2n Cycle",
          "Graduation",
          "Graduation",
          "Graduation",
          "Master",
          "Graduation",
          "Master",
          "Graduation",
          "Graduation",
          "2n Cycle",
          "Graduation",
          "PhD",
          "2n Cycle",
          "Graduation",
          "Graduation",
          "Graduation",
          "PhD",
          "PhD",
          "Graduation",
          "Graduation",
          "Graduation",
          "Graduation",
          "PhD",
          "Master",
          "Graduation",
          "PhD",
          "Graduation",
          "Master",
          "Master",
          "Graduation",
          "Graduation",
          "PhD",
          "Graduation",
          "2n Cycle",
          "Graduation",
          "Graduation",
          "PhD",
          "Graduation",
          "Graduation",
          "Master",
          "PhD",
          "Master",
          "PhD",
          "Graduation",
          "Graduation",
          "2n Cycle",
          "Graduation",
          "2n Cycle",
          "Master",
          "Master",
          "PhD",
          "Graduation",
          "Master",
          "PhD",
          "PhD",
          "Graduation",
          "Graduation",
          "Graduation",
          "Graduation",
          "Graduation",
          "PhD",
          "Graduation",
          "Graduation",
          "Master",
          "2n Cycle",
          "Graduation",
          "Master",
          "PhD",
          "Master",
          "Master",
          "2n Cycle",
          "PhD",
          "Graduation",
          "Graduation",
          "Master",
          "Graduation",
          "Graduation",
          "2n Cycle",
          "Graduation",
          "Graduation",
          "Graduation",
          "Master",
          "Graduation",
          "PhD",
          "Graduation",
          "Graduation",
          "PhD",
          "Graduation",
          "Graduation",
          "PhD",
          "Graduation",
          "PhD",
          "Graduation",
          "2n Cycle",
          "2n Cycle",
          "PhD",
          "Master",
          "2n Cycle",
          "2n Cycle",
          "Graduation",
          "PhD",
          "PhD",
          "Master",
          "Graduation",
          "Master",
          "Graduation",
          "PhD",
          "Graduation",
          "Master",
          "2n Cycle",
          "Graduation",
          "Graduation",
          "2n Cycle",
          "Master",
          "2n Cycle",
          "Graduation",
          "Graduation",
          "Graduation",
          "Master",
          "Master",
          "Graduation",
          "Graduation",
          "PhD",
          "Graduation",
          "Master",
          "Graduation",
          "Graduation",
          "Graduation",
          "Graduation",
          "Master",
          "Graduation",
          "PhD",
          "PhD",
          "PhD",
          "Graduation",
          "Master",
          "Master",
          "Graduation",
          "PhD",
          "Graduation",
          "PhD",
          "Graduation",
          "Master",
          "Graduation",
          "Master",
          "Graduation",
          "Master",
          "Graduation",
          "PhD",
          "Master",
          "Graduation",
          "Graduation",
          "Graduation",
          "PhD",
          "Graduation",
          "Basic",
          "Master",
          "PhD",
          "PhD",
          "Master",
          "Graduation",
          "Graduation",
          "PhD",
          "Master",
          "Master",
          "Master",
          "Graduation",
          "Graduation",
          "PhD",
          "Graduation",
          "2n Cycle",
          "Master",
          "PhD",
          "Graduation",
          "2n Cycle",
          "Graduation",
          "Graduation",
          "Graduation",
          "Graduation",
          "Graduation",
          "Graduation",
          "Graduation",
          "Master",
          "PhD",
          "Graduation",
          "2n Cycle",
          "Graduation",
          "Graduation",
          "PhD",
          "PhD",
          "PhD",
          "Graduation",
          "2n Cycle",
          "PhD",
          "PhD",
          "PhD",
          "Graduation",
          "PhD",
          "PhD",
          "Graduation",
          "Graduation",
          "Graduation",
          "Master",
          "Master",
          "PhD",
          "Graduation",
          "Basic",
          "2n Cycle",
          "Master",
          "Master",
          "Graduation",
          "Graduation",
          "PhD",
          "Graduation",
          "Graduation",
          "Graduation",
          "Graduation",
          "PhD",
          "Master",
          "Master",
          "PhD",
          "2n Cycle",
          "Graduation",
          "PhD",
          "Graduation",
          "Graduation",
          "Graduation",
          "PhD",
          "2n Cycle",
          "PhD",
          "PhD",
          "PhD",
          "PhD",
          "PhD",
          "Graduation",
          "Master",
          "2n Cycle",
          "Graduation",
          "2n Cycle",
          "Graduation",
          "Basic",
          "PhD",
          "Graduation",
          "Graduation",
          "Graduation",
          "PhD",
          "PhD",
          "Graduation",
          "Graduation",
          "Master",
          "Graduation",
          "Graduation",
          "Graduation",
          "Graduation",
          "Master",
          "PhD",
          "2n Cycle",
          "Graduation",
          "Graduation",
          "2n Cycle",
          "PhD",
          "PhD",
          "Master",
          "Graduation",
          "Master",
          "Graduation",
          "PhD",
          "Basic",
          "PhD",
          "Master",
          "Graduation",
          "Graduation",
          "PhD",
          "Graduation",
          "Master",
          "Graduation",
          "Graduation",
          "Basic",
          "Graduation",
          "Graduation",
          "Graduation",
          "Graduation",
          "PhD",
          "Graduation",
          "PhD",
          "Graduation",
          "PhD",
          "PhD",
          "Master",
          "Graduation",
          "Basic",
          "Master",
          "Graduation",
          "PhD",
          "Graduation",
          "Graduation",
          "Graduation",
          "2n Cycle",
          "Graduation",
          "Graduation",
          "Graduation",
          "Graduation",
          "PhD",
          "Graduation",
          "Graduation",
          "PhD",
          "Graduation",
          "PhD",
          "Graduation",
          "Basic",
          "Master",
          "Graduation",
          "PhD",
          "PhD",
          "Graduation",
          "2n Cycle",
          "PhD",
          "Graduation",
          "Basic",
          "Graduation",
          "Master",
          "PhD",
          "Graduation",
          "2n Cycle",
          "2n Cycle",
          "Graduation",
          "Graduation",
          "2n Cycle",
          "Graduation",
          "PhD",
          "Graduation",
          "Basic",
          "Master",
          "PhD",
          "PhD",
          "Graduation",
          "PhD",
          "Graduation",
          "Graduation",
          "Graduation",
          "PhD",
          "PhD",
          "2n Cycle",
          "Basic",
          "PhD",
          "Graduation",
          "Graduation",
          "Graduation",
          "Graduation",
          "Graduation",
          "Graduation",
          "2n Cycle",
          "Graduation",
          "Graduation",
          "PhD",
          "2n Cycle",
          "Graduation",
          "Graduation",
          "Master",
          "Graduation",
          "Master",
          "Graduation",
          "2n Cycle",
          "Graduation",
          "Graduation",
          "Master",
          "Graduation",
          "Graduation",
          "Graduation",
          "PhD",
          "Graduation",
          "Graduation",
          "PhD",
          "Graduation",
          "PhD",
          "Master",
          "Graduation",
          "Graduation",
          "PhD",
          "2n Cycle",
          "Graduation",
          "Graduation",
          "PhD",
          "Graduation",
          "Master",
          "Master",
          "Graduation",
          "2n Cycle",
          "Graduation",
          "PhD",
          "Graduation",
          "Master",
          "Master",
          "Graduation",
          "Graduation",
          "PhD",
          "Graduation",
          "Graduation",
          "Graduation",
          "PhD",
          "Graduation",
          "2n Cycle",
          "PhD",
          "PhD",
          "Master",
          "Master",
          "Master",
          "Master",
          "PhD",
          "PhD",
          "Graduation",
          "PhD",
          "Graduation",
          "2n Cycle",
          "Graduation",
          "PhD",
          "Graduation",
          "PhD",
          "Master",
          "Master",
          "Master",
          "PhD",
          "Graduation",
          "PhD",
          "2n Cycle",
          "Graduation",
          "Graduation",
          "Graduation",
          "Graduation",
          "Master",
          "Graduation",
          "Master",
          "2n Cycle",
          "PhD",
          "Graduation",
          "Graduation",
          "PhD",
          "Graduation",
          "2n Cycle",
          "Master",
          "Graduation",
          "PhD",
          "Graduation",
          "PhD",
          "PhD",
          "PhD",
          "Master",
          "PhD",
          "Graduation",
          "PhD",
          "PhD",
          "Graduation",
          "Graduation",
          "PhD",
          "Master",
          "Graduation",
          "Graduation",
          "Graduation",
          "Graduation",
          "Basic",
          "PhD",
          "PhD",
          "PhD",
          "PhD",
          "Graduation",
          "Master",
          "Graduation",
          "Graduation",
          "Graduation",
          "PhD",
          "Graduation",
          "Graduation",
          "Master",
          "2n Cycle",
          "Graduation",
          "Master",
          "Graduation",
          "PhD",
          "Graduation",
          "Graduation",
          "PhD",
          "Graduation",
          "PhD",
          "2n Cycle",
          "2n Cycle",
          "Graduation",
          "Master",
          "Graduation",
          "Master",
          "PhD",
          "Graduation",
          "Graduation",
          "Master",
          "PhD",
          "PhD",
          "Master",
          "Master",
          "Graduation",
          "2n Cycle",
          "PhD",
          "PhD",
          "Master",
          "Graduation",
          "PhD",
          "Graduation",
          "Graduation",
          "Graduation",
          "Master",
          "Graduation",
          "Graduation",
          "Master",
          "Graduation",
          "Graduation",
          "PhD",
          "Graduation",
          "Graduation",
          "PhD",
          "PhD",
          "PhD",
          "Graduation",
          "Graduation",
          "Graduation",
          "PhD",
          "Master",
          "PhD",
          "Graduation",
          "Graduation",
          "Graduation",
          "Graduation",
          "Graduation",
          "Graduation",
          "Graduation",
          "Master",
          "Graduation",
          "Graduation",
          "Graduation",
          "Graduation",
          "2n Cycle",
          "Graduation",
          "2n Cycle",
          "PhD",
          "Graduation",
          "Master",
          "Graduation",
          "PhD",
          "Graduation",
          "Master",
          "Graduation",
          "Graduation",
          "Graduation",
          "Graduation",
          "Graduation",
          "Graduation",
          "PhD",
          "Master",
          "Master",
          "Graduation",
          "Graduation",
          "2n Cycle",
          "Graduation",
          "PhD",
          "PhD",
          "2n Cycle",
          "Graduation",
          "PhD",
          "Graduation",
          "Graduation",
          "Master",
          "Graduation",
          "Graduation",
          "Graduation",
          "PhD",
          "PhD",
          "Graduation",
          "Graduation",
          "Graduation",
          "Basic",
          "Graduation",
          "2n Cycle",
          "Graduation",
          "Graduation",
          "Graduation",
          "Graduation",
          "Graduation",
          "Master",
          "Graduation",
          "Master",
          "PhD",
          "Master",
          "Graduation",
          "Graduation",
          "Master",
          "2n Cycle",
          "PhD",
          "Graduation",
          "Graduation",
          "Graduation",
          "Graduation",
          "Graduation",
          "Graduation",
          "Graduation",
          "Graduation",
          "Graduation",
          "Graduation",
          "Graduation",
          "Graduation",
          "Master",
          "Graduation",
          "Graduation",
          "Graduation",
          "Graduation",
          "Graduation",
          "2n Cycle",
          "Graduation",
          "Graduation",
          "Graduation",
          "Master",
          "Graduation",
          "Graduation",
          "Graduation",
          "PhD",
          "Graduation",
          "Graduation",
          "PhD",
          "Graduation",
          "Graduation",
          "Graduation",
          "Graduation",
          "PhD",
          "Graduation",
          "Graduation",
          "Graduation",
          "Graduation",
          "Graduation",
          "PhD",
          "Graduation",
          "Graduation",
          "Master",
          "Basic",
          "Graduation",
          "Graduation",
          "Graduation",
          "Graduation",
          "2n Cycle",
          "Graduation",
          "Graduation",
          "Master",
          "Master",
          "Basic",
          "Graduation",
          "Graduation",
          "Master",
          "PhD",
          "Graduation",
          "Graduation",
          "Master",
          "Graduation",
          "Master",
          "PhD",
          "2n Cycle",
          "PhD",
          "Basic",
          "Basic",
          "Master",
          "Graduation",
          "Master",
          "Graduation",
          "Graduation",
          "PhD",
          "Graduation",
          "Master",
          "Master",
          "Master",
          "2n Cycle",
          "PhD",
          "Master",
          "Graduation",
          "Master",
          "2n Cycle",
          "Graduation",
          "2n Cycle",
          "Graduation",
          "Graduation",
          "Graduation",
          "PhD",
          "PhD",
          "Graduation",
          "Graduation",
          "Master",
          "PhD",
          "Basic",
          "Master",
          "Graduation",
          "Graduation",
          "Graduation",
          "Master",
          "Master",
          "Graduation",
          "Graduation",
          "Graduation",
          "Graduation",
          "Graduation",
          "Graduation",
          "PhD",
          "Master",
          "PhD",
          "PhD",
          "Master",
          "Graduation",
          "Graduation",
          "Graduation",
          "Master",
          "2n Cycle",
          "2n Cycle",
          "Master",
          "PhD",
          "Graduation",
          "PhD",
          "Graduation",
          "Graduation",
          "2n Cycle",
          "Basic",
          "PhD",
          "Graduation",
          "Master",
          "Graduation",
          "Graduation",
          "Graduation",
          "2n Cycle",
          "Graduation",
          "Graduation",
          "Graduation",
          "PhD",
          "Master",
          "PhD",
          "Graduation",
          "Graduation",
          "Graduation",
          "PhD",
          "Graduation",
          "Basic",
          "2n Cycle",
          "Graduation",
          "Master",
          "PhD",
          "Master",
          "Basic",
          "Master",
          "Graduation",
          "Graduation",
          "2n Cycle",
          "Graduation",
          "Master",
          "Graduation",
          "Graduation",
          "Graduation",
          "Graduation",
          "Basic",
          "Graduation",
          "PhD",
          "Graduation",
          "Graduation",
          "Graduation",
          "Graduation",
          "Graduation",
          "Basic",
          "Graduation",
          "2n Cycle",
          "Graduation",
          "Master",
          "2n Cycle",
          "Graduation",
          "Graduation",
          "Graduation",
          "PhD",
          "Graduation",
          "Master",
          "Graduation",
          "Master",
          "2n Cycle",
          "Master",
          "PhD",
          "Graduation",
          "Graduation",
          "Graduation",
          "Graduation",
          "Graduation",
          "Master",
          "Graduation",
          "Graduation",
          "Graduation",
          "Graduation",
          "PhD",
          "Graduation",
          "Master",
          "PhD"
         ],
         "x0": " ",
         "xaxis": "x",
         "y": {
          "bdata": "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",
          "dtype": "f8"
         },
         "y0": " ",
         "yaxis": "y"
        }
       ],
       "layout": {
        "boxmode": "group",
        "legend": {
         "tracegroupgap": 0
        },
        "template": {
         "data": {
          "bar": [
           {
            "error_x": {
             "color": "#2a3f5f"
            },
            "error_y": {
             "color": "#2a3f5f"
            },
            "marker": {
             "line": {
              "color": "#E5ECF6",
              "width": 0.5
             },
             "pattern": {
              "fillmode": "overlay",
              "size": 10,
              "solidity": 0.2
             }
            },
            "type": "bar"
           }
          ],
          "barpolar": [
           {
            "marker": {
             "line": {
              "color": "#E5ECF6",
              "width": 0.5
             },
             "pattern": {
              "fillmode": "overlay",
              "size": 10,
              "solidity": 0.2
             }
            },
            "type": "barpolar"
           }
          ],
          "carpet": [
           {
            "aaxis": {
             "endlinecolor": "#2a3f5f",
             "gridcolor": "white",
             "linecolor": "white",
             "minorgridcolor": "white",
             "startlinecolor": "#2a3f5f"
            },
            "baxis": {
             "endlinecolor": "#2a3f5f",
             "gridcolor": "white",
             "linecolor": "white",
             "minorgridcolor": "white",
             "startlinecolor": "#2a3f5f"
            },
            "type": "carpet"
           }
          ],
          "choropleth": [
           {
            "colorbar": {
             "outlinewidth": 0,
             "ticks": ""
            },
            "type": "choropleth"
           }
          ],
          "contour": [
           {
            "colorbar": {
             "outlinewidth": 0,
             "ticks": ""
            },
            "colorscale": [
             [
              0,
              "#0d0887"
             ],
             [
              0.1111111111111111,
              "#46039f"
             ],
             [
              0.2222222222222222,
              "#7201a8"
             ],
             [
              0.3333333333333333,
              "#9c179e"
             ],
             [
              0.4444444444444444,
              "#bd3786"
             ],
             [
              0.5555555555555556,
              "#d8576b"
             ],
             [
              0.6666666666666666,
              "#ed7953"
             ],
             [
              0.7777777777777778,
              "#fb9f3a"
             ],
             [
              0.8888888888888888,
              "#fdca26"
             ],
             [
              1,
              "#f0f921"
             ]
            ],
            "type": "contour"
           }
          ],
          "contourcarpet": [
           {
            "colorbar": {
             "outlinewidth": 0,
             "ticks": ""
            },
            "type": "contourcarpet"
           }
          ],
          "heatmap": [
           {
            "colorbar": {
             "outlinewidth": 0,
             "ticks": ""
            },
            "colorscale": [
             [
              0,
              "#0d0887"
             ],
             [
              0.1111111111111111,
              "#46039f"
             ],
             [
              0.2222222222222222,
              "#7201a8"
             ],
             [
              0.3333333333333333,
              "#9c179e"
             ],
             [
              0.4444444444444444,
              "#bd3786"
             ],
             [
              0.5555555555555556,
              "#d8576b"
             ],
             [
              0.6666666666666666,
              "#ed7953"
             ],
             [
              0.7777777777777778,
              "#fb9f3a"
             ],
             [
              0.8888888888888888,
              "#fdca26"
             ],
             [
              1,
              "#f0f921"
             ]
            ],
            "type": "heatmap"
           }
          ],
          "histogram": [
           {
            "marker": {
             "pattern": {
              "fillmode": "overlay",
              "size": 10,
              "solidity": 0.2
             }
            },
            "type": "histogram"
           }
          ],
          "histogram2d": [
           {
            "colorbar": {
             "outlinewidth": 0,
             "ticks": ""
            },
            "colorscale": [
             [
              0,
              "#0d0887"
             ],
             [
              0.1111111111111111,
              "#46039f"
             ],
             [
              0.2222222222222222,
              "#7201a8"
             ],
             [
              0.3333333333333333,
              "#9c179e"
             ],
             [
              0.4444444444444444,
              "#bd3786"
             ],
             [
              0.5555555555555556,
              "#d8576b"
             ],
             [
              0.6666666666666666,
              "#ed7953"
             ],
             [
              0.7777777777777778,
              "#fb9f3a"
             ],
             [
              0.8888888888888888,
              "#fdca26"
             ],
             [
              1,
              "#f0f921"
             ]
            ],
            "type": "histogram2d"
           }
          ],
          "histogram2dcontour": [
           {
            "colorbar": {
             "outlinewidth": 0,
             "ticks": ""
            },
            "colorscale": [
             [
              0,
              "#0d0887"
             ],
             [
              0.1111111111111111,
              "#46039f"
             ],
             [
              0.2222222222222222,
              "#7201a8"
             ],
             [
              0.3333333333333333,
              "#9c179e"
             ],
             [
              0.4444444444444444,
              "#bd3786"
             ],
             [
              0.5555555555555556,
              "#d8576b"
             ],
             [
              0.6666666666666666,
              "#ed7953"
             ],
             [
              0.7777777777777778,
              "#fb9f3a"
             ],
             [
              0.8888888888888888,
              "#fdca26"
             ],
             [
              1,
              "#f0f921"
             ]
            ],
            "type": "histogram2dcontour"
           }
          ],
          "mesh3d": [
           {
            "colorbar": {
             "outlinewidth": 0,
             "ticks": ""
            },
            "type": "mesh3d"
           }
          ],
          "parcoords": [
           {
            "line": {
             "colorbar": {
              "outlinewidth": 0,
              "ticks": ""
             }
            },
            "type": "parcoords"
           }
          ],
          "pie": [
           {
            "automargin": true,
            "type": "pie"
           }
          ],
          "scatter": [
           {
            "fillpattern": {
             "fillmode": "overlay",
             "size": 10,
             "solidity": 0.2
            },
            "type": "scatter"
           }
          ],
          "scatter3d": [
           {
            "line": {
             "colorbar": {
              "outlinewidth": 0,
              "ticks": ""
             }
            },
            "marker": {
             "colorbar": {
              "outlinewidth": 0,
              "ticks": ""
             }
            },
            "type": "scatter3d"
           }
          ],
          "scattercarpet": [
           {
            "marker": {
             "colorbar": {
              "outlinewidth": 0,
              "ticks": ""
             }
            },
            "type": "scattercarpet"
           }
          ],
          "scattergeo": [
           {
            "marker": {
             "colorbar": {
              "outlinewidth": 0,
              "ticks": ""
             }
            },
            "type": "scattergeo"
           }
          ],
          "scattergl": [
           {
            "marker": {
             "colorbar": {
              "outlinewidth": 0,
              "ticks": ""
             }
            },
            "type": "scattergl"
           }
          ],
          "scattermap": [
           {
            "marker": {
             "colorbar": {
              "outlinewidth": 0,
              "ticks": ""
             }
            },
            "type": "scattermap"
           }
          ],
          "scattermapbox": [
           {
            "marker": {
             "colorbar": {
              "outlinewidth": 0,
              "ticks": ""
             }
            },
            "type": "scattermapbox"
           }
          ],
          "scatterpolar": [
           {
            "marker": {
             "colorbar": {
              "outlinewidth": 0,
              "ticks": ""
             }
            },
            "type": "scatterpolar"
           }
          ],
          "scatterpolargl": [
           {
            "marker": {
             "colorbar": {
              "outlinewidth": 0,
              "ticks": ""
             }
            },
            "type": "scatterpolargl"
           }
          ],
          "scatterternary": [
           {
            "marker": {
             "colorbar": {
              "outlinewidth": 0,
              "ticks": ""
             }
            },
            "type": "scatterternary"
           }
          ],
          "surface": [
           {
            "colorbar": {
             "outlinewidth": 0,
             "ticks": ""
            },
            "colorscale": [
             [
              0,
              "#0d0887"
             ],
             [
              0.1111111111111111,
              "#46039f"
             ],
             [
              0.2222222222222222,
              "#7201a8"
             ],
             [
              0.3333333333333333,
              "#9c179e"
             ],
             [
              0.4444444444444444,
              "#bd3786"
             ],
             [
              0.5555555555555556,
              "#d8576b"
             ],
             [
              0.6666666666666666,
              "#ed7953"
             ],
             [
              0.7777777777777778,
              "#fb9f3a"
             ],
             [
              0.8888888888888888,
              "#fdca26"
             ],
             [
              1,
              "#f0f921"
             ]
            ],
            "type": "surface"
           }
          ],
          "table": [
           {
            "cells": {
             "fill": {
              "color": "#EBF0F8"
             },
             "line": {
              "color": "white"
             }
            },
            "header": {
             "fill": {
              "color": "#C8D4E3"
             },
             "line": {
              "color": "white"
             }
            },
            "type": "table"
           }
          ]
         },
         "layout": {
          "annotationdefaults": {
           "arrowcolor": "#2a3f5f",
           "arrowhead": 0,
           "arrowwidth": 1
          },
          "autotypenumbers": "strict",
          "coloraxis": {
           "colorbar": {
            "outlinewidth": 0,
            "ticks": ""
           }
          },
          "colorscale": {
           "diverging": [
            [
             0,
             "#8e0152"
            ],
            [
             0.1,
             "#c51b7d"
            ],
            [
             0.2,
             "#de77ae"
            ],
            [
             0.3,
             "#f1b6da"
            ],
            [
             0.4,
             "#fde0ef"
            ],
            [
             0.5,
             "#f7f7f7"
            ],
            [
             0.6,
             "#e6f5d0"
            ],
            [
             0.7,
             "#b8e186"
            ],
            [
             0.8,
             "#7fbc41"
            ],
            [
             0.9,
             "#4d9221"
            ],
            [
             1,
             "#276419"
            ]
           ],
           "sequential": [
            [
             0,
             "#0d0887"
            ],
            [
             0.1111111111111111,
             "#46039f"
            ],
            [
             0.2222222222222222,
             "#7201a8"
            ],
            [
             0.3333333333333333,
             "#9c179e"
            ],
            [
             0.4444444444444444,
             "#bd3786"
            ],
            [
             0.5555555555555556,
             "#d8576b"
            ],
            [
             0.6666666666666666,
             "#ed7953"
            ],
            [
             0.7777777777777778,
             "#fb9f3a"
            ],
            [
             0.8888888888888888,
             "#fdca26"
            ],
            [
             1,
             "#f0f921"
            ]
           ],
           "sequentialminus": [
            [
             0,
             "#0d0887"
            ],
            [
             0.1111111111111111,
             "#46039f"
            ],
            [
             0.2222222222222222,
             "#7201a8"
            ],
            [
             0.3333333333333333,
             "#9c179e"
            ],
            [
             0.4444444444444444,
             "#bd3786"
            ],
            [
             0.5555555555555556,
             "#d8576b"
            ],
            [
             0.6666666666666666,
             "#ed7953"
            ],
            [
             0.7777777777777778,
             "#fb9f3a"
            ],
            [
             0.8888888888888888,
             "#fdca26"
            ],
            [
             1,
             "#f0f921"
            ]
           ]
          },
          "colorway": [
           "#636efa",
           "#EF553B",
           "#00cc96",
           "#ab63fa",
           "#FFA15A",
           "#19d3f3",
           "#FF6692",
           "#B6E880",
           "#FF97FF",
           "#FECB52"
          ],
          "font": {
           "color": "#2a3f5f"
          },
          "geo": {
           "bgcolor": "white",
           "lakecolor": "white",
           "landcolor": "#E5ECF6",
           "showlakes": true,
           "showland": true,
           "subunitcolor": "white"
          },
          "hoverlabel": {
           "align": "left"
          },
          "hovermode": "closest",
          "mapbox": {
           "style": "light"
          },
          "paper_bgcolor": "white",
          "plot_bgcolor": "#E5ECF6",
          "polar": {
           "angularaxis": {
            "gridcolor": "white",
            "linecolor": "white",
            "ticks": ""
           },
           "bgcolor": "#E5ECF6",
           "radialaxis": {
            "gridcolor": "white",
            "linecolor": "white",
            "ticks": ""
           }
          },
          "scene": {
           "xaxis": {
            "backgroundcolor": "#E5ECF6",
            "gridcolor": "white",
            "gridwidth": 2,
            "linecolor": "white",
            "showbackground": true,
            "ticks": "",
            "zerolinecolor": "white"
           },
           "yaxis": {
            "backgroundcolor": "#E5ECF6",
            "gridcolor": "white",
            "gridwidth": 2,
            "linecolor": "white",
            "showbackground": true,
            "ticks": "",
            "zerolinecolor": "white"
           },
           "zaxis": {
            "backgroundcolor": "#E5ECF6",
            "gridcolor": "white",
            "gridwidth": 2,
            "linecolor": "white",
            "showbackground": true,
            "ticks": "",
            "zerolinecolor": "white"
           }
          },
          "shapedefaults": {
           "line": {
            "color": "#2a3f5f"
           }
          },
          "ternary": {
           "aaxis": {
            "gridcolor": "white",
            "linecolor": "white",
            "ticks": ""
           },
           "baxis": {
            "gridcolor": "white",
            "linecolor": "white",
            "ticks": ""
           },
           "bgcolor": "#E5ECF6",
           "caxis": {
            "gridcolor": "white",
            "linecolor": "white",
            "ticks": ""
           }
          },
          "title": {
           "x": 0.05
          },
          "xaxis": {
           "automargin": true,
           "gridcolor": "white",
           "linecolor": "white",
           "ticks": "",
           "title": {
            "standoff": 15
           },
           "zerolinecolor": "white",
           "zerolinewidth": 2
          },
          "yaxis": {
           "automargin": true,
           "gridcolor": "white",
           "linecolor": "white",
           "ticks": "",
           "title": {
            "standoff": 15
           },
           "zerolinecolor": "white",
           "zerolinewidth": 2
          }
         }
        },
        "title": {
         "text": "Income Boxplot"
        },
        "xaxis": {
         "anchor": "y",
         "domain": [
          0,
          1
         ],
         "title": {
          "text": "Education"
         }
        },
        "yaxis": {
         "anchor": "x",
         "domain": [
          0,
          1
         ],
         "title": {
          "text": "Income"
         }
        }
       }
      }
     },
     "metadata": {},
     "output_type": "display_data"
    }
   ],
   "source": [
    "px.box(data, y=\"Income\", x=\"Education\", title=\"Income Boxplot\").show()"
   ]
  },
  {
   "cell_type": "markdown",
   "id": "d7f93814",
   "metadata": {},
   "source": [
    "The graph doesnt seem to be very informative due to an outlier, so I will exclude it to see if it shows more information."
   ]
  },
  {
   "cell_type": "code",
   "execution_count": 25,
   "id": "106c131a",
   "metadata": {},
   "outputs": [
    {
     "data": {
      "application/vnd.plotly.v1+json": {
       "config": {
        "plotlyServerURL": "https://plot.ly"
       },
       "data": [
        {
         "alignmentgroup": "True",
         "hovertemplate": "Education=%{x}<br>Income=%{y}<extra></extra>",
         "legendgroup": "",
         "marker": {
          "color": "#636efa"
         },
         "name": "",
         "notched": false,
         "offsetgroup": "",
         "orientation": "v",
         "showlegend": false,
         "type": "box",
         "x": [
          "Graduation",
          "Graduation",
          "Graduation",
          "Graduation",
          "PhD",
          "Master",
          "Graduation",
          "PhD",
          "PhD",
          "PhD",
          "Basic",
          "Graduation",
          "Master",
          "Graduation",
          "PhD",
          "Graduation",
          "Graduation",
          "Master",
          "2n Cycle",
          "Graduation",
          "Graduation",
          "PhD",
          "PhD",
          "Graduation",
          "Graduation",
          "Graduation",
          "Graduation",
          "PhD",
          "Master",
          "Master",
          "Graduation",
          "PhD",
          "Master",
          "Master",
          "PhD",
          "2n Cycle",
          "Graduation",
          "PhD",
          "Graduation",
          "Master",
          "Graduation",
          "Master",
          "Graduation",
          "2n Cycle",
          "Graduation",
          "PhD",
          "Graduation",
          "Master",
          "Graduation",
          "Graduation",
          "Graduation",
          "Master",
          "Graduation",
          "Graduation",
          "PhD",
          "Master",
          "Graduation",
          "Graduation",
          "PhD",
          "Graduation",
          "Graduation",
          "Graduation",
          "2n Cycle",
          "Graduation",
          "Graduation",
          "Master",
          "Graduation",
          "PhD",
          "Graduation",
          "Graduation",
          "Master",
          "Graduation",
          "2n Cycle",
          "Graduation",
          "Graduation",
          "Graduation",
          "2n Cycle",
          "Master",
          "Graduation",
          "Graduation",
          "Master",
          "Graduation",
          "Graduation",
          "Graduation",
          "Master",
          "PhD",
          "Graduation",
          "Graduation",
          "Graduation",
          "2n Cycle",
          "PhD",
          "2n Cycle",
          "PhD",
          "Graduation",
          "PhD",
          "Graduation",
          "Basic",
          "Graduation",
          "Graduation",
          "Graduation",
          "Master",
          "Graduation",
          "PhD",
          "Master",
          "Graduation",
          "PhD",
          "Graduation",
          "Graduation",
          "2n Cycle",
          "2n Cycle",
          "Graduation",
          "Master",
          "Master",
          "Master",
          "Graduation",
          "Graduation",
          "2n Cycle",
          "Graduation",
          "Master",
          "PhD",
          "Graduation",
          "Master",
          "Graduation",
          "PhD",
          "PhD",
          "Basic",
          "PhD",
          "PhD",
          "PhD",
          "Master",
          "Master",
          "Graduation",
          "PhD",
          "Graduation",
          "Graduation",
          "Graduation",
          "Graduation",
          "2n Cycle",
          "Master",
          "Master",
          "Graduation",
          "2n Cycle",
          "Graduation",
          "PhD",
          "Graduation",
          "Graduation",
          "Graduation",
          "Graduation",
          "Graduation",
          "Master",
          "PhD",
          "Graduation",
          "PhD",
          "PhD",
          "Graduation",
          "Graduation",
          "Graduation",
          "Graduation",
          "Graduation",
          "Graduation",
          "Graduation",
          "Graduation",
          "PhD",
          "Graduation",
          "PhD",
          "PhD",
          "PhD",
          "Graduation",
          "2n Cycle",
          "PhD",
          "2n Cycle",
          "Master",
          "Master",
          "Basic",
          "Graduation",
          "PhD",
          "Graduation",
          "Graduation",
          "PhD",
          "Basic",
          "PhD",
          "Graduation",
          "Graduation",
          "Graduation",
          "Master",
          "Graduation",
          "Graduation",
          "PhD",
          "Graduation",
          "Graduation",
          "Graduation",
          "PhD",
          "PhD",
          "Master",
          "Graduation",
          "Master",
          "Graduation",
          "Graduation",
          "Graduation",
          "Graduation",
          "PhD",
          "Master",
          "Graduation",
          "Graduation",
          "2n Cycle",
          "Master",
          "Master",
          "Graduation",
          "2n Cycle",
          "Graduation",
          "PhD",
          "PhD",
          "Graduation",
          "Graduation",
          "Graduation",
          "Graduation",
          "PhD",
          "PhD",
          "Graduation",
          "2n Cycle",
          "Graduation",
          "Graduation",
          "PhD",
          "2n Cycle",
          "Master",
          "PhD",
          "Graduation",
          "Graduation",
          "Graduation",
          "Graduation",
          "Graduation",
          "Graduation",
          "PhD",
          "Graduation",
          "Graduation",
          "PhD",
          "Master",
          "Master",
          "Graduation",
          "Graduation",
          "2n Cycle",
          "Graduation",
          "PhD",
          "PhD",
          "Graduation",
          "Graduation",
          "PhD",
          "Graduation",
          "PhD",
          "Master",
          "PhD",
          "Master",
          "Master",
          "Graduation",
          "PhD",
          "Graduation",
          "Graduation",
          "Graduation",
          "Master",
          "PhD",
          "Graduation",
          "Graduation",
          "PhD",
          "Graduation",
          "Master",
          "PhD",
          "Master",
          "Basic",
          "Graduation",
          "Graduation",
          "PhD",
          "Master",
          "Graduation",
          "Graduation",
          "Master",
          "Graduation",
          "Master",
          "2n Cycle",
          "Graduation",
          "Graduation",
          "Graduation",
          "Graduation",
          "Master",
          "2n Cycle",
          "Master",
          "Graduation",
          "PhD",
          "Graduation",
          "2n Cycle",
          "PhD",
          "Graduation",
          "Graduation",
          "Master",
          "Graduation",
          "Graduation",
          "Master",
          "Master",
          "Graduation",
          "Graduation",
          "Master",
          "Graduation",
          "Master",
          "Graduation",
          "Graduation",
          "Graduation",
          "Graduation",
          "Graduation",
          "PhD",
          "PhD",
          "Graduation",
          "Graduation",
          "PhD",
          "Graduation",
          "PhD",
          "PhD",
          "Graduation",
          "PhD",
          "PhD",
          "Master",
          "Graduation",
          "Graduation",
          "Graduation",
          "Graduation",
          "Graduation",
          "Graduation",
          "Graduation",
          "PhD",
          "PhD",
          "Basic",
          "Graduation",
          "Graduation",
          "Graduation",
          "Graduation",
          "Master",
          "Graduation",
          "Graduation",
          "PhD",
          "Graduation",
          "PhD",
          "Graduation",
          "Graduation",
          "PhD",
          "Master",
          "PhD",
          "Graduation",
          "PhD",
          "Graduation",
          "PhD",
          "Graduation",
          "Graduation",
          "Graduation",
          "Graduation",
          "Graduation",
          "PhD",
          "2n Cycle",
          "Graduation",
          "Master",
          "Graduation",
          "PhD",
          "Master",
          "Graduation",
          "Graduation",
          "PhD",
          "Graduation",
          "PhD",
          "Graduation",
          "Graduation",
          "2n Cycle",
          "Master",
          "Graduation",
          "Master",
          "Graduation",
          "Graduation",
          "PhD",
          "Graduation",
          "Master",
          "Graduation",
          "PhD",
          "Master",
          "PhD",
          "Graduation",
          "Graduation",
          "Graduation",
          "2n Cycle",
          "2n Cycle",
          "Graduation",
          "Graduation",
          "Graduation",
          "PhD",
          "Graduation",
          "PhD",
          "PhD",
          "PhD",
          "Graduation",
          "2n Cycle",
          "Graduation",
          "PhD",
          "Graduation",
          "Graduation",
          "PhD",
          "2n Cycle",
          "Graduation",
          "Graduation",
          "Master",
          "PhD",
          "Graduation",
          "Master",
          "Master",
          "PhD",
          "Graduation",
          "Graduation",
          "Graduation",
          "2n Cycle",
          "Graduation",
          "PhD",
          "Graduation",
          "2n Cycle",
          "Graduation",
          "Graduation",
          "Master",
          "Graduation",
          "Master",
          "PhD",
          "2n Cycle",
          "Graduation",
          "PhD",
          "Graduation",
          "Graduation",
          "2n Cycle",
          "Graduation",
          "Master",
          "Graduation",
          "Graduation",
          "PhD",
          "Graduation",
          "Graduation",
          "Master",
          "2n Cycle",
          "Graduation",
          "Graduation",
          "2n Cycle",
          "Master",
          "Graduation",
          "2n Cycle",
          "Graduation",
          "Graduation",
          "PhD",
          "Graduation",
          "Graduation",
          "PhD",
          "PhD",
          "Graduation",
          "Graduation",
          "PhD",
          "Graduation",
          "Graduation",
          "PhD",
          "Graduation",
          "Graduation",
          "Graduation",
          "PhD",
          "Master",
          "PhD",
          "Graduation",
          "Master",
          "Master",
          "Graduation",
          "Graduation",
          "Master",
          "PhD",
          "Master",
          "Graduation",
          "Graduation",
          "2n Cycle",
          "PhD",
          "Graduation",
          "Graduation",
          "Master",
          "PhD",
          "Master",
          "Graduation",
          "PhD",
          "PhD",
          "Graduation",
          "Graduation",
          "Master",
          "Basic",
          "PhD",
          "Master",
          "Graduation",
          "Graduation",
          "Graduation",
          "Graduation",
          "Graduation",
          "PhD",
          "Graduation",
          "Graduation",
          "Master",
          "PhD",
          "Master",
          "Graduation",
          "Graduation",
          "Graduation",
          "Master",
          "Graduation",
          "Master",
          "Graduation",
          "Graduation",
          "Graduation",
          "Graduation",
          "PhD",
          "Master",
          "Graduation",
          "PhD",
          "2n Cycle",
          "Graduation",
          "Master",
          "Graduation",
          "Graduation",
          "Master",
          "Graduation",
          "Graduation",
          "2n Cycle",
          "Master",
          "2n Cycle",
          "Graduation",
          "PhD",
          "PhD",
          "Graduation",
          "2n Cycle",
          "Graduation",
          "Graduation",
          "Graduation",
          "Master",
          "2n Cycle",
          "Graduation",
          "PhD",
          "Graduation",
          "Master",
          "Graduation",
          "PhD",
          "Graduation",
          "2n Cycle",
          "Graduation",
          "Graduation",
          "Graduation",
          "Master",
          "2n Cycle",
          "PhD",
          "PhD",
          "Graduation",
          "Master",
          "Graduation",
          "Graduation",
          "Graduation",
          "PhD",
          "2n Cycle",
          "PhD",
          "Master",
          "PhD",
          "Graduation",
          "Graduation",
          "PhD",
          "Master",
          "PhD",
          "Graduation",
          "2n Cycle",
          "Master",
          "Graduation",
          "2n Cycle",
          "Graduation",
          "Master",
          "Graduation",
          "Graduation",
          "PhD",
          "Master",
          "Master",
          "Graduation",
          "PhD",
          "Master",
          "Graduation",
          "Master",
          "2n Cycle",
          "Graduation",
          "Graduation",
          "Graduation",
          "Graduation",
          "PhD",
          "Master",
          "Master",
          "Graduation",
          "Graduation",
          "Basic",
          "Graduation",
          "Master",
          "Master",
          "Basic",
          "Graduation",
          "PhD",
          "Graduation",
          "Master",
          "PhD",
          "Graduation",
          "Master",
          "PhD",
          "Graduation",
          "Graduation",
          "2n Cycle",
          "2n Cycle",
          "Graduation",
          "Graduation",
          "Graduation",
          "PhD",
          "Graduation",
          "PhD",
          "PhD",
          "2n Cycle",
          "2n Cycle",
          "Graduation",
          "Graduation",
          "Graduation",
          "Graduation",
          "Master",
          "Graduation",
          "Graduation",
          "PhD",
          "PhD",
          "Graduation",
          "Master",
          "PhD",
          "Graduation",
          "Master",
          "Master",
          "Graduation",
          "Master",
          "Graduation",
          "Graduation",
          "PhD",
          "Graduation",
          "Graduation",
          "Graduation",
          "2n Cycle",
          "PhD",
          "PhD",
          "Graduation",
          "Graduation",
          "Graduation",
          "Basic",
          "Master",
          "Graduation",
          "PhD",
          "Basic",
          "PhD",
          "2n Cycle",
          "PhD",
          "Master",
          "Graduation",
          "Graduation",
          "PhD",
          "Graduation",
          "PhD",
          "Graduation",
          "2n Cycle",
          "PhD",
          "Graduation",
          "Graduation",
          "2n Cycle",
          "Graduation",
          "Graduation",
          "PhD",
          "PhD",
          "PhD",
          "PhD",
          "PhD",
          "PhD",
          "Graduation",
          "Master",
          "Basic",
          "Master",
          "Master",
          "Graduation",
          "PhD",
          "Graduation",
          "Graduation",
          "Graduation",
          "Graduation",
          "Graduation",
          "Master",
          "Master",
          "Graduation",
          "PhD",
          "Graduation",
          "PhD",
          "Master",
          "Graduation",
          "Master",
          "Graduation",
          "Graduation",
          "Graduation",
          "PhD",
          "2n Cycle",
          "Graduation",
          "Graduation",
          "Graduation",
          "Master",
          "Graduation",
          "PhD",
          "Graduation",
          "Graduation",
          "Graduation",
          "Graduation",
          "Master",
          "Master",
          "Graduation",
          "PhD",
          "PhD",
          "Graduation",
          "PhD",
          "Graduation",
          "Graduation",
          "Graduation",
          "Master",
          "Basic",
          "Graduation",
          "PhD",
          "Master",
          "PhD",
          "2n Cycle",
          "Graduation",
          "Graduation",
          "2n Cycle",
          "Graduation",
          "Graduation",
          "2n Cycle",
          "PhD",
          "PhD",
          "Graduation",
          "Graduation",
          "Graduation",
          "2n Cycle",
          "PhD",
          "Graduation",
          "Master",
          "PhD",
          "2n Cycle",
          "Graduation",
          "Master",
          "PhD",
          "Graduation",
          "Graduation",
          "Graduation",
          "Graduation",
          "2n Cycle",
          "Master",
          "Graduation",
          "PhD",
          "Graduation",
          "Graduation",
          "PhD",
          "Graduation",
          "PhD",
          "PhD",
          "Master",
          "Graduation",
          "PhD",
          "Graduation",
          "Graduation",
          "Graduation",
          "Graduation",
          "Basic",
          "Master",
          "PhD",
          "Master",
          "Graduation",
          "Master",
          "PhD",
          "Graduation",
          "Graduation",
          "Graduation",
          "Master",
          "PhD",
          "2n Cycle",
          "Graduation",
          "Graduation",
          "Master",
          "Graduation",
          "Graduation",
          "PhD",
          "Graduation",
          "Master",
          "Master",
          "Graduation",
          "Graduation",
          "Graduation",
          "Graduation",
          "Graduation",
          "Graduation",
          "Master",
          "PhD",
          "PhD",
          "Graduation",
          "Graduation",
          "Graduation",
          "2n Cycle",
          "PhD",
          "Graduation",
          "Graduation",
          "Graduation",
          "Graduation",
          "2n Cycle",
          "Graduation",
          "Graduation",
          "PhD",
          "Graduation",
          "PhD",
          "Graduation",
          "PhD",
          "2n Cycle",
          "Graduation",
          "Graduation",
          "Master",
          "Graduation",
          "2n Cycle",
          "Graduation",
          "Graduation",
          "Graduation",
          "Graduation",
          "Graduation",
          "2n Cycle",
          "Graduation",
          "2n Cycle",
          "Master",
          "Graduation",
          "Graduation",
          "Graduation",
          "PhD",
          "2n Cycle",
          "PhD",
          "PhD",
          "Graduation",
          "Master",
          "Graduation",
          "Graduation",
          "2n Cycle",
          "Graduation",
          "Master",
          "Graduation",
          "2n Cycle",
          "2n Cycle",
          "PhD",
          "Master",
          "Master",
          "Graduation",
          "Graduation",
          "PhD",
          "Graduation",
          "Graduation",
          "2n Cycle",
          "Master",
          "Graduation",
          "Master",
          "Graduation",
          "Master",
          "2n Cycle",
          "Graduation",
          "Graduation",
          "Graduation",
          "2n Cycle",
          "PhD",
          "PhD",
          "PhD",
          "Graduation",
          "Graduation",
          "Master",
          "Graduation",
          "Master",
          "Graduation",
          "Basic",
          "PhD",
          "PhD",
          "Graduation",
          "Graduation",
          "PhD",
          "Graduation",
          "Graduation",
          "Graduation",
          "Graduation",
          "Graduation",
          "Graduation",
          "Graduation",
          "Graduation",
          "Graduation",
          "Graduation",
          "PhD",
          "PhD",
          "Graduation",
          "PhD",
          "Master",
          "Graduation",
          "Graduation",
          "Master",
          "PhD",
          "2n Cycle",
          "PhD",
          "PhD",
          "Graduation",
          "Master",
          "PhD",
          "Graduation",
          "Master",
          "Graduation",
          "2n Cycle",
          "Graduation",
          "PhD",
          "PhD",
          "Graduation",
          "PhD",
          "Basic",
          "Graduation",
          "PhD",
          "Graduation",
          "PhD",
          "Graduation",
          "PhD",
          "2n Cycle",
          "PhD",
          "Graduation",
          "Graduation",
          "Basic",
          "PhD",
          "2n Cycle",
          "Graduation",
          "Graduation",
          "2n Cycle",
          "PhD",
          "PhD",
          "Master",
          "PhD",
          "Master",
          "PhD",
          "Graduation",
          "Graduation",
          "Graduation",
          "PhD",
          "Graduation",
          "PhD",
          "Master",
          "PhD",
          "Graduation",
          "Graduation",
          "Graduation",
          "Graduation",
          "PhD",
          "Graduation",
          "Graduation",
          "PhD",
          "2n Cycle",
          "2n Cycle",
          "Master",
          "Graduation",
          "Master",
          "Master",
          "Graduation",
          "Graduation",
          "2n Cycle",
          "Graduation",
          "Master",
          "Graduation",
          "Graduation",
          "PhD",
          "PhD",
          "Graduation",
          "2n Cycle",
          "PhD",
          "Graduation",
          "2n Cycle",
          "Master",
          "Graduation",
          "Graduation",
          "Graduation",
          "Graduation",
          "Graduation",
          "Graduation",
          "Graduation",
          "PhD",
          "PhD",
          "2n Cycle",
          "Graduation",
          "PhD",
          "Graduation",
          "Master",
          "Graduation",
          "Graduation",
          "PhD",
          "Graduation",
          "PhD",
          "Graduation",
          "Master",
          "Master",
          "Master",
          "2n Cycle",
          "Graduation",
          "Graduation",
          "Graduation",
          "Graduation",
          "PhD",
          "PhD",
          "Master",
          "Graduation",
          "PhD",
          "Graduation",
          "Basic",
          "PhD",
          "2n Cycle",
          "Graduation",
          "Graduation",
          "Graduation",
          "2n Cycle",
          "Graduation",
          "Graduation",
          "PhD",
          "Master",
          "PhD",
          "Graduation",
          "Graduation",
          "Graduation",
          "Graduation",
          "Graduation",
          "Graduation",
          "Master",
          "Master",
          "PhD",
          "Graduation",
          "Graduation",
          "2n Cycle",
          "PhD",
          "PhD",
          "2n Cycle",
          "Master",
          "Graduation",
          "Graduation",
          "PhD",
          "Graduation",
          "Graduation",
          "Master",
          "Graduation",
          "PhD",
          "PhD",
          "PhD",
          "Graduation",
          "Graduation",
          "2n Cycle",
          "Graduation",
          "Graduation",
          "PhD",
          "Graduation",
          "Graduation",
          "Graduation",
          "Graduation",
          "Graduation",
          "PhD",
          "2n Cycle",
          "Master",
          "PhD",
          "Graduation",
          "Graduation",
          "Graduation",
          "Graduation",
          "Master",
          "Graduation",
          "Graduation",
          "PhD",
          "Graduation",
          "PhD",
          "PhD",
          "PhD",
          "Graduation",
          "PhD",
          "PhD",
          "Graduation",
          "Graduation",
          "2n Cycle",
          "Master",
          "Graduation",
          "Graduation",
          "2n Cycle",
          "Graduation",
          "Graduation",
          "Graduation",
          "PhD",
          "PhD",
          "2n Cycle",
          "2n Cycle",
          "Graduation",
          "Graduation",
          "2n Cycle",
          "PhD",
          "Master",
          "PhD",
          "Graduation",
          "PhD",
          "Master",
          "Basic",
          "2n Cycle",
          "Graduation",
          "PhD",
          "Master",
          "Graduation",
          "Graduation",
          "Graduation",
          "Graduation",
          "Graduation",
          "Basic",
          "2n Cycle",
          "Master",
          "Graduation",
          "Graduation",
          "Graduation",
          "Graduation",
          "2n Cycle",
          "PhD",
          "PhD",
          "Master",
          "Graduation",
          "Master",
          "Graduation",
          "2n Cycle",
          "PhD",
          "Graduation",
          "Master",
          "Graduation",
          "Graduation",
          "PhD",
          "Graduation",
          "PhD",
          "Graduation",
          "Graduation",
          "Graduation",
          "Master",
          "PhD",
          "Graduation",
          "Graduation",
          "Graduation",
          "Graduation",
          "Graduation",
          "Graduation",
          "Graduation",
          "Graduation",
          "PhD",
          "Graduation",
          "2n Cycle",
          "Graduation",
          "Graduation",
          "Graduation",
          "Basic",
          "2n Cycle",
          "PhD",
          "Master",
          "Basic",
          "Master",
          "Master",
          "Graduation",
          "Graduation",
          "Master",
          "Graduation",
          "Graduation",
          "PhD",
          "Basic",
          "Graduation",
          "Graduation",
          "Graduation",
          "PhD",
          "PhD",
          "2n Cycle",
          "Master",
          "Master",
          "Graduation",
          "Graduation",
          "Master",
          "Master",
          "2n Cycle",
          "Master",
          "PhD",
          "2n Cycle",
          "Graduation",
          "Graduation",
          "Master",
          "Graduation",
          "Master",
          "Master",
          "PhD",
          "Graduation",
          "PhD",
          "Graduation",
          "Graduation",
          "Graduation",
          "Graduation",
          "Graduation",
          "Graduation",
          "Graduation",
          "Graduation",
          "PhD",
          "PhD",
          "Graduation",
          "Basic",
          "Graduation",
          "2n Cycle",
          "Graduation",
          "PhD",
          "PhD",
          "PhD",
          "Graduation",
          "Master",
          "Master",
          "Graduation",
          "PhD",
          "Graduation",
          "Graduation",
          "PhD",
          "Graduation",
          "Master",
          "Graduation",
          "Graduation",
          "Graduation",
          "Basic",
          "PhD",
          "Graduation",
          "Master",
          "PhD",
          "Graduation",
          "Basic",
          "Graduation",
          "PhD",
          "Graduation",
          "PhD",
          "Graduation",
          "PhD",
          "Graduation",
          "Graduation",
          "PhD",
          "2n Cycle",
          "Graduation",
          "Graduation",
          "Graduation",
          "PhD",
          "PhD",
          "Master",
          "Graduation",
          "Graduation",
          "Graduation",
          "PhD",
          "Graduation",
          "PhD",
          "2n Cycle",
          "Graduation",
          "Master",
          "Graduation",
          "Master",
          "Master",
          "Graduation",
          "Master",
          "Graduation",
          "Graduation",
          "Graduation",
          "Graduation",
          "2n Cycle",
          "PhD",
          "Master",
          "Basic",
          "Graduation",
          "PhD",
          "2n Cycle",
          "Master",
          "Graduation",
          "Graduation",
          "Graduation",
          "2n Cycle",
          "PhD",
          "PhD",
          "Master",
          "PhD",
          "Graduation",
          "Graduation",
          "Graduation",
          "Master",
          "Graduation",
          "2n Cycle",
          "Graduation",
          "Graduation",
          "Graduation",
          "Graduation",
          "PhD",
          "Graduation",
          "Graduation",
          "PhD",
          "Master",
          "Master",
          "2n Cycle",
          "2n Cycle",
          "PhD",
          "Graduation",
          "2n Cycle",
          "Graduation",
          "Graduation",
          "Master",
          "Master",
          "Graduation",
          "Graduation",
          "Basic",
          "Master",
          "Graduation",
          "PhD",
          "Master",
          "PhD",
          "Graduation",
          "Graduation",
          "Graduation",
          "Graduation",
          "Master",
          "Graduation",
          "Graduation",
          "Master",
          "Graduation",
          "Graduation",
          "Graduation",
          "Master",
          "Master",
          "Graduation",
          "Basic",
          "Graduation",
          "2n Cycle",
          "PhD",
          "Graduation",
          "PhD",
          "PhD",
          "Graduation",
          "Graduation",
          "Graduation",
          "Graduation",
          "Graduation",
          "Graduation",
          "PhD",
          "Graduation",
          "Master",
          "Graduation",
          "Basic",
          "Graduation",
          "2n Cycle",
          "2n Cycle",
          "Master",
          "Graduation",
          "Graduation",
          "Master",
          "Graduation",
          "Graduation",
          "2n Cycle",
          "Master",
          "PhD",
          "PhD",
          "Graduation",
          "Graduation",
          "Graduation",
          "Master",
          "Master",
          "2n Cycle",
          "Graduation",
          "Graduation",
          "2n Cycle",
          "Graduation",
          "Graduation",
          "Master",
          "Graduation",
          "PhD",
          "2n Cycle",
          "PhD",
          "Master",
          "Graduation",
          "Graduation",
          "Master",
          "PhD",
          "Graduation",
          "Graduation",
          "Graduation",
          "Graduation",
          "Master",
          "PhD",
          "Master",
          "Master",
          "Graduation",
          "PhD",
          "PhD",
          "Graduation",
          "Master",
          "Graduation",
          "Graduation",
          "Graduation",
          "Basic",
          "Graduation",
          "Graduation",
          "Graduation",
          "PhD",
          "2n Cycle",
          "Graduation",
          "PhD",
          "Graduation",
          "Graduation",
          "PhD",
          "PhD",
          "2n Cycle",
          "Graduation",
          "Master",
          "2n Cycle",
          "Graduation",
          "Graduation",
          "Graduation",
          "2n Cycle",
          "Graduation",
          "2n Cycle",
          "Graduation",
          "Graduation",
          "Graduation",
          "Master",
          "Graduation",
          "Master",
          "Graduation",
          "Graduation",
          "2n Cycle",
          "Graduation",
          "PhD",
          "2n Cycle",
          "Graduation",
          "Graduation",
          "Graduation",
          "PhD",
          "PhD",
          "Graduation",
          "Graduation",
          "Graduation",
          "Graduation",
          "PhD",
          "Master",
          "Graduation",
          "PhD",
          "Graduation",
          "Master",
          "Master",
          "Graduation",
          "Graduation",
          "PhD",
          "Graduation",
          "2n Cycle",
          "Graduation",
          "Graduation",
          "PhD",
          "Graduation",
          "Graduation",
          "Master",
          "PhD",
          "Master",
          "PhD",
          "Graduation",
          "Graduation",
          "2n Cycle",
          "Graduation",
          "2n Cycle",
          "Master",
          "Master",
          "PhD",
          "Graduation",
          "Master",
          "PhD",
          "PhD",
          "Graduation",
          "Graduation",
          "Graduation",
          "Graduation",
          "Graduation",
          "PhD",
          "Graduation",
          "Graduation",
          "Master",
          "2n Cycle",
          "Graduation",
          "Master",
          "PhD",
          "Master",
          "Master",
          "2n Cycle",
          "PhD",
          "Graduation",
          "Graduation",
          "Master",
          "Graduation",
          "Graduation",
          "2n Cycle",
          "Graduation",
          "Graduation",
          "Graduation",
          "Master",
          "Graduation",
          "PhD",
          "Graduation",
          "Graduation",
          "PhD",
          "Graduation",
          "Graduation",
          "PhD",
          "Graduation",
          "PhD",
          "Graduation",
          "2n Cycle",
          "2n Cycle",
          "PhD",
          "Master",
          "2n Cycle",
          "2n Cycle",
          "Graduation",
          "PhD",
          "PhD",
          "Master",
          "Graduation",
          "Master",
          "Graduation",
          "PhD",
          "Graduation",
          "Master",
          "2n Cycle",
          "Graduation",
          "Graduation",
          "2n Cycle",
          "Master",
          "2n Cycle",
          "Graduation",
          "Graduation",
          "Graduation",
          "Master",
          "Master",
          "Graduation",
          "Graduation",
          "PhD",
          "Graduation",
          "Master",
          "Graduation",
          "Graduation",
          "Graduation",
          "Graduation",
          "Master",
          "Graduation",
          "PhD",
          "PhD",
          "PhD",
          "Graduation",
          "Master",
          "Master",
          "Graduation",
          "PhD",
          "Graduation",
          "PhD",
          "Graduation",
          "Master",
          "Graduation",
          "Master",
          "Graduation",
          "Master",
          "Graduation",
          "PhD",
          "Master",
          "Graduation",
          "Graduation",
          "Graduation",
          "PhD",
          "Graduation",
          "Basic",
          "Master",
          "PhD",
          "PhD",
          "Master",
          "Graduation",
          "Graduation",
          "PhD",
          "Master",
          "Master",
          "Master",
          "Graduation",
          "Graduation",
          "PhD",
          "Graduation",
          "2n Cycle",
          "Master",
          "PhD",
          "Graduation",
          "2n Cycle",
          "Graduation",
          "Graduation",
          "Graduation",
          "Graduation",
          "Graduation",
          "Graduation",
          "Graduation",
          "Master",
          "PhD",
          "Graduation",
          "2n Cycle",
          "Graduation",
          "Graduation",
          "PhD",
          "PhD",
          "PhD",
          "Graduation",
          "2n Cycle",
          "PhD",
          "PhD",
          "PhD",
          "Graduation",
          "PhD",
          "PhD",
          "Graduation",
          "Graduation",
          "Graduation",
          "Master",
          "Master",
          "PhD",
          "Graduation",
          "Basic",
          "2n Cycle",
          "Master",
          "Master",
          "Graduation",
          "Graduation",
          "PhD",
          "Graduation",
          "Graduation",
          "Graduation",
          "Graduation",
          "PhD",
          "Master",
          "Master",
          "PhD",
          "2n Cycle",
          "Graduation",
          "PhD",
          "Graduation",
          "Graduation",
          "Graduation",
          "PhD",
          "2n Cycle",
          "PhD",
          "PhD",
          "PhD",
          "PhD",
          "PhD",
          "Graduation",
          "Master",
          "2n Cycle",
          "Graduation",
          "2n Cycle",
          "Graduation",
          "Basic",
          "PhD",
          "Graduation",
          "Graduation",
          "Graduation",
          "PhD",
          "PhD",
          "Graduation",
          "Graduation",
          "Master",
          "Graduation",
          "Graduation",
          "Graduation",
          "Graduation",
          "Master",
          "PhD",
          "2n Cycle",
          "Graduation",
          "Graduation",
          "2n Cycle",
          "PhD",
          "PhD",
          "Master",
          "Graduation",
          "Master",
          "Graduation",
          "PhD",
          "Basic",
          "PhD",
          "Master",
          "Graduation",
          "Graduation",
          "PhD",
          "Graduation",
          "Master",
          "Graduation",
          "Graduation",
          "Basic",
          "Graduation",
          "Graduation",
          "Graduation",
          "Graduation",
          "PhD",
          "Graduation",
          "PhD",
          "Graduation",
          "PhD",
          "PhD",
          "Master",
          "Graduation",
          "Basic",
          "Master",
          "Graduation",
          "PhD",
          "Graduation",
          "Graduation",
          "Graduation",
          "2n Cycle",
          "Graduation",
          "Graduation",
          "Graduation",
          "Graduation",
          "PhD",
          "Graduation",
          "Graduation",
          "PhD",
          "Graduation",
          "PhD",
          "Graduation",
          "Basic",
          "Master",
          "Graduation",
          "PhD",
          "PhD",
          "Graduation",
          "2n Cycle",
          "PhD",
          "Graduation",
          "Basic",
          "Graduation",
          "Master",
          "PhD",
          "Graduation",
          "2n Cycle",
          "2n Cycle",
          "Graduation",
          "Graduation",
          "2n Cycle",
          "Graduation",
          "PhD",
          "Graduation",
          "Basic",
          "Master",
          "PhD",
          "PhD",
          "Graduation",
          "PhD",
          "Graduation",
          "Graduation",
          "Graduation",
          "PhD",
          "PhD",
          "2n Cycle",
          "Basic",
          "PhD",
          "Graduation",
          "Graduation",
          "Graduation",
          "Graduation",
          "Graduation",
          "Graduation",
          "2n Cycle",
          "Graduation",
          "Graduation",
          "PhD",
          "2n Cycle",
          "Graduation",
          "Graduation",
          "Master",
          "Graduation",
          "Master",
          "Graduation",
          "2n Cycle",
          "Graduation",
          "Graduation",
          "Master",
          "Graduation",
          "Graduation",
          "Graduation",
          "PhD",
          "Graduation",
          "Graduation",
          "PhD",
          "Graduation",
          "PhD",
          "Master",
          "Graduation",
          "Graduation",
          "PhD",
          "2n Cycle",
          "Graduation",
          "Graduation",
          "PhD",
          "Graduation",
          "Master",
          "Master",
          "Graduation",
          "2n Cycle",
          "Graduation",
          "PhD",
          "Graduation",
          "Master",
          "Master",
          "Graduation",
          "Graduation",
          "PhD",
          "Graduation",
          "Graduation",
          "Graduation",
          "PhD",
          "Graduation",
          "2n Cycle",
          "PhD",
          "PhD",
          "Master",
          "Master",
          "Master",
          "Master",
          "PhD",
          "PhD",
          "Graduation",
          "PhD",
          "Graduation",
          "2n Cycle",
          "Graduation",
          "PhD",
          "Graduation",
          "PhD",
          "Master",
          "Master",
          "Master",
          "PhD",
          "Graduation",
          "PhD",
          "2n Cycle",
          "Graduation",
          "Graduation",
          "Graduation",
          "Graduation",
          "Master",
          "Graduation",
          "Master",
          "2n Cycle",
          "PhD",
          "Graduation",
          "Graduation",
          "PhD",
          "Graduation",
          "2n Cycle",
          "Master",
          "Graduation",
          "PhD",
          "Graduation",
          "PhD",
          "PhD",
          "PhD",
          "Master",
          "PhD",
          "Graduation",
          "PhD",
          "PhD",
          "Graduation",
          "Graduation",
          "PhD",
          "Master",
          "Graduation",
          "Graduation",
          "Graduation",
          "Graduation",
          "Basic",
          "PhD",
          "PhD",
          "PhD",
          "PhD",
          "Graduation",
          "Master",
          "Graduation",
          "Graduation",
          "Graduation",
          "PhD",
          "Graduation",
          "Graduation",
          "Master",
          "2n Cycle",
          "Graduation",
          "Master",
          "Graduation",
          "PhD",
          "Graduation",
          "Graduation",
          "PhD",
          "Graduation",
          "PhD",
          "2n Cycle",
          "2n Cycle",
          "Graduation",
          "Master",
          "Graduation",
          "Master",
          "PhD",
          "Graduation",
          "Graduation",
          "Master",
          "PhD",
          "PhD",
          "Master",
          "Master",
          "Graduation",
          "2n Cycle",
          "PhD",
          "PhD",
          "Master",
          "Graduation",
          "PhD",
          "Graduation",
          "Graduation",
          "Graduation",
          "Master",
          "Graduation",
          "Graduation",
          "Master",
          "Graduation",
          "Graduation",
          "PhD",
          "Graduation",
          "Graduation",
          "PhD",
          "PhD",
          "PhD",
          "Graduation",
          "Graduation",
          "Graduation",
          "PhD",
          "Master",
          "PhD",
          "Graduation",
          "Graduation",
          "Graduation",
          "Graduation",
          "Graduation",
          "Graduation",
          "Graduation",
          "Master",
          "Graduation",
          "Graduation",
          "Graduation",
          "Graduation",
          "2n Cycle",
          "Graduation",
          "2n Cycle",
          "PhD",
          "Graduation",
          "Master",
          "Graduation",
          "PhD",
          "Graduation",
          "Master",
          "Graduation",
          "Graduation",
          "Graduation",
          "Graduation",
          "Graduation",
          "Graduation",
          "PhD",
          "Master",
          "Master",
          "Graduation",
          "Graduation",
          "2n Cycle",
          "Graduation",
          "PhD",
          "PhD",
          "2n Cycle",
          "Graduation",
          "PhD",
          "Graduation",
          "Graduation",
          "Master",
          "Graduation",
          "Graduation",
          "Graduation",
          "PhD",
          "PhD",
          "Graduation",
          "Graduation",
          "Graduation",
          "Basic",
          "Graduation",
          "2n Cycle",
          "Graduation",
          "Graduation",
          "Graduation",
          "Graduation",
          "Graduation",
          "Master",
          "Graduation",
          "Master",
          "PhD",
          "Master",
          "Graduation",
          "Graduation",
          "Master",
          "2n Cycle",
          "PhD",
          "Graduation",
          "Graduation",
          "Graduation",
          "Graduation",
          "Graduation",
          "Graduation",
          "Graduation",
          "Graduation",
          "Graduation",
          "Graduation",
          "Graduation",
          "Graduation",
          "Master",
          "Graduation",
          "Graduation",
          "Graduation",
          "Graduation",
          "Graduation",
          "2n Cycle",
          "Graduation",
          "Graduation",
          "Graduation",
          "Master",
          "Graduation",
          "Graduation",
          "Graduation",
          "PhD",
          "Graduation",
          "Graduation",
          "PhD",
          "Graduation",
          "Graduation",
          "Graduation",
          "Graduation",
          "PhD",
          "Graduation",
          "Graduation",
          "Graduation",
          "Graduation",
          "Graduation",
          "PhD",
          "Graduation",
          "Graduation",
          "Master",
          "Basic",
          "Graduation",
          "Graduation",
          "Graduation",
          "Graduation",
          "2n Cycle",
          "Graduation",
          "Graduation",
          "Master",
          "Master",
          "Basic",
          "Graduation",
          "Graduation",
          "Master",
          "PhD",
          "Graduation",
          "Graduation",
          "Master",
          "Graduation",
          "Master",
          "PhD",
          "2n Cycle",
          "PhD",
          "Basic",
          "Basic",
          "Master",
          "Graduation",
          "Master",
          "Graduation",
          "Graduation",
          "PhD",
          "Graduation",
          "Master",
          "Master",
          "Master",
          "2n Cycle",
          "PhD",
          "Master",
          "Graduation",
          "Master",
          "2n Cycle",
          "Graduation",
          "2n Cycle",
          "Graduation",
          "Graduation",
          "Graduation",
          "PhD",
          "PhD",
          "Graduation",
          "Graduation",
          "Master",
          "PhD",
          "Basic",
          "Master",
          "Graduation",
          "Graduation",
          "Graduation",
          "Master",
          "Master",
          "Graduation",
          "Graduation",
          "Graduation",
          "Graduation",
          "Graduation",
          "Graduation",
          "PhD",
          "Master",
          "PhD",
          "PhD",
          "Master",
          "Graduation",
          "Graduation",
          "Graduation",
          "Master",
          "2n Cycle",
          "2n Cycle",
          "Master",
          "PhD",
          "Graduation",
          "PhD",
          "Graduation",
          "Graduation",
          "2n Cycle",
          "Basic",
          "PhD",
          "Graduation",
          "Master",
          "Graduation",
          "Graduation",
          "Graduation",
          "2n Cycle",
          "Graduation",
          "Graduation",
          "Graduation",
          "PhD",
          "Master",
          "PhD",
          "Graduation",
          "Graduation",
          "Graduation",
          "PhD",
          "Graduation",
          "Basic",
          "2n Cycle",
          "Graduation",
          "Master",
          "PhD",
          "Master",
          "Basic",
          "Master",
          "Graduation",
          "Graduation",
          "2n Cycle",
          "Graduation",
          "Master",
          "Graduation",
          "Graduation",
          "Graduation",
          "Graduation",
          "Basic",
          "Graduation",
          "PhD",
          "Graduation",
          "Graduation",
          "Graduation",
          "Graduation",
          "Graduation",
          "Basic",
          "Graduation",
          "2n Cycle",
          "Graduation",
          "Master",
          "2n Cycle",
          "Graduation",
          "Graduation",
          "Graduation",
          "PhD",
          "Graduation",
          "Master",
          "Graduation",
          "Master",
          "2n Cycle",
          "Master",
          "PhD",
          "Graduation",
          "Graduation",
          "Graduation",
          "Graduation",
          "Graduation",
          "Master",
          "Graduation",
          "Graduation",
          "Graduation",
          "Graduation",
          "PhD",
          "Graduation",
          "Master",
          "PhD"
         ],
         "x0": " ",
         "xaxis": "x",
         "y": {
          "bdata": "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",
          "dtype": "f8"
         },
         "y0": " ",
         "yaxis": "y"
        }
       ],
       "layout": {
        "boxmode": "group",
        "legend": {
         "tracegroupgap": 0
        },
        "template": {
         "data": {
          "bar": [
           {
            "error_x": {
             "color": "#2a3f5f"
            },
            "error_y": {
             "color": "#2a3f5f"
            },
            "marker": {
             "line": {
              "color": "#E5ECF6",
              "width": 0.5
             },
             "pattern": {
              "fillmode": "overlay",
              "size": 10,
              "solidity": 0.2
             }
            },
            "type": "bar"
           }
          ],
          "barpolar": [
           {
            "marker": {
             "line": {
              "color": "#E5ECF6",
              "width": 0.5
             },
             "pattern": {
              "fillmode": "overlay",
              "size": 10,
              "solidity": 0.2
             }
            },
            "type": "barpolar"
           }
          ],
          "carpet": [
           {
            "aaxis": {
             "endlinecolor": "#2a3f5f",
             "gridcolor": "white",
             "linecolor": "white",
             "minorgridcolor": "white",
             "startlinecolor": "#2a3f5f"
            },
            "baxis": {
             "endlinecolor": "#2a3f5f",
             "gridcolor": "white",
             "linecolor": "white",
             "minorgridcolor": "white",
             "startlinecolor": "#2a3f5f"
            },
            "type": "carpet"
           }
          ],
          "choropleth": [
           {
            "colorbar": {
             "outlinewidth": 0,
             "ticks": ""
            },
            "type": "choropleth"
           }
          ],
          "contour": [
           {
            "colorbar": {
             "outlinewidth": 0,
             "ticks": ""
            },
            "colorscale": [
             [
              0,
              "#0d0887"
             ],
             [
              0.1111111111111111,
              "#46039f"
             ],
             [
              0.2222222222222222,
              "#7201a8"
             ],
             [
              0.3333333333333333,
              "#9c179e"
             ],
             [
              0.4444444444444444,
              "#bd3786"
             ],
             [
              0.5555555555555556,
              "#d8576b"
             ],
             [
              0.6666666666666666,
              "#ed7953"
             ],
             [
              0.7777777777777778,
              "#fb9f3a"
             ],
             [
              0.8888888888888888,
              "#fdca26"
             ],
             [
              1,
              "#f0f921"
             ]
            ],
            "type": "contour"
           }
          ],
          "contourcarpet": [
           {
            "colorbar": {
             "outlinewidth": 0,
             "ticks": ""
            },
            "type": "contourcarpet"
           }
          ],
          "heatmap": [
           {
            "colorbar": {
             "outlinewidth": 0,
             "ticks": ""
            },
            "colorscale": [
             [
              0,
              "#0d0887"
             ],
             [
              0.1111111111111111,
              "#46039f"
             ],
             [
              0.2222222222222222,
              "#7201a8"
             ],
             [
              0.3333333333333333,
              "#9c179e"
             ],
             [
              0.4444444444444444,
              "#bd3786"
             ],
             [
              0.5555555555555556,
              "#d8576b"
             ],
             [
              0.6666666666666666,
              "#ed7953"
             ],
             [
              0.7777777777777778,
              "#fb9f3a"
             ],
             [
              0.8888888888888888,
              "#fdca26"
             ],
             [
              1,
              "#f0f921"
             ]
            ],
            "type": "heatmap"
           }
          ],
          "histogram": [
           {
            "marker": {
             "pattern": {
              "fillmode": "overlay",
              "size": 10,
              "solidity": 0.2
             }
            },
            "type": "histogram"
           }
          ],
          "histogram2d": [
           {
            "colorbar": {
             "outlinewidth": 0,
             "ticks": ""
            },
            "colorscale": [
             [
              0,
              "#0d0887"
             ],
             [
              0.1111111111111111,
              "#46039f"
             ],
             [
              0.2222222222222222,
              "#7201a8"
             ],
             [
              0.3333333333333333,
              "#9c179e"
             ],
             [
              0.4444444444444444,
              "#bd3786"
             ],
             [
              0.5555555555555556,
              "#d8576b"
             ],
             [
              0.6666666666666666,
              "#ed7953"
             ],
             [
              0.7777777777777778,
              "#fb9f3a"
             ],
             [
              0.8888888888888888,
              "#fdca26"
             ],
             [
              1,
              "#f0f921"
             ]
            ],
            "type": "histogram2d"
           }
          ],
          "histogram2dcontour": [
           {
            "colorbar": {
             "outlinewidth": 0,
             "ticks": ""
            },
            "colorscale": [
             [
              0,
              "#0d0887"
             ],
             [
              0.1111111111111111,
              "#46039f"
             ],
             [
              0.2222222222222222,
              "#7201a8"
             ],
             [
              0.3333333333333333,
              "#9c179e"
             ],
             [
              0.4444444444444444,
              "#bd3786"
             ],
             [
              0.5555555555555556,
              "#d8576b"
             ],
             [
              0.6666666666666666,
              "#ed7953"
             ],
             [
              0.7777777777777778,
              "#fb9f3a"
             ],
             [
              0.8888888888888888,
              "#fdca26"
             ],
             [
              1,
              "#f0f921"
             ]
            ],
            "type": "histogram2dcontour"
           }
          ],
          "mesh3d": [
           {
            "colorbar": {
             "outlinewidth": 0,
             "ticks": ""
            },
            "type": "mesh3d"
           }
          ],
          "parcoords": [
           {
            "line": {
             "colorbar": {
              "outlinewidth": 0,
              "ticks": ""
             }
            },
            "type": "parcoords"
           }
          ],
          "pie": [
           {
            "automargin": true,
            "type": "pie"
           }
          ],
          "scatter": [
           {
            "fillpattern": {
             "fillmode": "overlay",
             "size": 10,
             "solidity": 0.2
            },
            "type": "scatter"
           }
          ],
          "scatter3d": [
           {
            "line": {
             "colorbar": {
              "outlinewidth": 0,
              "ticks": ""
             }
            },
            "marker": {
             "colorbar": {
              "outlinewidth": 0,
              "ticks": ""
             }
            },
            "type": "scatter3d"
           }
          ],
          "scattercarpet": [
           {
            "marker": {
             "colorbar": {
              "outlinewidth": 0,
              "ticks": ""
             }
            },
            "type": "scattercarpet"
           }
          ],
          "scattergeo": [
           {
            "marker": {
             "colorbar": {
              "outlinewidth": 0,
              "ticks": ""
             }
            },
            "type": "scattergeo"
           }
          ],
          "scattergl": [
           {
            "marker": {
             "colorbar": {
              "outlinewidth": 0,
              "ticks": ""
             }
            },
            "type": "scattergl"
           }
          ],
          "scattermap": [
           {
            "marker": {
             "colorbar": {
              "outlinewidth": 0,
              "ticks": ""
             }
            },
            "type": "scattermap"
           }
          ],
          "scattermapbox": [
           {
            "marker": {
             "colorbar": {
              "outlinewidth": 0,
              "ticks": ""
             }
            },
            "type": "scattermapbox"
           }
          ],
          "scatterpolar": [
           {
            "marker": {
             "colorbar": {
              "outlinewidth": 0,
              "ticks": ""
             }
            },
            "type": "scatterpolar"
           }
          ],
          "scatterpolargl": [
           {
            "marker": {
             "colorbar": {
              "outlinewidth": 0,
              "ticks": ""
             }
            },
            "type": "scatterpolargl"
           }
          ],
          "scatterternary": [
           {
            "marker": {
             "colorbar": {
              "outlinewidth": 0,
              "ticks": ""
             }
            },
            "type": "scatterternary"
           }
          ],
          "surface": [
           {
            "colorbar": {
             "outlinewidth": 0,
             "ticks": ""
            },
            "colorscale": [
             [
              0,
              "#0d0887"
             ],
             [
              0.1111111111111111,
              "#46039f"
             ],
             [
              0.2222222222222222,
              "#7201a8"
             ],
             [
              0.3333333333333333,
              "#9c179e"
             ],
             [
              0.4444444444444444,
              "#bd3786"
             ],
             [
              0.5555555555555556,
              "#d8576b"
             ],
             [
              0.6666666666666666,
              "#ed7953"
             ],
             [
              0.7777777777777778,
              "#fb9f3a"
             ],
             [
              0.8888888888888888,
              "#fdca26"
             ],
             [
              1,
              "#f0f921"
             ]
            ],
            "type": "surface"
           }
          ],
          "table": [
           {
            "cells": {
             "fill": {
              "color": "#EBF0F8"
             },
             "line": {
              "color": "white"
             }
            },
            "header": {
             "fill": {
              "color": "#C8D4E3"
             },
             "line": {
              "color": "white"
             }
            },
            "type": "table"
           }
          ]
         },
         "layout": {
          "annotationdefaults": {
           "arrowcolor": "#2a3f5f",
           "arrowhead": 0,
           "arrowwidth": 1
          },
          "autotypenumbers": "strict",
          "coloraxis": {
           "colorbar": {
            "outlinewidth": 0,
            "ticks": ""
           }
          },
          "colorscale": {
           "diverging": [
            [
             0,
             "#8e0152"
            ],
            [
             0.1,
             "#c51b7d"
            ],
            [
             0.2,
             "#de77ae"
            ],
            [
             0.3,
             "#f1b6da"
            ],
            [
             0.4,
             "#fde0ef"
            ],
            [
             0.5,
             "#f7f7f7"
            ],
            [
             0.6,
             "#e6f5d0"
            ],
            [
             0.7,
             "#b8e186"
            ],
            [
             0.8,
             "#7fbc41"
            ],
            [
             0.9,
             "#4d9221"
            ],
            [
             1,
             "#276419"
            ]
           ],
           "sequential": [
            [
             0,
             "#0d0887"
            ],
            [
             0.1111111111111111,
             "#46039f"
            ],
            [
             0.2222222222222222,
             "#7201a8"
            ],
            [
             0.3333333333333333,
             "#9c179e"
            ],
            [
             0.4444444444444444,
             "#bd3786"
            ],
            [
             0.5555555555555556,
             "#d8576b"
            ],
            [
             0.6666666666666666,
             "#ed7953"
            ],
            [
             0.7777777777777778,
             "#fb9f3a"
            ],
            [
             0.8888888888888888,
             "#fdca26"
            ],
            [
             1,
             "#f0f921"
            ]
           ],
           "sequentialminus": [
            [
             0,
             "#0d0887"
            ],
            [
             0.1111111111111111,
             "#46039f"
            ],
            [
             0.2222222222222222,
             "#7201a8"
            ],
            [
             0.3333333333333333,
             "#9c179e"
            ],
            [
             0.4444444444444444,
             "#bd3786"
            ],
            [
             0.5555555555555556,
             "#d8576b"
            ],
            [
             0.6666666666666666,
             "#ed7953"
            ],
            [
             0.7777777777777778,
             "#fb9f3a"
            ],
            [
             0.8888888888888888,
             "#fdca26"
            ],
            [
             1,
             "#f0f921"
            ]
           ]
          },
          "colorway": [
           "#636efa",
           "#EF553B",
           "#00cc96",
           "#ab63fa",
           "#FFA15A",
           "#19d3f3",
           "#FF6692",
           "#B6E880",
           "#FF97FF",
           "#FECB52"
          ],
          "font": {
           "color": "#2a3f5f"
          },
          "geo": {
           "bgcolor": "white",
           "lakecolor": "white",
           "landcolor": "#E5ECF6",
           "showlakes": true,
           "showland": true,
           "subunitcolor": "white"
          },
          "hoverlabel": {
           "align": "left"
          },
          "hovermode": "closest",
          "mapbox": {
           "style": "light"
          },
          "paper_bgcolor": "white",
          "plot_bgcolor": "#E5ECF6",
          "polar": {
           "angularaxis": {
            "gridcolor": "white",
            "linecolor": "white",
            "ticks": ""
           },
           "bgcolor": "#E5ECF6",
           "radialaxis": {
            "gridcolor": "white",
            "linecolor": "white",
            "ticks": ""
           }
          },
          "scene": {
           "xaxis": {
            "backgroundcolor": "#E5ECF6",
            "gridcolor": "white",
            "gridwidth": 2,
            "linecolor": "white",
            "showbackground": true,
            "ticks": "",
            "zerolinecolor": "white"
           },
           "yaxis": {
            "backgroundcolor": "#E5ECF6",
            "gridcolor": "white",
            "gridwidth": 2,
            "linecolor": "white",
            "showbackground": true,
            "ticks": "",
            "zerolinecolor": "white"
           },
           "zaxis": {
            "backgroundcolor": "#E5ECF6",
            "gridcolor": "white",
            "gridwidth": 2,
            "linecolor": "white",
            "showbackground": true,
            "ticks": "",
            "zerolinecolor": "white"
           }
          },
          "shapedefaults": {
           "line": {
            "color": "#2a3f5f"
           }
          },
          "ternary": {
           "aaxis": {
            "gridcolor": "white",
            "linecolor": "white",
            "ticks": ""
           },
           "baxis": {
            "gridcolor": "white",
            "linecolor": "white",
            "ticks": ""
           },
           "bgcolor": "#E5ECF6",
           "caxis": {
            "gridcolor": "white",
            "linecolor": "white",
            "ticks": ""
           }
          },
          "title": {
           "x": 0.05
          },
          "xaxis": {
           "automargin": true,
           "gridcolor": "white",
           "linecolor": "white",
           "ticks": "",
           "title": {
            "standoff": 15
           },
           "zerolinecolor": "white",
           "zerolinewidth": 2
          },
          "yaxis": {
           "automargin": true,
           "gridcolor": "white",
           "linecolor": "white",
           "ticks": "",
           "title": {
            "standoff": 15
           },
           "zerolinecolor": "white",
           "zerolinewidth": 2
          }
         }
        },
        "title": {
         "text": "Income Boxplot"
        },
        "xaxis": {
         "anchor": "y",
         "domain": [
          0,
          1
         ],
         "title": {
          "text": "Education"
         }
        },
        "yaxis": {
         "anchor": "x",
         "domain": [
          0,
          1
         ],
         "range": [
          0,
          200000
         ],
         "title": {
          "text": "Income"
         }
        }
       }
      }
     },
     "metadata": {},
     "output_type": "display_data"
    }
   ],
   "source": [
    "fig = px.box(data, y=\"Income\", x=\"Education\", title=\"Income Boxplot\")\n",
    "fig.update_yaxes(range=[0, 200000])\n",
    "fig.show()"
   ]
  },
  {
   "cell_type": "markdown",
   "id": "eb457c52",
   "metadata": {},
   "source": [
    "#### Correlation"
   ]
  },
  {
   "cell_type": "code",
   "execution_count": 27,
   "id": "f8dace4a",
   "metadata": {},
   "outputs": [
    {
     "data": {
      "text/plain": [
       "Index(['ID', 'Year_Birth', 'Education', 'Marital_Status', 'Income', 'Kidhome',\n",
       "       'Teenhome', 'Dt_Customer', 'Recency', 'MntWines', 'MntFruits',\n",
       "       'MntMeatProducts', 'MntFishProducts', 'MntSweetProducts',\n",
       "       'MntGoldProds', 'NumDealsPurchases', 'NumWebPurchases',\n",
       "       'NumCatalogPurchases', 'NumStorePurchases', 'NumWebVisitsMonth',\n",
       "       'AcceptedCmp3', 'AcceptedCmp4', 'AcceptedCmp5', 'AcceptedCmp1',\n",
       "       'AcceptedCmp2', 'Complain', 'Z_CostContact', 'Z_Revenue', 'Response',\n",
       "       'Age', 'Total_Children', 'Total_spending', 'Customer_since'],\n",
       "      dtype='object')"
      ]
     },
     "execution_count": 27,
     "metadata": {},
     "output_type": "execute_result"
    }
   ],
   "source": [
    "data.columns"
   ]
  },
  {
   "cell_type": "code",
   "execution_count": 28,
   "id": "a7f43a16",
   "metadata": {},
   "outputs": [],
   "source": [
    "corr = data[[\"Income\", \"Age\", \"Recency\", \"Total_spending\", \"NumWebPurchases\", \"NumStorePurchases\"]]"
   ]
  },
  {
   "cell_type": "code",
   "execution_count": 40,
   "id": "b6122b45",
   "metadata": {},
   "outputs": [
    {
     "data": {
      "application/vnd.plotly.v1+json": {
       "config": {
        "plotlyServerURL": "https://plot.ly"
       },
       "data": [
        {
         "coloraxis": "coloraxis",
         "hovertemplate": "x: %{x}<br>y: %{y}<br>color: %{z}<extra></extra>",
         "name": "0",
         "texttemplate": "%{z:.3f}",
         "type": "heatmap",
         "x": [
          "Income",
          "Age",
          "Recency",
          "Total_spending",
          "NumWebPurchases",
          "NumStorePurchases"
         ],
         "xaxis": "x",
         "y": [
          "Income",
          "Age",
          "Recency",
          "Total_spending",
          "NumWebPurchases",
          "NumStorePurchases"
         ],
         "yaxis": "y",
         "z": {
          "bdata": "AAAAAAAA8D+v+/+/2ebEPwlcNbZ2e2m/f1UB2Upc5T/J0M7b+9fYP/1L3tG99uA/r/v/v9nmxD8AAAAAAADwP8H+x3KVWpA/GThcofm7vT+DPjBJacjEP4Wx+N0/0sE/CVw1tnZ7ab/B/sdylVqQPwAAAAAAAPA/JMAmfupWlT9XYRi74Jl2v9QCert5lBy/f1UB2Upc5T8ZOFyh+bu9PyTAJn7qVpU/AAAAAAAA8D/fRq1buO7gP8Zf++iRouU/ydDO2/vX2D+DPjBJacjEP1dhGLvgmXa/30atW7ju4D8AAAAAAADwP28R7gZ6geA//Uve0b324D+FsfjdP9LBP9QCert5lBy/xl/76JGi5T9vEe4GeoHgPwAAAAAAAPA/",
          "dtype": "f8",
          "shape": "6, 6"
         }
        }
       ],
       "layout": {
        "coloraxis": {
         "colorscale": [
          [
           0,
           "rgb(5,48,97)"
          ],
          [
           0.1,
           "rgb(33,102,172)"
          ],
          [
           0.2,
           "rgb(67,147,195)"
          ],
          [
           0.3,
           "rgb(146,197,222)"
          ],
          [
           0.4,
           "rgb(209,229,240)"
          ],
          [
           0.5,
           "rgb(247,247,247)"
          ],
          [
           0.6,
           "rgb(253,219,199)"
          ],
          [
           0.7,
           "rgb(244,165,130)"
          ],
          [
           0.8,
           "rgb(214,96,77)"
          ],
          [
           0.9,
           "rgb(178,24,43)"
          ],
          [
           1,
           "rgb(103,0,31)"
          ]
         ]
        },
        "template": {
         "data": {
          "bar": [
           {
            "error_x": {
             "color": "#2a3f5f"
            },
            "error_y": {
             "color": "#2a3f5f"
            },
            "marker": {
             "line": {
              "color": "#E5ECF6",
              "width": 0.5
             },
             "pattern": {
              "fillmode": "overlay",
              "size": 10,
              "solidity": 0.2
             }
            },
            "type": "bar"
           }
          ],
          "barpolar": [
           {
            "marker": {
             "line": {
              "color": "#E5ECF6",
              "width": 0.5
             },
             "pattern": {
              "fillmode": "overlay",
              "size": 10,
              "solidity": 0.2
             }
            },
            "type": "barpolar"
           }
          ],
          "carpet": [
           {
            "aaxis": {
             "endlinecolor": "#2a3f5f",
             "gridcolor": "white",
             "linecolor": "white",
             "minorgridcolor": "white",
             "startlinecolor": "#2a3f5f"
            },
            "baxis": {
             "endlinecolor": "#2a3f5f",
             "gridcolor": "white",
             "linecolor": "white",
             "minorgridcolor": "white",
             "startlinecolor": "#2a3f5f"
            },
            "type": "carpet"
           }
          ],
          "choropleth": [
           {
            "colorbar": {
             "outlinewidth": 0,
             "ticks": ""
            },
            "type": "choropleth"
           }
          ],
          "contour": [
           {
            "colorbar": {
             "outlinewidth": 0,
             "ticks": ""
            },
            "colorscale": [
             [
              0,
              "#0d0887"
             ],
             [
              0.1111111111111111,
              "#46039f"
             ],
             [
              0.2222222222222222,
              "#7201a8"
             ],
             [
              0.3333333333333333,
              "#9c179e"
             ],
             [
              0.4444444444444444,
              "#bd3786"
             ],
             [
              0.5555555555555556,
              "#d8576b"
             ],
             [
              0.6666666666666666,
              "#ed7953"
             ],
             [
              0.7777777777777778,
              "#fb9f3a"
             ],
             [
              0.8888888888888888,
              "#fdca26"
             ],
             [
              1,
              "#f0f921"
             ]
            ],
            "type": "contour"
           }
          ],
          "contourcarpet": [
           {
            "colorbar": {
             "outlinewidth": 0,
             "ticks": ""
            },
            "type": "contourcarpet"
           }
          ],
          "heatmap": [
           {
            "colorbar": {
             "outlinewidth": 0,
             "ticks": ""
            },
            "colorscale": [
             [
              0,
              "#0d0887"
             ],
             [
              0.1111111111111111,
              "#46039f"
             ],
             [
              0.2222222222222222,
              "#7201a8"
             ],
             [
              0.3333333333333333,
              "#9c179e"
             ],
             [
              0.4444444444444444,
              "#bd3786"
             ],
             [
              0.5555555555555556,
              "#d8576b"
             ],
             [
              0.6666666666666666,
              "#ed7953"
             ],
             [
              0.7777777777777778,
              "#fb9f3a"
             ],
             [
              0.8888888888888888,
              "#fdca26"
             ],
             [
              1,
              "#f0f921"
             ]
            ],
            "type": "heatmap"
           }
          ],
          "histogram": [
           {
            "marker": {
             "pattern": {
              "fillmode": "overlay",
              "size": 10,
              "solidity": 0.2
             }
            },
            "type": "histogram"
           }
          ],
          "histogram2d": [
           {
            "colorbar": {
             "outlinewidth": 0,
             "ticks": ""
            },
            "colorscale": [
             [
              0,
              "#0d0887"
             ],
             [
              0.1111111111111111,
              "#46039f"
             ],
             [
              0.2222222222222222,
              "#7201a8"
             ],
             [
              0.3333333333333333,
              "#9c179e"
             ],
             [
              0.4444444444444444,
              "#bd3786"
             ],
             [
              0.5555555555555556,
              "#d8576b"
             ],
             [
              0.6666666666666666,
              "#ed7953"
             ],
             [
              0.7777777777777778,
              "#fb9f3a"
             ],
             [
              0.8888888888888888,
              "#fdca26"
             ],
             [
              1,
              "#f0f921"
             ]
            ],
            "type": "histogram2d"
           }
          ],
          "histogram2dcontour": [
           {
            "colorbar": {
             "outlinewidth": 0,
             "ticks": ""
            },
            "colorscale": [
             [
              0,
              "#0d0887"
             ],
             [
              0.1111111111111111,
              "#46039f"
             ],
             [
              0.2222222222222222,
              "#7201a8"
             ],
             [
              0.3333333333333333,
              "#9c179e"
             ],
             [
              0.4444444444444444,
              "#bd3786"
             ],
             [
              0.5555555555555556,
              "#d8576b"
             ],
             [
              0.6666666666666666,
              "#ed7953"
             ],
             [
              0.7777777777777778,
              "#fb9f3a"
             ],
             [
              0.8888888888888888,
              "#fdca26"
             ],
             [
              1,
              "#f0f921"
             ]
            ],
            "type": "histogram2dcontour"
           }
          ],
          "mesh3d": [
           {
            "colorbar": {
             "outlinewidth": 0,
             "ticks": ""
            },
            "type": "mesh3d"
           }
          ],
          "parcoords": [
           {
            "line": {
             "colorbar": {
              "outlinewidth": 0,
              "ticks": ""
             }
            },
            "type": "parcoords"
           }
          ],
          "pie": [
           {
            "automargin": true,
            "type": "pie"
           }
          ],
          "scatter": [
           {
            "fillpattern": {
             "fillmode": "overlay",
             "size": 10,
             "solidity": 0.2
            },
            "type": "scatter"
           }
          ],
          "scatter3d": [
           {
            "line": {
             "colorbar": {
              "outlinewidth": 0,
              "ticks": ""
             }
            },
            "marker": {
             "colorbar": {
              "outlinewidth": 0,
              "ticks": ""
             }
            },
            "type": "scatter3d"
           }
          ],
          "scattercarpet": [
           {
            "marker": {
             "colorbar": {
              "outlinewidth": 0,
              "ticks": ""
             }
            },
            "type": "scattercarpet"
           }
          ],
          "scattergeo": [
           {
            "marker": {
             "colorbar": {
              "outlinewidth": 0,
              "ticks": ""
             }
            },
            "type": "scattergeo"
           }
          ],
          "scattergl": [
           {
            "marker": {
             "colorbar": {
              "outlinewidth": 0,
              "ticks": ""
             }
            },
            "type": "scattergl"
           }
          ],
          "scattermap": [
           {
            "marker": {
             "colorbar": {
              "outlinewidth": 0,
              "ticks": ""
             }
            },
            "type": "scattermap"
           }
          ],
          "scattermapbox": [
           {
            "marker": {
             "colorbar": {
              "outlinewidth": 0,
              "ticks": ""
             }
            },
            "type": "scattermapbox"
           }
          ],
          "scatterpolar": [
           {
            "marker": {
             "colorbar": {
              "outlinewidth": 0,
              "ticks": ""
             }
            },
            "type": "scatterpolar"
           }
          ],
          "scatterpolargl": [
           {
            "marker": {
             "colorbar": {
              "outlinewidth": 0,
              "ticks": ""
             }
            },
            "type": "scatterpolargl"
           }
          ],
          "scatterternary": [
           {
            "marker": {
             "colorbar": {
              "outlinewidth": 0,
              "ticks": ""
             }
            },
            "type": "scatterternary"
           }
          ],
          "surface": [
           {
            "colorbar": {
             "outlinewidth": 0,
             "ticks": ""
            },
            "colorscale": [
             [
              0,
              "#0d0887"
             ],
             [
              0.1111111111111111,
              "#46039f"
             ],
             [
              0.2222222222222222,
              "#7201a8"
             ],
             [
              0.3333333333333333,
              "#9c179e"
             ],
             [
              0.4444444444444444,
              "#bd3786"
             ],
             [
              0.5555555555555556,
              "#d8576b"
             ],
             [
              0.6666666666666666,
              "#ed7953"
             ],
             [
              0.7777777777777778,
              "#fb9f3a"
             ],
             [
              0.8888888888888888,
              "#fdca26"
             ],
             [
              1,
              "#f0f921"
             ]
            ],
            "type": "surface"
           }
          ],
          "table": [
           {
            "cells": {
             "fill": {
              "color": "#EBF0F8"
             },
             "line": {
              "color": "white"
             }
            },
            "header": {
             "fill": {
              "color": "#C8D4E3"
             },
             "line": {
              "color": "white"
             }
            },
            "type": "table"
           }
          ]
         },
         "layout": {
          "annotationdefaults": {
           "arrowcolor": "#2a3f5f",
           "arrowhead": 0,
           "arrowwidth": 1
          },
          "autotypenumbers": "strict",
          "coloraxis": {
           "colorbar": {
            "outlinewidth": 0,
            "ticks": ""
           }
          },
          "colorscale": {
           "diverging": [
            [
             0,
             "#8e0152"
            ],
            [
             0.1,
             "#c51b7d"
            ],
            [
             0.2,
             "#de77ae"
            ],
            [
             0.3,
             "#f1b6da"
            ],
            [
             0.4,
             "#fde0ef"
            ],
            [
             0.5,
             "#f7f7f7"
            ],
            [
             0.6,
             "#e6f5d0"
            ],
            [
             0.7,
             "#b8e186"
            ],
            [
             0.8,
             "#7fbc41"
            ],
            [
             0.9,
             "#4d9221"
            ],
            [
             1,
             "#276419"
            ]
           ],
           "sequential": [
            [
             0,
             "#0d0887"
            ],
            [
             0.1111111111111111,
             "#46039f"
            ],
            [
             0.2222222222222222,
             "#7201a8"
            ],
            [
             0.3333333333333333,
             "#9c179e"
            ],
            [
             0.4444444444444444,
             "#bd3786"
            ],
            [
             0.5555555555555556,
             "#d8576b"
            ],
            [
             0.6666666666666666,
             "#ed7953"
            ],
            [
             0.7777777777777778,
             "#fb9f3a"
            ],
            [
             0.8888888888888888,
             "#fdca26"
            ],
            [
             1,
             "#f0f921"
            ]
           ],
           "sequentialminus": [
            [
             0,
             "#0d0887"
            ],
            [
             0.1111111111111111,
             "#46039f"
            ],
            [
             0.2222222222222222,
             "#7201a8"
            ],
            [
             0.3333333333333333,
             "#9c179e"
            ],
            [
             0.4444444444444444,
             "#bd3786"
            ],
            [
             0.5555555555555556,
             "#d8576b"
            ],
            [
             0.6666666666666666,
             "#ed7953"
            ],
            [
             0.7777777777777778,
             "#fb9f3a"
            ],
            [
             0.8888888888888888,
             "#fdca26"
            ],
            [
             1,
             "#f0f921"
            ]
           ]
          },
          "colorway": [
           "#636efa",
           "#EF553B",
           "#00cc96",
           "#ab63fa",
           "#FFA15A",
           "#19d3f3",
           "#FF6692",
           "#B6E880",
           "#FF97FF",
           "#FECB52"
          ],
          "font": {
           "color": "#2a3f5f"
          },
          "geo": {
           "bgcolor": "white",
           "lakecolor": "white",
           "landcolor": "#E5ECF6",
           "showlakes": true,
           "showland": true,
           "subunitcolor": "white"
          },
          "hoverlabel": {
           "align": "left"
          },
          "hovermode": "closest",
          "mapbox": {
           "style": "light"
          },
          "paper_bgcolor": "white",
          "plot_bgcolor": "#E5ECF6",
          "polar": {
           "angularaxis": {
            "gridcolor": "white",
            "linecolor": "white",
            "ticks": ""
           },
           "bgcolor": "#E5ECF6",
           "radialaxis": {
            "gridcolor": "white",
            "linecolor": "white",
            "ticks": ""
           }
          },
          "scene": {
           "xaxis": {
            "backgroundcolor": "#E5ECF6",
            "gridcolor": "white",
            "gridwidth": 2,
            "linecolor": "white",
            "showbackground": true,
            "ticks": "",
            "zerolinecolor": "white"
           },
           "yaxis": {
            "backgroundcolor": "#E5ECF6",
            "gridcolor": "white",
            "gridwidth": 2,
            "linecolor": "white",
            "showbackground": true,
            "ticks": "",
            "zerolinecolor": "white"
           },
           "zaxis": {
            "backgroundcolor": "#E5ECF6",
            "gridcolor": "white",
            "gridwidth": 2,
            "linecolor": "white",
            "showbackground": true,
            "ticks": "",
            "zerolinecolor": "white"
           }
          },
          "shapedefaults": {
           "line": {
            "color": "#2a3f5f"
           }
          },
          "ternary": {
           "aaxis": {
            "gridcolor": "white",
            "linecolor": "white",
            "ticks": ""
           },
           "baxis": {
            "gridcolor": "white",
            "linecolor": "white",
            "ticks": ""
           },
           "bgcolor": "#E5ECF6",
           "caxis": {
            "gridcolor": "white",
            "linecolor": "white",
            "ticks": ""
           }
          },
          "title": {
           "x": 0.05
          },
          "xaxis": {
           "automargin": true,
           "gridcolor": "white",
           "linecolor": "white",
           "ticks": "",
           "title": {
            "standoff": 15
           },
           "zerolinecolor": "white",
           "zerolinewidth": 2
          },
          "yaxis": {
           "automargin": true,
           "gridcolor": "white",
           "linecolor": "white",
           "ticks": "",
           "title": {
            "standoff": 15
           },
           "zerolinecolor": "white",
           "zerolinewidth": 2
          }
         }
        },
        "title": {
         "text": "Correlation Matrix"
        },
        "xaxis": {
         "anchor": "y",
         "constrain": "domain",
         "domain": [
          0,
          1
         ],
         "scaleanchor": "y",
         "tickangle": 90
        },
        "yaxis": {
         "anchor": "x",
         "autorange": "reversed",
         "constrain": "domain",
         "domain": [
          0,
          1
         ]
        }
       }
      }
     },
     "metadata": {},
     "output_type": "display_data"
    }
   ],
   "source": [
    "fig = px.imshow(corr.corr(), text_auto=\".3f\",  color_continuous_scale=\"RdBu_r\", title=\"Correlation Matrix\")\n",
    "fig.update_xaxes(tickangle=90)\n",
    "fig.show()"
   ]
  },
  {
   "cell_type": "code",
   "execution_count": 41,
   "id": "f70a4787",
   "metadata": {},
   "outputs": [],
   "source": [
    "pivot_income = data.pivot_table(values=\"Income\", index=\"Education\", columns=\"Marital_Status\", aggfunc=\"mean\").reset_index()"
   ]
  },
  {
   "cell_type": "code",
   "execution_count": 44,
   "id": "69bc49d7",
   "metadata": {},
   "outputs": [
    {
     "data": {
      "application/vnd.plotly.v1+json": {
       "config": {
        "plotlyServerURL": "https://plot.ly"
       },
       "data": [
        {
         "coloraxis": "coloraxis",
         "hovertemplate": "Marital_Status: %{x}<br>Education: %{y}<br>color: %{z}<extra></extra>",
         "name": "0",
         "texttemplate": "%{z:.2s}",
         "type": "heatmap",
         "x": [
          "Absurd",
          "Alone",
          "Divorced",
          "Married",
          "Single",
          "Together",
          "Widow",
          "YOLO"
         ],
         "xaxis": "x",
         "y": [
          "2n Cycle",
          "Basic",
          "Graduation",
          "Master",
          "PhD"
         ],
         "yaxis": "y",
         "z": {
          "bdata": "AAAAAAAA+H8AAAAAAAD4f3TRRRfdZuhAMzMzMyOP5kAAAAAAAB7qQCVJkiQN2OVAZmZmZgYY6UAAAAAAAAD4fwAAAAAAAPh/AAAAAAAA+H8AAAAAAKbCQAAAAAAgctVAq6qqqqrP0UCSJEmSBL7UQAAAAADAmtVAAAAAAAAA+H8AAAAAwFjzQAAAAAAAsOBAWKEzWMGf6kCNv5tHCM7oQKldidpFD+lAR6XoYc8560AHdVAHFdjqQAAAAAAAAPh/AAAAAOD570AAAAAAYPLtQLRuMEV+k+hAtgNz7cAE6kC4HoXrUSPqQFBQUFCgcelARhdddDGE7EAAAAAAAAD4fwAAAAAAAPh/AAAAAICC4UCxEzuxE+3pQEbasQJBY+xAq6qqqlMI6kCpfBj3Sz/rQKuqqqoCcO1AAAAAAACm50A=",
          "dtype": "f8",
          "shape": "5, 8"
         }
        }
       ],
       "layout": {
        "coloraxis": {
         "colorscale": [
          [
           0,
           "rgb(247,251,255)"
          ],
          [
           0.125,
           "rgb(222,235,247)"
          ],
          [
           0.25,
           "rgb(198,219,239)"
          ],
          [
           0.375,
           "rgb(158,202,225)"
          ],
          [
           0.5,
           "rgb(107,174,214)"
          ],
          [
           0.625,
           "rgb(66,146,198)"
          ],
          [
           0.75,
           "rgb(33,113,181)"
          ],
          [
           0.875,
           "rgb(8,81,156)"
          ],
          [
           1,
           "rgb(8,48,107)"
          ]
         ]
        },
        "template": {
         "data": {
          "bar": [
           {
            "error_x": {
             "color": "#2a3f5f"
            },
            "error_y": {
             "color": "#2a3f5f"
            },
            "marker": {
             "line": {
              "color": "#E5ECF6",
              "width": 0.5
             },
             "pattern": {
              "fillmode": "overlay",
              "size": 10,
              "solidity": 0.2
             }
            },
            "type": "bar"
           }
          ],
          "barpolar": [
           {
            "marker": {
             "line": {
              "color": "#E5ECF6",
              "width": 0.5
             },
             "pattern": {
              "fillmode": "overlay",
              "size": 10,
              "solidity": 0.2
             }
            },
            "type": "barpolar"
           }
          ],
          "carpet": [
           {
            "aaxis": {
             "endlinecolor": "#2a3f5f",
             "gridcolor": "white",
             "linecolor": "white",
             "minorgridcolor": "white",
             "startlinecolor": "#2a3f5f"
            },
            "baxis": {
             "endlinecolor": "#2a3f5f",
             "gridcolor": "white",
             "linecolor": "white",
             "minorgridcolor": "white",
             "startlinecolor": "#2a3f5f"
            },
            "type": "carpet"
           }
          ],
          "choropleth": [
           {
            "colorbar": {
             "outlinewidth": 0,
             "ticks": ""
            },
            "type": "choropleth"
           }
          ],
          "contour": [
           {
            "colorbar": {
             "outlinewidth": 0,
             "ticks": ""
            },
            "colorscale": [
             [
              0,
              "#0d0887"
             ],
             [
              0.1111111111111111,
              "#46039f"
             ],
             [
              0.2222222222222222,
              "#7201a8"
             ],
             [
              0.3333333333333333,
              "#9c179e"
             ],
             [
              0.4444444444444444,
              "#bd3786"
             ],
             [
              0.5555555555555556,
              "#d8576b"
             ],
             [
              0.6666666666666666,
              "#ed7953"
             ],
             [
              0.7777777777777778,
              "#fb9f3a"
             ],
             [
              0.8888888888888888,
              "#fdca26"
             ],
             [
              1,
              "#f0f921"
             ]
            ],
            "type": "contour"
           }
          ],
          "contourcarpet": [
           {
            "colorbar": {
             "outlinewidth": 0,
             "ticks": ""
            },
            "type": "contourcarpet"
           }
          ],
          "heatmap": [
           {
            "colorbar": {
             "outlinewidth": 0,
             "ticks": ""
            },
            "colorscale": [
             [
              0,
              "#0d0887"
             ],
             [
              0.1111111111111111,
              "#46039f"
             ],
             [
              0.2222222222222222,
              "#7201a8"
             ],
             [
              0.3333333333333333,
              "#9c179e"
             ],
             [
              0.4444444444444444,
              "#bd3786"
             ],
             [
              0.5555555555555556,
              "#d8576b"
             ],
             [
              0.6666666666666666,
              "#ed7953"
             ],
             [
              0.7777777777777778,
              "#fb9f3a"
             ],
             [
              0.8888888888888888,
              "#fdca26"
             ],
             [
              1,
              "#f0f921"
             ]
            ],
            "type": "heatmap"
           }
          ],
          "histogram": [
           {
            "marker": {
             "pattern": {
              "fillmode": "overlay",
              "size": 10,
              "solidity": 0.2
             }
            },
            "type": "histogram"
           }
          ],
          "histogram2d": [
           {
            "colorbar": {
             "outlinewidth": 0,
             "ticks": ""
            },
            "colorscale": [
             [
              0,
              "#0d0887"
             ],
             [
              0.1111111111111111,
              "#46039f"
             ],
             [
              0.2222222222222222,
              "#7201a8"
             ],
             [
              0.3333333333333333,
              "#9c179e"
             ],
             [
              0.4444444444444444,
              "#bd3786"
             ],
             [
              0.5555555555555556,
              "#d8576b"
             ],
             [
              0.6666666666666666,
              "#ed7953"
             ],
             [
              0.7777777777777778,
              "#fb9f3a"
             ],
             [
              0.8888888888888888,
              "#fdca26"
             ],
             [
              1,
              "#f0f921"
             ]
            ],
            "type": "histogram2d"
           }
          ],
          "histogram2dcontour": [
           {
            "colorbar": {
             "outlinewidth": 0,
             "ticks": ""
            },
            "colorscale": [
             [
              0,
              "#0d0887"
             ],
             [
              0.1111111111111111,
              "#46039f"
             ],
             [
              0.2222222222222222,
              "#7201a8"
             ],
             [
              0.3333333333333333,
              "#9c179e"
             ],
             [
              0.4444444444444444,
              "#bd3786"
             ],
             [
              0.5555555555555556,
              "#d8576b"
             ],
             [
              0.6666666666666666,
              "#ed7953"
             ],
             [
              0.7777777777777778,
              "#fb9f3a"
             ],
             [
              0.8888888888888888,
              "#fdca26"
             ],
             [
              1,
              "#f0f921"
             ]
            ],
            "type": "histogram2dcontour"
           }
          ],
          "mesh3d": [
           {
            "colorbar": {
             "outlinewidth": 0,
             "ticks": ""
            },
            "type": "mesh3d"
           }
          ],
          "parcoords": [
           {
            "line": {
             "colorbar": {
              "outlinewidth": 0,
              "ticks": ""
             }
            },
            "type": "parcoords"
           }
          ],
          "pie": [
           {
            "automargin": true,
            "type": "pie"
           }
          ],
          "scatter": [
           {
            "fillpattern": {
             "fillmode": "overlay",
             "size": 10,
             "solidity": 0.2
            },
            "type": "scatter"
           }
          ],
          "scatter3d": [
           {
            "line": {
             "colorbar": {
              "outlinewidth": 0,
              "ticks": ""
             }
            },
            "marker": {
             "colorbar": {
              "outlinewidth": 0,
              "ticks": ""
             }
            },
            "type": "scatter3d"
           }
          ],
          "scattercarpet": [
           {
            "marker": {
             "colorbar": {
              "outlinewidth": 0,
              "ticks": ""
             }
            },
            "type": "scattercarpet"
           }
          ],
          "scattergeo": [
           {
            "marker": {
             "colorbar": {
              "outlinewidth": 0,
              "ticks": ""
             }
            },
            "type": "scattergeo"
           }
          ],
          "scattergl": [
           {
            "marker": {
             "colorbar": {
              "outlinewidth": 0,
              "ticks": ""
             }
            },
            "type": "scattergl"
           }
          ],
          "scattermap": [
           {
            "marker": {
             "colorbar": {
              "outlinewidth": 0,
              "ticks": ""
             }
            },
            "type": "scattermap"
           }
          ],
          "scattermapbox": [
           {
            "marker": {
             "colorbar": {
              "outlinewidth": 0,
              "ticks": ""
             }
            },
            "type": "scattermapbox"
           }
          ],
          "scatterpolar": [
           {
            "marker": {
             "colorbar": {
              "outlinewidth": 0,
              "ticks": ""
             }
            },
            "type": "scatterpolar"
           }
          ],
          "scatterpolargl": [
           {
            "marker": {
             "colorbar": {
              "outlinewidth": 0,
              "ticks": ""
             }
            },
            "type": "scatterpolargl"
           }
          ],
          "scatterternary": [
           {
            "marker": {
             "colorbar": {
              "outlinewidth": 0,
              "ticks": ""
             }
            },
            "type": "scatterternary"
           }
          ],
          "surface": [
           {
            "colorbar": {
             "outlinewidth": 0,
             "ticks": ""
            },
            "colorscale": [
             [
              0,
              "#0d0887"
             ],
             [
              0.1111111111111111,
              "#46039f"
             ],
             [
              0.2222222222222222,
              "#7201a8"
             ],
             [
              0.3333333333333333,
              "#9c179e"
             ],
             [
              0.4444444444444444,
              "#bd3786"
             ],
             [
              0.5555555555555556,
              "#d8576b"
             ],
             [
              0.6666666666666666,
              "#ed7953"
             ],
             [
              0.7777777777777778,
              "#fb9f3a"
             ],
             [
              0.8888888888888888,
              "#fdca26"
             ],
             [
              1,
              "#f0f921"
             ]
            ],
            "type": "surface"
           }
          ],
          "table": [
           {
            "cells": {
             "fill": {
              "color": "#EBF0F8"
             },
             "line": {
              "color": "white"
             }
            },
            "header": {
             "fill": {
              "color": "#C8D4E3"
             },
             "line": {
              "color": "white"
             }
            },
            "type": "table"
           }
          ]
         },
         "layout": {
          "annotationdefaults": {
           "arrowcolor": "#2a3f5f",
           "arrowhead": 0,
           "arrowwidth": 1
          },
          "autotypenumbers": "strict",
          "coloraxis": {
           "colorbar": {
            "outlinewidth": 0,
            "ticks": ""
           }
          },
          "colorscale": {
           "diverging": [
            [
             0,
             "#8e0152"
            ],
            [
             0.1,
             "#c51b7d"
            ],
            [
             0.2,
             "#de77ae"
            ],
            [
             0.3,
             "#f1b6da"
            ],
            [
             0.4,
             "#fde0ef"
            ],
            [
             0.5,
             "#f7f7f7"
            ],
            [
             0.6,
             "#e6f5d0"
            ],
            [
             0.7,
             "#b8e186"
            ],
            [
             0.8,
             "#7fbc41"
            ],
            [
             0.9,
             "#4d9221"
            ],
            [
             1,
             "#276419"
            ]
           ],
           "sequential": [
            [
             0,
             "#0d0887"
            ],
            [
             0.1111111111111111,
             "#46039f"
            ],
            [
             0.2222222222222222,
             "#7201a8"
            ],
            [
             0.3333333333333333,
             "#9c179e"
            ],
            [
             0.4444444444444444,
             "#bd3786"
            ],
            [
             0.5555555555555556,
             "#d8576b"
            ],
            [
             0.6666666666666666,
             "#ed7953"
            ],
            [
             0.7777777777777778,
             "#fb9f3a"
            ],
            [
             0.8888888888888888,
             "#fdca26"
            ],
            [
             1,
             "#f0f921"
            ]
           ],
           "sequentialminus": [
            [
             0,
             "#0d0887"
            ],
            [
             0.1111111111111111,
             "#46039f"
            ],
            [
             0.2222222222222222,
             "#7201a8"
            ],
            [
             0.3333333333333333,
             "#9c179e"
            ],
            [
             0.4444444444444444,
             "#bd3786"
            ],
            [
             0.5555555555555556,
             "#d8576b"
            ],
            [
             0.6666666666666666,
             "#ed7953"
            ],
            [
             0.7777777777777778,
             "#fb9f3a"
            ],
            [
             0.8888888888888888,
             "#fdca26"
            ],
            [
             1,
             "#f0f921"
            ]
           ]
          },
          "colorway": [
           "#636efa",
           "#EF553B",
           "#00cc96",
           "#ab63fa",
           "#FFA15A",
           "#19d3f3",
           "#FF6692",
           "#B6E880",
           "#FF97FF",
           "#FECB52"
          ],
          "font": {
           "color": "#2a3f5f"
          },
          "geo": {
           "bgcolor": "white",
           "lakecolor": "white",
           "landcolor": "#E5ECF6",
           "showlakes": true,
           "showland": true,
           "subunitcolor": "white"
          },
          "hoverlabel": {
           "align": "left"
          },
          "hovermode": "closest",
          "mapbox": {
           "style": "light"
          },
          "paper_bgcolor": "white",
          "plot_bgcolor": "#E5ECF6",
          "polar": {
           "angularaxis": {
            "gridcolor": "white",
            "linecolor": "white",
            "ticks": ""
           },
           "bgcolor": "#E5ECF6",
           "radialaxis": {
            "gridcolor": "white",
            "linecolor": "white",
            "ticks": ""
           }
          },
          "scene": {
           "xaxis": {
            "backgroundcolor": "#E5ECF6",
            "gridcolor": "white",
            "gridwidth": 2,
            "linecolor": "white",
            "showbackground": true,
            "ticks": "",
            "zerolinecolor": "white"
           },
           "yaxis": {
            "backgroundcolor": "#E5ECF6",
            "gridcolor": "white",
            "gridwidth": 2,
            "linecolor": "white",
            "showbackground": true,
            "ticks": "",
            "zerolinecolor": "white"
           },
           "zaxis": {
            "backgroundcolor": "#E5ECF6",
            "gridcolor": "white",
            "gridwidth": 2,
            "linecolor": "white",
            "showbackground": true,
            "ticks": "",
            "zerolinecolor": "white"
           }
          },
          "shapedefaults": {
           "line": {
            "color": "#2a3f5f"
           }
          },
          "ternary": {
           "aaxis": {
            "gridcolor": "white",
            "linecolor": "white",
            "ticks": ""
           },
           "baxis": {
            "gridcolor": "white",
            "linecolor": "white",
            "ticks": ""
           },
           "bgcolor": "#E5ECF6",
           "caxis": {
            "gridcolor": "white",
            "linecolor": "white",
            "ticks": ""
           }
          },
          "title": {
           "x": 0.05
          },
          "xaxis": {
           "automargin": true,
           "gridcolor": "white",
           "linecolor": "white",
           "ticks": "",
           "title": {
            "standoff": 15
           },
           "zerolinecolor": "white",
           "zerolinewidth": 2
          },
          "yaxis": {
           "automargin": true,
           "gridcolor": "white",
           "linecolor": "white",
           "ticks": "",
           "title": {
            "standoff": 15
           },
           "zerolinecolor": "white",
           "zerolinewidth": 2
          }
         }
        },
        "title": {
         "text": "Average Income by Education and Marital Status"
        },
        "xaxis": {
         "anchor": "y",
         "constrain": "domain",
         "domain": [
          0,
          1
         ],
         "scaleanchor": "y",
         "title": {
          "text": "Marital_Status"
         }
        },
        "yaxis": {
         "anchor": "x",
         "autorange": "reversed",
         "constrain": "domain",
         "domain": [
          0,
          1
         ],
         "title": {
          "text": "Education"
         }
        }
       }
      }
     },
     "metadata": {},
     "output_type": "display_data"
    }
   ],
   "source": [
    "px.imshow(pivot_income.set_index(\"Education\"), text_auto=\".2s\", color_continuous_scale=\"Blues\", title=\"Average Income by Education and Marital Status\").show()"
   ]
  },
  {
   "cell_type": "markdown",
   "id": "2c243753",
   "metadata": {},
   "source": [
    "#### Grouped data"
   ]
  },
  {
   "cell_type": "code",
   "execution_count": 45,
   "id": "451857d6",
   "metadata": {},
   "outputs": [],
   "source": [
    "group1 = data.groupby(\"Education\")[\"Total_spending\"].mean().sort_values(ascending=False)"
   ]
  },
  {
   "cell_type": "code",
   "execution_count": 50,
   "id": "82779a85",
   "metadata": {},
   "outputs": [
    {
     "data": {
      "application/vnd.plotly.v1+json": {
       "config": {
        "plotlyServerURL": "https://plot.ly"
       },
       "data": [
        {
         "hovertemplate": "variable=Total_spending<br>Education=%{x}<br>value=%{y}<extra></extra>",
         "legendgroup": "Total_spending",
         "marker": {
          "color": "#636efa",
          "pattern": {
           "shape": ""
          }
         },
         "name": "Total_spending",
         "orientation": "v",
         "showlegend": true,
         "textposition": "auto",
         "type": "bar",
         "x": [
          "PhD",
          "Graduation",
          "Master",
          "2n Cycle",
          "Basic"
         ],
         "xaxis": "x",
         "y": {
          "bdata": "REREREQShUD3hcK0fW2DQGLEiBEjDoNAW79SoNY3f0Avob2E9nJUQA==",
          "dtype": "f8"
         },
         "yaxis": "y"
        }
       ],
       "layout": {
        "barmode": "relative",
        "legend": {
         "title": {
          "text": "variable"
         },
         "tracegroupgap": 0
        },
        "showlegend": false,
        "template": {
         "data": {
          "bar": [
           {
            "error_x": {
             "color": "#2a3f5f"
            },
            "error_y": {
             "color": "#2a3f5f"
            },
            "marker": {
             "line": {
              "color": "#E5ECF6",
              "width": 0.5
             },
             "pattern": {
              "fillmode": "overlay",
              "size": 10,
              "solidity": 0.2
             }
            },
            "type": "bar"
           }
          ],
          "barpolar": [
           {
            "marker": {
             "line": {
              "color": "#E5ECF6",
              "width": 0.5
             },
             "pattern": {
              "fillmode": "overlay",
              "size": 10,
              "solidity": 0.2
             }
            },
            "type": "barpolar"
           }
          ],
          "carpet": [
           {
            "aaxis": {
             "endlinecolor": "#2a3f5f",
             "gridcolor": "white",
             "linecolor": "white",
             "minorgridcolor": "white",
             "startlinecolor": "#2a3f5f"
            },
            "baxis": {
             "endlinecolor": "#2a3f5f",
             "gridcolor": "white",
             "linecolor": "white",
             "minorgridcolor": "white",
             "startlinecolor": "#2a3f5f"
            },
            "type": "carpet"
           }
          ],
          "choropleth": [
           {
            "colorbar": {
             "outlinewidth": 0,
             "ticks": ""
            },
            "type": "choropleth"
           }
          ],
          "contour": [
           {
            "colorbar": {
             "outlinewidth": 0,
             "ticks": ""
            },
            "colorscale": [
             [
              0,
              "#0d0887"
             ],
             [
              0.1111111111111111,
              "#46039f"
             ],
             [
              0.2222222222222222,
              "#7201a8"
             ],
             [
              0.3333333333333333,
              "#9c179e"
             ],
             [
              0.4444444444444444,
              "#bd3786"
             ],
             [
              0.5555555555555556,
              "#d8576b"
             ],
             [
              0.6666666666666666,
              "#ed7953"
             ],
             [
              0.7777777777777778,
              "#fb9f3a"
             ],
             [
              0.8888888888888888,
              "#fdca26"
             ],
             [
              1,
              "#f0f921"
             ]
            ],
            "type": "contour"
           }
          ],
          "contourcarpet": [
           {
            "colorbar": {
             "outlinewidth": 0,
             "ticks": ""
            },
            "type": "contourcarpet"
           }
          ],
          "heatmap": [
           {
            "colorbar": {
             "outlinewidth": 0,
             "ticks": ""
            },
            "colorscale": [
             [
              0,
              "#0d0887"
             ],
             [
              0.1111111111111111,
              "#46039f"
             ],
             [
              0.2222222222222222,
              "#7201a8"
             ],
             [
              0.3333333333333333,
              "#9c179e"
             ],
             [
              0.4444444444444444,
              "#bd3786"
             ],
             [
              0.5555555555555556,
              "#d8576b"
             ],
             [
              0.6666666666666666,
              "#ed7953"
             ],
             [
              0.7777777777777778,
              "#fb9f3a"
             ],
             [
              0.8888888888888888,
              "#fdca26"
             ],
             [
              1,
              "#f0f921"
             ]
            ],
            "type": "heatmap"
           }
          ],
          "histogram": [
           {
            "marker": {
             "pattern": {
              "fillmode": "overlay",
              "size": 10,
              "solidity": 0.2
             }
            },
            "type": "histogram"
           }
          ],
          "histogram2d": [
           {
            "colorbar": {
             "outlinewidth": 0,
             "ticks": ""
            },
            "colorscale": [
             [
              0,
              "#0d0887"
             ],
             [
              0.1111111111111111,
              "#46039f"
             ],
             [
              0.2222222222222222,
              "#7201a8"
             ],
             [
              0.3333333333333333,
              "#9c179e"
             ],
             [
              0.4444444444444444,
              "#bd3786"
             ],
             [
              0.5555555555555556,
              "#d8576b"
             ],
             [
              0.6666666666666666,
              "#ed7953"
             ],
             [
              0.7777777777777778,
              "#fb9f3a"
             ],
             [
              0.8888888888888888,
              "#fdca26"
             ],
             [
              1,
              "#f0f921"
             ]
            ],
            "type": "histogram2d"
           }
          ],
          "histogram2dcontour": [
           {
            "colorbar": {
             "outlinewidth": 0,
             "ticks": ""
            },
            "colorscale": [
             [
              0,
              "#0d0887"
             ],
             [
              0.1111111111111111,
              "#46039f"
             ],
             [
              0.2222222222222222,
              "#7201a8"
             ],
             [
              0.3333333333333333,
              "#9c179e"
             ],
             [
              0.4444444444444444,
              "#bd3786"
             ],
             [
              0.5555555555555556,
              "#d8576b"
             ],
             [
              0.6666666666666666,
              "#ed7953"
             ],
             [
              0.7777777777777778,
              "#fb9f3a"
             ],
             [
              0.8888888888888888,
              "#fdca26"
             ],
             [
              1,
              "#f0f921"
             ]
            ],
            "type": "histogram2dcontour"
           }
          ],
          "mesh3d": [
           {
            "colorbar": {
             "outlinewidth": 0,
             "ticks": ""
            },
            "type": "mesh3d"
           }
          ],
          "parcoords": [
           {
            "line": {
             "colorbar": {
              "outlinewidth": 0,
              "ticks": ""
             }
            },
            "type": "parcoords"
           }
          ],
          "pie": [
           {
            "automargin": true,
            "type": "pie"
           }
          ],
          "scatter": [
           {
            "fillpattern": {
             "fillmode": "overlay",
             "size": 10,
             "solidity": 0.2
            },
            "type": "scatter"
           }
          ],
          "scatter3d": [
           {
            "line": {
             "colorbar": {
              "outlinewidth": 0,
              "ticks": ""
             }
            },
            "marker": {
             "colorbar": {
              "outlinewidth": 0,
              "ticks": ""
             }
            },
            "type": "scatter3d"
           }
          ],
          "scattercarpet": [
           {
            "marker": {
             "colorbar": {
              "outlinewidth": 0,
              "ticks": ""
             }
            },
            "type": "scattercarpet"
           }
          ],
          "scattergeo": [
           {
            "marker": {
             "colorbar": {
              "outlinewidth": 0,
              "ticks": ""
             }
            },
            "type": "scattergeo"
           }
          ],
          "scattergl": [
           {
            "marker": {
             "colorbar": {
              "outlinewidth": 0,
              "ticks": ""
             }
            },
            "type": "scattergl"
           }
          ],
          "scattermap": [
           {
            "marker": {
             "colorbar": {
              "outlinewidth": 0,
              "ticks": ""
             }
            },
            "type": "scattermap"
           }
          ],
          "scattermapbox": [
           {
            "marker": {
             "colorbar": {
              "outlinewidth": 0,
              "ticks": ""
             }
            },
            "type": "scattermapbox"
           }
          ],
          "scatterpolar": [
           {
            "marker": {
             "colorbar": {
              "outlinewidth": 0,
              "ticks": ""
             }
            },
            "type": "scatterpolar"
           }
          ],
          "scatterpolargl": [
           {
            "marker": {
             "colorbar": {
              "outlinewidth": 0,
              "ticks": ""
             }
            },
            "type": "scatterpolargl"
           }
          ],
          "scatterternary": [
           {
            "marker": {
             "colorbar": {
              "outlinewidth": 0,
              "ticks": ""
             }
            },
            "type": "scatterternary"
           }
          ],
          "surface": [
           {
            "colorbar": {
             "outlinewidth": 0,
             "ticks": ""
            },
            "colorscale": [
             [
              0,
              "#0d0887"
             ],
             [
              0.1111111111111111,
              "#46039f"
             ],
             [
              0.2222222222222222,
              "#7201a8"
             ],
             [
              0.3333333333333333,
              "#9c179e"
             ],
             [
              0.4444444444444444,
              "#bd3786"
             ],
             [
              0.5555555555555556,
              "#d8576b"
             ],
             [
              0.6666666666666666,
              "#ed7953"
             ],
             [
              0.7777777777777778,
              "#fb9f3a"
             ],
             [
              0.8888888888888888,
              "#fdca26"
             ],
             [
              1,
              "#f0f921"
             ]
            ],
            "type": "surface"
           }
          ],
          "table": [
           {
            "cells": {
             "fill": {
              "color": "#EBF0F8"
             },
             "line": {
              "color": "white"
             }
            },
            "header": {
             "fill": {
              "color": "#C8D4E3"
             },
             "line": {
              "color": "white"
             }
            },
            "type": "table"
           }
          ]
         },
         "layout": {
          "annotationdefaults": {
           "arrowcolor": "#2a3f5f",
           "arrowhead": 0,
           "arrowwidth": 1
          },
          "autotypenumbers": "strict",
          "coloraxis": {
           "colorbar": {
            "outlinewidth": 0,
            "ticks": ""
           }
          },
          "colorscale": {
           "diverging": [
            [
             0,
             "#8e0152"
            ],
            [
             0.1,
             "#c51b7d"
            ],
            [
             0.2,
             "#de77ae"
            ],
            [
             0.3,
             "#f1b6da"
            ],
            [
             0.4,
             "#fde0ef"
            ],
            [
             0.5,
             "#f7f7f7"
            ],
            [
             0.6,
             "#e6f5d0"
            ],
            [
             0.7,
             "#b8e186"
            ],
            [
             0.8,
             "#7fbc41"
            ],
            [
             0.9,
             "#4d9221"
            ],
            [
             1,
             "#276419"
            ]
           ],
           "sequential": [
            [
             0,
             "#0d0887"
            ],
            [
             0.1111111111111111,
             "#46039f"
            ],
            [
             0.2222222222222222,
             "#7201a8"
            ],
            [
             0.3333333333333333,
             "#9c179e"
            ],
            [
             0.4444444444444444,
             "#bd3786"
            ],
            [
             0.5555555555555556,
             "#d8576b"
            ],
            [
             0.6666666666666666,
             "#ed7953"
            ],
            [
             0.7777777777777778,
             "#fb9f3a"
            ],
            [
             0.8888888888888888,
             "#fdca26"
            ],
            [
             1,
             "#f0f921"
            ]
           ],
           "sequentialminus": [
            [
             0,
             "#0d0887"
            ],
            [
             0.1111111111111111,
             "#46039f"
            ],
            [
             0.2222222222222222,
             "#7201a8"
            ],
            [
             0.3333333333333333,
             "#9c179e"
            ],
            [
             0.4444444444444444,
             "#bd3786"
            ],
            [
             0.5555555555555556,
             "#d8576b"
            ],
            [
             0.6666666666666666,
             "#ed7953"
            ],
            [
             0.7777777777777778,
             "#fb9f3a"
            ],
            [
             0.8888888888888888,
             "#fdca26"
            ],
            [
             1,
             "#f0f921"
            ]
           ]
          },
          "colorway": [
           "#636efa",
           "#EF553B",
           "#00cc96",
           "#ab63fa",
           "#FFA15A",
           "#19d3f3",
           "#FF6692",
           "#B6E880",
           "#FF97FF",
           "#FECB52"
          ],
          "font": {
           "color": "#2a3f5f"
          },
          "geo": {
           "bgcolor": "white",
           "lakecolor": "white",
           "landcolor": "#E5ECF6",
           "showlakes": true,
           "showland": true,
           "subunitcolor": "white"
          },
          "hoverlabel": {
           "align": "left"
          },
          "hovermode": "closest",
          "mapbox": {
           "style": "light"
          },
          "paper_bgcolor": "white",
          "plot_bgcolor": "#E5ECF6",
          "polar": {
           "angularaxis": {
            "gridcolor": "white",
            "linecolor": "white",
            "ticks": ""
           },
           "bgcolor": "#E5ECF6",
           "radialaxis": {
            "gridcolor": "white",
            "linecolor": "white",
            "ticks": ""
           }
          },
          "scene": {
           "xaxis": {
            "backgroundcolor": "#E5ECF6",
            "gridcolor": "white",
            "gridwidth": 2,
            "linecolor": "white",
            "showbackground": true,
            "ticks": "",
            "zerolinecolor": "white"
           },
           "yaxis": {
            "backgroundcolor": "#E5ECF6",
            "gridcolor": "white",
            "gridwidth": 2,
            "linecolor": "white",
            "showbackground": true,
            "ticks": "",
            "zerolinecolor": "white"
           },
           "zaxis": {
            "backgroundcolor": "#E5ECF6",
            "gridcolor": "white",
            "gridwidth": 2,
            "linecolor": "white",
            "showbackground": true,
            "ticks": "",
            "zerolinecolor": "white"
           }
          },
          "shapedefaults": {
           "line": {
            "color": "#2a3f5f"
           }
          },
          "ternary": {
           "aaxis": {
            "gridcolor": "white",
            "linecolor": "white",
            "ticks": ""
           },
           "baxis": {
            "gridcolor": "white",
            "linecolor": "white",
            "ticks": ""
           },
           "bgcolor": "#E5ECF6",
           "caxis": {
            "gridcolor": "white",
            "linecolor": "white",
            "ticks": ""
           }
          },
          "title": {
           "x": 0.05
          },
          "xaxis": {
           "automargin": true,
           "gridcolor": "white",
           "linecolor": "white",
           "ticks": "",
           "title": {
            "standoff": 15
           },
           "zerolinecolor": "white",
           "zerolinewidth": 2
          },
          "yaxis": {
           "automargin": true,
           "gridcolor": "white",
           "linecolor": "white",
           "ticks": "",
           "title": {
            "standoff": 15
           },
           "zerolinecolor": "white",
           "zerolinewidth": 2
          }
         }
        },
        "title": {
         "text": "Average Total Spending by Education"
        },
        "xaxis": {
         "anchor": "y",
         "domain": [
          0,
          1
         ],
         "title": {
          "text": "Education"
         }
        },
        "yaxis": {
         "anchor": "x",
         "domain": [
          0,
          1
         ],
         "title": {
          "text": "value"
         }
        }
       }
      }
     },
     "metadata": {},
     "output_type": "display_data"
    }
   ],
   "source": [
    "fig = px.bar(group1, title=\"Average Total Spending by Education\")\n",
    "fig.update_layout(showlegend=False)\n",
    "fig.show()"
   ]
  },
  {
   "cell_type": "code",
   "execution_count": 51,
   "id": "91a70ed7",
   "metadata": {},
   "outputs": [],
   "source": [
    "data[\"AcceptedAny\"] = data[[\"AcceptedCmp1\", \"AcceptedCmp2\", \"AcceptedCmp3\", \"AcceptedCmp4\", \"AcceptedCmp5\"]].sum(axis=1)"
   ]
  },
  {
   "cell_type": "code",
   "execution_count": 53,
   "id": "87a9784f",
   "metadata": {},
   "outputs": [],
   "source": [
    "data[\"AcceptedAny\"] = data[\"AcceptedAny\"].apply(lambda x: 1 if x > 0 else 0)"
   ]
  },
  {
   "cell_type": "code",
   "execution_count": 54,
   "id": "143f3528",
   "metadata": {},
   "outputs": [],
   "source": [
    "group2 = data.groupby(\"Marital_Status\")[\"AcceptedAny\"].mean().sort_values(ascending=False)"
   ]
  },
  {
   "cell_type": "code",
   "execution_count": 55,
   "id": "62d10da3",
   "metadata": {},
   "outputs": [
    {
     "data": {
      "application/vnd.plotly.v1+json": {
       "config": {
        "plotlyServerURL": "https://plot.ly"
       },
       "data": [
        {
         "hovertemplate": "variable=AcceptedAny<br>Marital_Status=%{x}<br>value=%{y}<extra></extra>",
         "legendgroup": "AcceptedAny",
         "marker": {
          "color": "#636efa",
          "pattern": {
           "shape": ""
          }
         },
         "name": "AcceptedAny",
         "orientation": "v",
         "showlegend": true,
         "textposition": "auto",
         "type": "bar",
         "x": [
          "Absurd",
          "Alone",
          "Widow",
          "Married",
          "Single",
          "Together",
          "Divorced",
          "YOLO"
         ],
         "xaxis": "x",
         "y": {
          "bdata": "AAAAAAAA4D9VVVVVVVXVPw3lNZTXUM4/1Q/Dq6kIyz8DtwjowWrKP+WAyHCvgsk/6/RlvDp9yT8AAAAAAAAAAA==",
          "dtype": "f8"
         },
         "yaxis": "y"
        }
       ],
       "layout": {
        "barmode": "relative",
        "legend": {
         "title": {
          "text": "variable"
         },
         "tracegroupgap": 0
        },
        "margin": {
         "t": 60
        },
        "showlegend": false,
        "template": {
         "data": {
          "bar": [
           {
            "error_x": {
             "color": "#2a3f5f"
            },
            "error_y": {
             "color": "#2a3f5f"
            },
            "marker": {
             "line": {
              "color": "#E5ECF6",
              "width": 0.5
             },
             "pattern": {
              "fillmode": "overlay",
              "size": 10,
              "solidity": 0.2
             }
            },
            "type": "bar"
           }
          ],
          "barpolar": [
           {
            "marker": {
             "line": {
              "color": "#E5ECF6",
              "width": 0.5
             },
             "pattern": {
              "fillmode": "overlay",
              "size": 10,
              "solidity": 0.2
             }
            },
            "type": "barpolar"
           }
          ],
          "carpet": [
           {
            "aaxis": {
             "endlinecolor": "#2a3f5f",
             "gridcolor": "white",
             "linecolor": "white",
             "minorgridcolor": "white",
             "startlinecolor": "#2a3f5f"
            },
            "baxis": {
             "endlinecolor": "#2a3f5f",
             "gridcolor": "white",
             "linecolor": "white",
             "minorgridcolor": "white",
             "startlinecolor": "#2a3f5f"
            },
            "type": "carpet"
           }
          ],
          "choropleth": [
           {
            "colorbar": {
             "outlinewidth": 0,
             "ticks": ""
            },
            "type": "choropleth"
           }
          ],
          "contour": [
           {
            "colorbar": {
             "outlinewidth": 0,
             "ticks": ""
            },
            "colorscale": [
             [
              0,
              "#0d0887"
             ],
             [
              0.1111111111111111,
              "#46039f"
             ],
             [
              0.2222222222222222,
              "#7201a8"
             ],
             [
              0.3333333333333333,
              "#9c179e"
             ],
             [
              0.4444444444444444,
              "#bd3786"
             ],
             [
              0.5555555555555556,
              "#d8576b"
             ],
             [
              0.6666666666666666,
              "#ed7953"
             ],
             [
              0.7777777777777778,
              "#fb9f3a"
             ],
             [
              0.8888888888888888,
              "#fdca26"
             ],
             [
              1,
              "#f0f921"
             ]
            ],
            "type": "contour"
           }
          ],
          "contourcarpet": [
           {
            "colorbar": {
             "outlinewidth": 0,
             "ticks": ""
            },
            "type": "contourcarpet"
           }
          ],
          "heatmap": [
           {
            "colorbar": {
             "outlinewidth": 0,
             "ticks": ""
            },
            "colorscale": [
             [
              0,
              "#0d0887"
             ],
             [
              0.1111111111111111,
              "#46039f"
             ],
             [
              0.2222222222222222,
              "#7201a8"
             ],
             [
              0.3333333333333333,
              "#9c179e"
             ],
             [
              0.4444444444444444,
              "#bd3786"
             ],
             [
              0.5555555555555556,
              "#d8576b"
             ],
             [
              0.6666666666666666,
              "#ed7953"
             ],
             [
              0.7777777777777778,
              "#fb9f3a"
             ],
             [
              0.8888888888888888,
              "#fdca26"
             ],
             [
              1,
              "#f0f921"
             ]
            ],
            "type": "heatmap"
           }
          ],
          "histogram": [
           {
            "marker": {
             "pattern": {
              "fillmode": "overlay",
              "size": 10,
              "solidity": 0.2
             }
            },
            "type": "histogram"
           }
          ],
          "histogram2d": [
           {
            "colorbar": {
             "outlinewidth": 0,
             "ticks": ""
            },
            "colorscale": [
             [
              0,
              "#0d0887"
             ],
             [
              0.1111111111111111,
              "#46039f"
             ],
             [
              0.2222222222222222,
              "#7201a8"
             ],
             [
              0.3333333333333333,
              "#9c179e"
             ],
             [
              0.4444444444444444,
              "#bd3786"
             ],
             [
              0.5555555555555556,
              "#d8576b"
             ],
             [
              0.6666666666666666,
              "#ed7953"
             ],
             [
              0.7777777777777778,
              "#fb9f3a"
             ],
             [
              0.8888888888888888,
              "#fdca26"
             ],
             [
              1,
              "#f0f921"
             ]
            ],
            "type": "histogram2d"
           }
          ],
          "histogram2dcontour": [
           {
            "colorbar": {
             "outlinewidth": 0,
             "ticks": ""
            },
            "colorscale": [
             [
              0,
              "#0d0887"
             ],
             [
              0.1111111111111111,
              "#46039f"
             ],
             [
              0.2222222222222222,
              "#7201a8"
             ],
             [
              0.3333333333333333,
              "#9c179e"
             ],
             [
              0.4444444444444444,
              "#bd3786"
             ],
             [
              0.5555555555555556,
              "#d8576b"
             ],
             [
              0.6666666666666666,
              "#ed7953"
             ],
             [
              0.7777777777777778,
              "#fb9f3a"
             ],
             [
              0.8888888888888888,
              "#fdca26"
             ],
             [
              1,
              "#f0f921"
             ]
            ],
            "type": "histogram2dcontour"
           }
          ],
          "mesh3d": [
           {
            "colorbar": {
             "outlinewidth": 0,
             "ticks": ""
            },
            "type": "mesh3d"
           }
          ],
          "parcoords": [
           {
            "line": {
             "colorbar": {
              "outlinewidth": 0,
              "ticks": ""
             }
            },
            "type": "parcoords"
           }
          ],
          "pie": [
           {
            "automargin": true,
            "type": "pie"
           }
          ],
          "scatter": [
           {
            "fillpattern": {
             "fillmode": "overlay",
             "size": 10,
             "solidity": 0.2
            },
            "type": "scatter"
           }
          ],
          "scatter3d": [
           {
            "line": {
             "colorbar": {
              "outlinewidth": 0,
              "ticks": ""
             }
            },
            "marker": {
             "colorbar": {
              "outlinewidth": 0,
              "ticks": ""
             }
            },
            "type": "scatter3d"
           }
          ],
          "scattercarpet": [
           {
            "marker": {
             "colorbar": {
              "outlinewidth": 0,
              "ticks": ""
             }
            },
            "type": "scattercarpet"
           }
          ],
          "scattergeo": [
           {
            "marker": {
             "colorbar": {
              "outlinewidth": 0,
              "ticks": ""
             }
            },
            "type": "scattergeo"
           }
          ],
          "scattergl": [
           {
            "marker": {
             "colorbar": {
              "outlinewidth": 0,
              "ticks": ""
             }
            },
            "type": "scattergl"
           }
          ],
          "scattermap": [
           {
            "marker": {
             "colorbar": {
              "outlinewidth": 0,
              "ticks": ""
             }
            },
            "type": "scattermap"
           }
          ],
          "scattermapbox": [
           {
            "marker": {
             "colorbar": {
              "outlinewidth": 0,
              "ticks": ""
             }
            },
            "type": "scattermapbox"
           }
          ],
          "scatterpolar": [
           {
            "marker": {
             "colorbar": {
              "outlinewidth": 0,
              "ticks": ""
             }
            },
            "type": "scatterpolar"
           }
          ],
          "scatterpolargl": [
           {
            "marker": {
             "colorbar": {
              "outlinewidth": 0,
              "ticks": ""
             }
            },
            "type": "scatterpolargl"
           }
          ],
          "scatterternary": [
           {
            "marker": {
             "colorbar": {
              "outlinewidth": 0,
              "ticks": ""
             }
            },
            "type": "scatterternary"
           }
          ],
          "surface": [
           {
            "colorbar": {
             "outlinewidth": 0,
             "ticks": ""
            },
            "colorscale": [
             [
              0,
              "#0d0887"
             ],
             [
              0.1111111111111111,
              "#46039f"
             ],
             [
              0.2222222222222222,
              "#7201a8"
             ],
             [
              0.3333333333333333,
              "#9c179e"
             ],
             [
              0.4444444444444444,
              "#bd3786"
             ],
             [
              0.5555555555555556,
              "#d8576b"
             ],
             [
              0.6666666666666666,
              "#ed7953"
             ],
             [
              0.7777777777777778,
              "#fb9f3a"
             ],
             [
              0.8888888888888888,
              "#fdca26"
             ],
             [
              1,
              "#f0f921"
             ]
            ],
            "type": "surface"
           }
          ],
          "table": [
           {
            "cells": {
             "fill": {
              "color": "#EBF0F8"
             },
             "line": {
              "color": "white"
             }
            },
            "header": {
             "fill": {
              "color": "#C8D4E3"
             },
             "line": {
              "color": "white"
             }
            },
            "type": "table"
           }
          ]
         },
         "layout": {
          "annotationdefaults": {
           "arrowcolor": "#2a3f5f",
           "arrowhead": 0,
           "arrowwidth": 1
          },
          "autotypenumbers": "strict",
          "coloraxis": {
           "colorbar": {
            "outlinewidth": 0,
            "ticks": ""
           }
          },
          "colorscale": {
           "diverging": [
            [
             0,
             "#8e0152"
            ],
            [
             0.1,
             "#c51b7d"
            ],
            [
             0.2,
             "#de77ae"
            ],
            [
             0.3,
             "#f1b6da"
            ],
            [
             0.4,
             "#fde0ef"
            ],
            [
             0.5,
             "#f7f7f7"
            ],
            [
             0.6,
             "#e6f5d0"
            ],
            [
             0.7,
             "#b8e186"
            ],
            [
             0.8,
             "#7fbc41"
            ],
            [
             0.9,
             "#4d9221"
            ],
            [
             1,
             "#276419"
            ]
           ],
           "sequential": [
            [
             0,
             "#0d0887"
            ],
            [
             0.1111111111111111,
             "#46039f"
            ],
            [
             0.2222222222222222,
             "#7201a8"
            ],
            [
             0.3333333333333333,
             "#9c179e"
            ],
            [
             0.4444444444444444,
             "#bd3786"
            ],
            [
             0.5555555555555556,
             "#d8576b"
            ],
            [
             0.6666666666666666,
             "#ed7953"
            ],
            [
             0.7777777777777778,
             "#fb9f3a"
            ],
            [
             0.8888888888888888,
             "#fdca26"
            ],
            [
             1,
             "#f0f921"
            ]
           ],
           "sequentialminus": [
            [
             0,
             "#0d0887"
            ],
            [
             0.1111111111111111,
             "#46039f"
            ],
            [
             0.2222222222222222,
             "#7201a8"
            ],
            [
             0.3333333333333333,
             "#9c179e"
            ],
            [
             0.4444444444444444,
             "#bd3786"
            ],
            [
             0.5555555555555556,
             "#d8576b"
            ],
            [
             0.6666666666666666,
             "#ed7953"
            ],
            [
             0.7777777777777778,
             "#fb9f3a"
            ],
            [
             0.8888888888888888,
             "#fdca26"
            ],
            [
             1,
             "#f0f921"
            ]
           ]
          },
          "colorway": [
           "#636efa",
           "#EF553B",
           "#00cc96",
           "#ab63fa",
           "#FFA15A",
           "#19d3f3",
           "#FF6692",
           "#B6E880",
           "#FF97FF",
           "#FECB52"
          ],
          "font": {
           "color": "#2a3f5f"
          },
          "geo": {
           "bgcolor": "white",
           "lakecolor": "white",
           "landcolor": "#E5ECF6",
           "showlakes": true,
           "showland": true,
           "subunitcolor": "white"
          },
          "hoverlabel": {
           "align": "left"
          },
          "hovermode": "closest",
          "mapbox": {
           "style": "light"
          },
          "paper_bgcolor": "white",
          "plot_bgcolor": "#E5ECF6",
          "polar": {
           "angularaxis": {
            "gridcolor": "white",
            "linecolor": "white",
            "ticks": ""
           },
           "bgcolor": "#E5ECF6",
           "radialaxis": {
            "gridcolor": "white",
            "linecolor": "white",
            "ticks": ""
           }
          },
          "scene": {
           "xaxis": {
            "backgroundcolor": "#E5ECF6",
            "gridcolor": "white",
            "gridwidth": 2,
            "linecolor": "white",
            "showbackground": true,
            "ticks": "",
            "zerolinecolor": "white"
           },
           "yaxis": {
            "backgroundcolor": "#E5ECF6",
            "gridcolor": "white",
            "gridwidth": 2,
            "linecolor": "white",
            "showbackground": true,
            "ticks": "",
            "zerolinecolor": "white"
           },
           "zaxis": {
            "backgroundcolor": "#E5ECF6",
            "gridcolor": "white",
            "gridwidth": 2,
            "linecolor": "white",
            "showbackground": true,
            "ticks": "",
            "zerolinecolor": "white"
           }
          },
          "shapedefaults": {
           "line": {
            "color": "#2a3f5f"
           }
          },
          "ternary": {
           "aaxis": {
            "gridcolor": "white",
            "linecolor": "white",
            "ticks": ""
           },
           "baxis": {
            "gridcolor": "white",
            "linecolor": "white",
            "ticks": ""
           },
           "bgcolor": "#E5ECF6",
           "caxis": {
            "gridcolor": "white",
            "linecolor": "white",
            "ticks": ""
           }
          },
          "title": {
           "x": 0.05
          },
          "xaxis": {
           "automargin": true,
           "gridcolor": "white",
           "linecolor": "white",
           "ticks": "",
           "title": {
            "standoff": 15
           },
           "zerolinecolor": "white",
           "zerolinewidth": 2
          },
          "yaxis": {
           "automargin": true,
           "gridcolor": "white",
           "linecolor": "white",
           "ticks": "",
           "title": {
            "standoff": 15
           },
           "zerolinecolor": "white",
           "zerolinewidth": 2
          }
         }
        },
        "xaxis": {
         "anchor": "y",
         "domain": [
          0,
          1
         ],
         "title": {
          "text": "Marital_Status"
         }
        },
        "yaxis": {
         "anchor": "x",
         "domain": [
          0,
          1
         ],
         "title": {
          "text": "value"
         }
        }
       }
      }
     },
     "metadata": {},
     "output_type": "display_data"
    }
   ],
   "source": [
    "fig = px.bar(group2)\n",
    "fig.update_layout(showlegend=False)\n",
    "fig.show()"
   ]
  },
  {
   "cell_type": "code",
   "execution_count": 57,
   "id": "5e22cb81",
   "metadata": {},
   "outputs": [],
   "source": [
    "labels = [\"18-29\", \"30-39\", \"40-49\", \"50-59\", \"60+\"]"
   ]
  },
  {
   "cell_type": "code",
   "execution_count": 58,
   "id": "97a58692",
   "metadata": {},
   "outputs": [],
   "source": [
    "data[\"AgeGroup\"] = pd.cut(data[\"Age\"], bins=[18, 29, 39, 49, 59, 120], labels=labels)"
   ]
  },
  {
   "cell_type": "code",
   "execution_count": 59,
   "id": "0d3bd8c1",
   "metadata": {},
   "outputs": [
    {
     "name": "stderr",
     "output_type": "stream",
     "text": [
      "C:\\Users\\maryt\\AppData\\Local\\Temp\\ipykernel_21200\\588528920.py:1: FutureWarning:\n",
      "\n",
      "The default of observed=False is deprecated and will be changed to True in a future version of pandas. Pass observed=False to retain current behavior or observed=True to adopt the future default and silence this warning.\n",
      "\n"
     ]
    }
   ],
   "source": [
    "group3 = data.groupby(\"AgeGroup\")[\"Income\"].mean()"
   ]
  },
  {
   "cell_type": "code",
   "execution_count": 60,
   "id": "7330647f",
   "metadata": {},
   "outputs": [
    {
     "data": {
      "application/vnd.plotly.v1+json": {
       "config": {
        "plotlyServerURL": "https://plot.ly"
       },
       "data": [
        {
         "hovertemplate": "variable=Income<br>value=%{x}<br>AgeGroup=%{y}<extra></extra>",
         "legendgroup": "Income",
         "marker": {
          "color": "#636efa",
          "pattern": {
           "shape": ""
          }
         },
         "name": "Income",
         "orientation": "h",
         "showlegend": true,
         "textposition": "auto",
         "type": "bar",
         "x": {
          "bdata": "AAAAAEBoxUDRMbw4L2TnQJkeBs4yd+dApYIBSuql6EAv/kTCKerrQA==",
          "dtype": "f8"
         },
         "xaxis": "x",
         "y": [
          "18-29",
          "30-39",
          "40-49",
          "50-59",
          "60+"
         ],
         "yaxis": "y"
        }
       ],
       "layout": {
        "barmode": "relative",
        "legend": {
         "title": {
          "text": "variable"
         },
         "tracegroupgap": 0
        },
        "showlegend": false,
        "template": {
         "data": {
          "bar": [
           {
            "error_x": {
             "color": "#2a3f5f"
            },
            "error_y": {
             "color": "#2a3f5f"
            },
            "marker": {
             "line": {
              "color": "#E5ECF6",
              "width": 0.5
             },
             "pattern": {
              "fillmode": "overlay",
              "size": 10,
              "solidity": 0.2
             }
            },
            "type": "bar"
           }
          ],
          "barpolar": [
           {
            "marker": {
             "line": {
              "color": "#E5ECF6",
              "width": 0.5
             },
             "pattern": {
              "fillmode": "overlay",
              "size": 10,
              "solidity": 0.2
             }
            },
            "type": "barpolar"
           }
          ],
          "carpet": [
           {
            "aaxis": {
             "endlinecolor": "#2a3f5f",
             "gridcolor": "white",
             "linecolor": "white",
             "minorgridcolor": "white",
             "startlinecolor": "#2a3f5f"
            },
            "baxis": {
             "endlinecolor": "#2a3f5f",
             "gridcolor": "white",
             "linecolor": "white",
             "minorgridcolor": "white",
             "startlinecolor": "#2a3f5f"
            },
            "type": "carpet"
           }
          ],
          "choropleth": [
           {
            "colorbar": {
             "outlinewidth": 0,
             "ticks": ""
            },
            "type": "choropleth"
           }
          ],
          "contour": [
           {
            "colorbar": {
             "outlinewidth": 0,
             "ticks": ""
            },
            "colorscale": [
             [
              0,
              "#0d0887"
             ],
             [
              0.1111111111111111,
              "#46039f"
             ],
             [
              0.2222222222222222,
              "#7201a8"
             ],
             [
              0.3333333333333333,
              "#9c179e"
             ],
             [
              0.4444444444444444,
              "#bd3786"
             ],
             [
              0.5555555555555556,
              "#d8576b"
             ],
             [
              0.6666666666666666,
              "#ed7953"
             ],
             [
              0.7777777777777778,
              "#fb9f3a"
             ],
             [
              0.8888888888888888,
              "#fdca26"
             ],
             [
              1,
              "#f0f921"
             ]
            ],
            "type": "contour"
           }
          ],
          "contourcarpet": [
           {
            "colorbar": {
             "outlinewidth": 0,
             "ticks": ""
            },
            "type": "contourcarpet"
           }
          ],
          "heatmap": [
           {
            "colorbar": {
             "outlinewidth": 0,
             "ticks": ""
            },
            "colorscale": [
             [
              0,
              "#0d0887"
             ],
             [
              0.1111111111111111,
              "#46039f"
             ],
             [
              0.2222222222222222,
              "#7201a8"
             ],
             [
              0.3333333333333333,
              "#9c179e"
             ],
             [
              0.4444444444444444,
              "#bd3786"
             ],
             [
              0.5555555555555556,
              "#d8576b"
             ],
             [
              0.6666666666666666,
              "#ed7953"
             ],
             [
              0.7777777777777778,
              "#fb9f3a"
             ],
             [
              0.8888888888888888,
              "#fdca26"
             ],
             [
              1,
              "#f0f921"
             ]
            ],
            "type": "heatmap"
           }
          ],
          "histogram": [
           {
            "marker": {
             "pattern": {
              "fillmode": "overlay",
              "size": 10,
              "solidity": 0.2
             }
            },
            "type": "histogram"
           }
          ],
          "histogram2d": [
           {
            "colorbar": {
             "outlinewidth": 0,
             "ticks": ""
            },
            "colorscale": [
             [
              0,
              "#0d0887"
             ],
             [
              0.1111111111111111,
              "#46039f"
             ],
             [
              0.2222222222222222,
              "#7201a8"
             ],
             [
              0.3333333333333333,
              "#9c179e"
             ],
             [
              0.4444444444444444,
              "#bd3786"
             ],
             [
              0.5555555555555556,
              "#d8576b"
             ],
             [
              0.6666666666666666,
              "#ed7953"
             ],
             [
              0.7777777777777778,
              "#fb9f3a"
             ],
             [
              0.8888888888888888,
              "#fdca26"
             ],
             [
              1,
              "#f0f921"
             ]
            ],
            "type": "histogram2d"
           }
          ],
          "histogram2dcontour": [
           {
            "colorbar": {
             "outlinewidth": 0,
             "ticks": ""
            },
            "colorscale": [
             [
              0,
              "#0d0887"
             ],
             [
              0.1111111111111111,
              "#46039f"
             ],
             [
              0.2222222222222222,
              "#7201a8"
             ],
             [
              0.3333333333333333,
              "#9c179e"
             ],
             [
              0.4444444444444444,
              "#bd3786"
             ],
             [
              0.5555555555555556,
              "#d8576b"
             ],
             [
              0.6666666666666666,
              "#ed7953"
             ],
             [
              0.7777777777777778,
              "#fb9f3a"
             ],
             [
              0.8888888888888888,
              "#fdca26"
             ],
             [
              1,
              "#f0f921"
             ]
            ],
            "type": "histogram2dcontour"
           }
          ],
          "mesh3d": [
           {
            "colorbar": {
             "outlinewidth": 0,
             "ticks": ""
            },
            "type": "mesh3d"
           }
          ],
          "parcoords": [
           {
            "line": {
             "colorbar": {
              "outlinewidth": 0,
              "ticks": ""
             }
            },
            "type": "parcoords"
           }
          ],
          "pie": [
           {
            "automargin": true,
            "type": "pie"
           }
          ],
          "scatter": [
           {
            "fillpattern": {
             "fillmode": "overlay",
             "size": 10,
             "solidity": 0.2
            },
            "type": "scatter"
           }
          ],
          "scatter3d": [
           {
            "line": {
             "colorbar": {
              "outlinewidth": 0,
              "ticks": ""
             }
            },
            "marker": {
             "colorbar": {
              "outlinewidth": 0,
              "ticks": ""
             }
            },
            "type": "scatter3d"
           }
          ],
          "scattercarpet": [
           {
            "marker": {
             "colorbar": {
              "outlinewidth": 0,
              "ticks": ""
             }
            },
            "type": "scattercarpet"
           }
          ],
          "scattergeo": [
           {
            "marker": {
             "colorbar": {
              "outlinewidth": 0,
              "ticks": ""
             }
            },
            "type": "scattergeo"
           }
          ],
          "scattergl": [
           {
            "marker": {
             "colorbar": {
              "outlinewidth": 0,
              "ticks": ""
             }
            },
            "type": "scattergl"
           }
          ],
          "scattermap": [
           {
            "marker": {
             "colorbar": {
              "outlinewidth": 0,
              "ticks": ""
             }
            },
            "type": "scattermap"
           }
          ],
          "scattermapbox": [
           {
            "marker": {
             "colorbar": {
              "outlinewidth": 0,
              "ticks": ""
             }
            },
            "type": "scattermapbox"
           }
          ],
          "scatterpolar": [
           {
            "marker": {
             "colorbar": {
              "outlinewidth": 0,
              "ticks": ""
             }
            },
            "type": "scatterpolar"
           }
          ],
          "scatterpolargl": [
           {
            "marker": {
             "colorbar": {
              "outlinewidth": 0,
              "ticks": ""
             }
            },
            "type": "scatterpolargl"
           }
          ],
          "scatterternary": [
           {
            "marker": {
             "colorbar": {
              "outlinewidth": 0,
              "ticks": ""
             }
            },
            "type": "scatterternary"
           }
          ],
          "surface": [
           {
            "colorbar": {
             "outlinewidth": 0,
             "ticks": ""
            },
            "colorscale": [
             [
              0,
              "#0d0887"
             ],
             [
              0.1111111111111111,
              "#46039f"
             ],
             [
              0.2222222222222222,
              "#7201a8"
             ],
             [
              0.3333333333333333,
              "#9c179e"
             ],
             [
              0.4444444444444444,
              "#bd3786"
             ],
             [
              0.5555555555555556,
              "#d8576b"
             ],
             [
              0.6666666666666666,
              "#ed7953"
             ],
             [
              0.7777777777777778,
              "#fb9f3a"
             ],
             [
              0.8888888888888888,
              "#fdca26"
             ],
             [
              1,
              "#f0f921"
             ]
            ],
            "type": "surface"
           }
          ],
          "table": [
           {
            "cells": {
             "fill": {
              "color": "#EBF0F8"
             },
             "line": {
              "color": "white"
             }
            },
            "header": {
             "fill": {
              "color": "#C8D4E3"
             },
             "line": {
              "color": "white"
             }
            },
            "type": "table"
           }
          ]
         },
         "layout": {
          "annotationdefaults": {
           "arrowcolor": "#2a3f5f",
           "arrowhead": 0,
           "arrowwidth": 1
          },
          "autotypenumbers": "strict",
          "coloraxis": {
           "colorbar": {
            "outlinewidth": 0,
            "ticks": ""
           }
          },
          "colorscale": {
           "diverging": [
            [
             0,
             "#8e0152"
            ],
            [
             0.1,
             "#c51b7d"
            ],
            [
             0.2,
             "#de77ae"
            ],
            [
             0.3,
             "#f1b6da"
            ],
            [
             0.4,
             "#fde0ef"
            ],
            [
             0.5,
             "#f7f7f7"
            ],
            [
             0.6,
             "#e6f5d0"
            ],
            [
             0.7,
             "#b8e186"
            ],
            [
             0.8,
             "#7fbc41"
            ],
            [
             0.9,
             "#4d9221"
            ],
            [
             1,
             "#276419"
            ]
           ],
           "sequential": [
            [
             0,
             "#0d0887"
            ],
            [
             0.1111111111111111,
             "#46039f"
            ],
            [
             0.2222222222222222,
             "#7201a8"
            ],
            [
             0.3333333333333333,
             "#9c179e"
            ],
            [
             0.4444444444444444,
             "#bd3786"
            ],
            [
             0.5555555555555556,
             "#d8576b"
            ],
            [
             0.6666666666666666,
             "#ed7953"
            ],
            [
             0.7777777777777778,
             "#fb9f3a"
            ],
            [
             0.8888888888888888,
             "#fdca26"
            ],
            [
             1,
             "#f0f921"
            ]
           ],
           "sequentialminus": [
            [
             0,
             "#0d0887"
            ],
            [
             0.1111111111111111,
             "#46039f"
            ],
            [
             0.2222222222222222,
             "#7201a8"
            ],
            [
             0.3333333333333333,
             "#9c179e"
            ],
            [
             0.4444444444444444,
             "#bd3786"
            ],
            [
             0.5555555555555556,
             "#d8576b"
            ],
            [
             0.6666666666666666,
             "#ed7953"
            ],
            [
             0.7777777777777778,
             "#fb9f3a"
            ],
            [
             0.8888888888888888,
             "#fdca26"
            ],
            [
             1,
             "#f0f921"
            ]
           ]
          },
          "colorway": [
           "#636efa",
           "#EF553B",
           "#00cc96",
           "#ab63fa",
           "#FFA15A",
           "#19d3f3",
           "#FF6692",
           "#B6E880",
           "#FF97FF",
           "#FECB52"
          ],
          "font": {
           "color": "#2a3f5f"
          },
          "geo": {
           "bgcolor": "white",
           "lakecolor": "white",
           "landcolor": "#E5ECF6",
           "showlakes": true,
           "showland": true,
           "subunitcolor": "white"
          },
          "hoverlabel": {
           "align": "left"
          },
          "hovermode": "closest",
          "mapbox": {
           "style": "light"
          },
          "paper_bgcolor": "white",
          "plot_bgcolor": "#E5ECF6",
          "polar": {
           "angularaxis": {
            "gridcolor": "white",
            "linecolor": "white",
            "ticks": ""
           },
           "bgcolor": "#E5ECF6",
           "radialaxis": {
            "gridcolor": "white",
            "linecolor": "white",
            "ticks": ""
           }
          },
          "scene": {
           "xaxis": {
            "backgroundcolor": "#E5ECF6",
            "gridcolor": "white",
            "gridwidth": 2,
            "linecolor": "white",
            "showbackground": true,
            "ticks": "",
            "zerolinecolor": "white"
           },
           "yaxis": {
            "backgroundcolor": "#E5ECF6",
            "gridcolor": "white",
            "gridwidth": 2,
            "linecolor": "white",
            "showbackground": true,
            "ticks": "",
            "zerolinecolor": "white"
           },
           "zaxis": {
            "backgroundcolor": "#E5ECF6",
            "gridcolor": "white",
            "gridwidth": 2,
            "linecolor": "white",
            "showbackground": true,
            "ticks": "",
            "zerolinecolor": "white"
           }
          },
          "shapedefaults": {
           "line": {
            "color": "#2a3f5f"
           }
          },
          "ternary": {
           "aaxis": {
            "gridcolor": "white",
            "linecolor": "white",
            "ticks": ""
           },
           "baxis": {
            "gridcolor": "white",
            "linecolor": "white",
            "ticks": ""
           },
           "bgcolor": "#E5ECF6",
           "caxis": {
            "gridcolor": "white",
            "linecolor": "white",
            "ticks": ""
           }
          },
          "title": {
           "x": 0.05
          },
          "xaxis": {
           "automargin": true,
           "gridcolor": "white",
           "linecolor": "white",
           "ticks": "",
           "title": {
            "standoff": 15
           },
           "zerolinecolor": "white",
           "zerolinewidth": 2
          },
          "yaxis": {
           "automargin": true,
           "gridcolor": "white",
           "linecolor": "white",
           "ticks": "",
           "title": {
            "standoff": 15
           },
           "zerolinecolor": "white",
           "zerolinewidth": 2
          }
         }
        },
        "title": {
         "text": "Average Income by Age Group"
        },
        "xaxis": {
         "anchor": "y",
         "domain": [
          0,
          1
         ],
         "title": {
          "text": "value"
         }
        },
        "yaxis": {
         "anchor": "x",
         "domain": [
          0,
          1
         ],
         "title": {
          "text": "AgeGroup"
         }
        }
       }
      }
     },
     "metadata": {},
     "output_type": "display_data"
    }
   ],
   "source": [
    "fig = px.bar(group3, title=\"Average Income by Age Group\", orientation='h')\n",
    "fig.update_layout(showlegend=False)\n",
    "fig.show()"
   ]
  },
  {
   "cell_type": "markdown",
   "id": "488b6749",
   "metadata": {},
   "source": [
    "### Feature selection"
   ]
  },
  {
   "cell_type": "markdown",
   "id": "907b6ba1",
   "metadata": {},
   "source": [
    "For this task I would like to choose **Age, Income, Total Spendings, Number of Web Purchases, Number of Store Purchases, Number of Web Visits and Recency** as main features"
   ]
  },
  {
   "cell_type": "code",
   "execution_count": 61,
   "id": "f89cfe7f",
   "metadata": {},
   "outputs": [],
   "source": [
    "features = [\"Income\", \"Age\", \"Recency\", \"Total_spending\", \"NumWebPurchases\", \"NumStorePurchases\", \"NumWebVisitsMonth\"]"
   ]
  },
  {
   "cell_type": "code",
   "execution_count": 62,
   "id": "8702af3e",
   "metadata": {},
   "outputs": [],
   "source": [
    "X = data[features]"
   ]
  },
  {
   "cell_type": "code",
   "execution_count": 67,
   "id": "0fcd3d46",
   "metadata": {},
   "outputs": [],
   "source": [
    "from sklearn.preprocessing import StandardScaler\n",
    "\n",
    "scaler = StandardScaler()"
   ]
  },
  {
   "cell_type": "code",
   "execution_count": 68,
   "id": "f26bc533",
   "metadata": {},
   "outputs": [],
   "source": [
    "X_scaled = scaler.fit_transform(X)"
   ]
  },
  {
   "cell_type": "markdown",
   "id": "98b822b8",
   "metadata": {},
   "source": [
    "### KMeans"
   ]
  },
  {
   "cell_type": "code",
   "execution_count": 69,
   "id": "98d4e3c1",
   "metadata": {},
   "outputs": [],
   "source": [
    "from sklearn.cluster import KMeans"
   ]
  },
  {
   "cell_type": "markdown",
   "id": "ae8f4f2a",
   "metadata": {},
   "source": [
    "Using the **Elbow Method** to find the best k for KMeans algorithm"
   ]
  },
  {
   "cell_type": "code",
   "execution_count": 96,
   "id": "79328886",
   "metadata": {},
   "outputs": [],
   "source": [
    "wcss = []\n",
    "\n",
    "for i in range(2, 14):\n",
    "    kmeans = KMeans(n_clusters=i)\n",
    "    kmeans.fit(X_scaled)\n",
    "    wcss.append(kmeans.inertia_)"
   ]
  },
  {
   "cell_type": "code",
   "execution_count": 97,
   "id": "5a151a3b",
   "metadata": {},
   "outputs": [
    {
     "data": {
      "application/vnd.plotly.v1+json": {
       "config": {
        "plotlyServerURL": "https://plot.ly"
       },
       "data": [
        {
         "hovertemplate": "x=%{x}<br>y=%{y}<extra></extra>",
         "legendgroup": "",
         "line": {
          "color": "#636efa",
          "dash": "solid"
         },
         "marker": {
          "symbol": "circle"
         },
         "mode": "lines+markers",
         "name": "",
         "orientation": "v",
         "showlegend": false,
         "type": "scatter",
         "x": {
          "bdata": "AgMEBQYHCAkKCwwN",
          "dtype": "i1"
         },
         "xaxis": "x",
         "y": {
          "bdata": "0mSg2/Tqw0CvJdbiYCLCQKnCoeeIy79AmurslmPevUBm4rzzbJC7QEU54PachbpA3Y37MhsfuUCZANHBiRi3QJSGsqua0LVAF0jAOkIPtUDqfQQ/CIG0QDn1wLfoA7RA",
          "dtype": "f8"
         },
         "yaxis": "y"
        }
       ],
       "layout": {
        "legend": {
         "tracegroupgap": 0
        },
        "template": {
         "data": {
          "bar": [
           {
            "error_x": {
             "color": "#2a3f5f"
            },
            "error_y": {
             "color": "#2a3f5f"
            },
            "marker": {
             "line": {
              "color": "#E5ECF6",
              "width": 0.5
             },
             "pattern": {
              "fillmode": "overlay",
              "size": 10,
              "solidity": 0.2
             }
            },
            "type": "bar"
           }
          ],
          "barpolar": [
           {
            "marker": {
             "line": {
              "color": "#E5ECF6",
              "width": 0.5
             },
             "pattern": {
              "fillmode": "overlay",
              "size": 10,
              "solidity": 0.2
             }
            },
            "type": "barpolar"
           }
          ],
          "carpet": [
           {
            "aaxis": {
             "endlinecolor": "#2a3f5f",
             "gridcolor": "white",
             "linecolor": "white",
             "minorgridcolor": "white",
             "startlinecolor": "#2a3f5f"
            },
            "baxis": {
             "endlinecolor": "#2a3f5f",
             "gridcolor": "white",
             "linecolor": "white",
             "minorgridcolor": "white",
             "startlinecolor": "#2a3f5f"
            },
            "type": "carpet"
           }
          ],
          "choropleth": [
           {
            "colorbar": {
             "outlinewidth": 0,
             "ticks": ""
            },
            "type": "choropleth"
           }
          ],
          "contour": [
           {
            "colorbar": {
             "outlinewidth": 0,
             "ticks": ""
            },
            "colorscale": [
             [
              0,
              "#0d0887"
             ],
             [
              0.1111111111111111,
              "#46039f"
             ],
             [
              0.2222222222222222,
              "#7201a8"
             ],
             [
              0.3333333333333333,
              "#9c179e"
             ],
             [
              0.4444444444444444,
              "#bd3786"
             ],
             [
              0.5555555555555556,
              "#d8576b"
             ],
             [
              0.6666666666666666,
              "#ed7953"
             ],
             [
              0.7777777777777778,
              "#fb9f3a"
             ],
             [
              0.8888888888888888,
              "#fdca26"
             ],
             [
              1,
              "#f0f921"
             ]
            ],
            "type": "contour"
           }
          ],
          "contourcarpet": [
           {
            "colorbar": {
             "outlinewidth": 0,
             "ticks": ""
            },
            "type": "contourcarpet"
           }
          ],
          "heatmap": [
           {
            "colorbar": {
             "outlinewidth": 0,
             "ticks": ""
            },
            "colorscale": [
             [
              0,
              "#0d0887"
             ],
             [
              0.1111111111111111,
              "#46039f"
             ],
             [
              0.2222222222222222,
              "#7201a8"
             ],
             [
              0.3333333333333333,
              "#9c179e"
             ],
             [
              0.4444444444444444,
              "#bd3786"
             ],
             [
              0.5555555555555556,
              "#d8576b"
             ],
             [
              0.6666666666666666,
              "#ed7953"
             ],
             [
              0.7777777777777778,
              "#fb9f3a"
             ],
             [
              0.8888888888888888,
              "#fdca26"
             ],
             [
              1,
              "#f0f921"
             ]
            ],
            "type": "heatmap"
           }
          ],
          "histogram": [
           {
            "marker": {
             "pattern": {
              "fillmode": "overlay",
              "size": 10,
              "solidity": 0.2
             }
            },
            "type": "histogram"
           }
          ],
          "histogram2d": [
           {
            "colorbar": {
             "outlinewidth": 0,
             "ticks": ""
            },
            "colorscale": [
             [
              0,
              "#0d0887"
             ],
             [
              0.1111111111111111,
              "#46039f"
             ],
             [
              0.2222222222222222,
              "#7201a8"
             ],
             [
              0.3333333333333333,
              "#9c179e"
             ],
             [
              0.4444444444444444,
              "#bd3786"
             ],
             [
              0.5555555555555556,
              "#d8576b"
             ],
             [
              0.6666666666666666,
              "#ed7953"
             ],
             [
              0.7777777777777778,
              "#fb9f3a"
             ],
             [
              0.8888888888888888,
              "#fdca26"
             ],
             [
              1,
              "#f0f921"
             ]
            ],
            "type": "histogram2d"
           }
          ],
          "histogram2dcontour": [
           {
            "colorbar": {
             "outlinewidth": 0,
             "ticks": ""
            },
            "colorscale": [
             [
              0,
              "#0d0887"
             ],
             [
              0.1111111111111111,
              "#46039f"
             ],
             [
              0.2222222222222222,
              "#7201a8"
             ],
             [
              0.3333333333333333,
              "#9c179e"
             ],
             [
              0.4444444444444444,
              "#bd3786"
             ],
             [
              0.5555555555555556,
              "#d8576b"
             ],
             [
              0.6666666666666666,
              "#ed7953"
             ],
             [
              0.7777777777777778,
              "#fb9f3a"
             ],
             [
              0.8888888888888888,
              "#fdca26"
             ],
             [
              1,
              "#f0f921"
             ]
            ],
            "type": "histogram2dcontour"
           }
          ],
          "mesh3d": [
           {
            "colorbar": {
             "outlinewidth": 0,
             "ticks": ""
            },
            "type": "mesh3d"
           }
          ],
          "parcoords": [
           {
            "line": {
             "colorbar": {
              "outlinewidth": 0,
              "ticks": ""
             }
            },
            "type": "parcoords"
           }
          ],
          "pie": [
           {
            "automargin": true,
            "type": "pie"
           }
          ],
          "scatter": [
           {
            "fillpattern": {
             "fillmode": "overlay",
             "size": 10,
             "solidity": 0.2
            },
            "type": "scatter"
           }
          ],
          "scatter3d": [
           {
            "line": {
             "colorbar": {
              "outlinewidth": 0,
              "ticks": ""
             }
            },
            "marker": {
             "colorbar": {
              "outlinewidth": 0,
              "ticks": ""
             }
            },
            "type": "scatter3d"
           }
          ],
          "scattercarpet": [
           {
            "marker": {
             "colorbar": {
              "outlinewidth": 0,
              "ticks": ""
             }
            },
            "type": "scattercarpet"
           }
          ],
          "scattergeo": [
           {
            "marker": {
             "colorbar": {
              "outlinewidth": 0,
              "ticks": ""
             }
            },
            "type": "scattergeo"
           }
          ],
          "scattergl": [
           {
            "marker": {
             "colorbar": {
              "outlinewidth": 0,
              "ticks": ""
             }
            },
            "type": "scattergl"
           }
          ],
          "scattermap": [
           {
            "marker": {
             "colorbar": {
              "outlinewidth": 0,
              "ticks": ""
             }
            },
            "type": "scattermap"
           }
          ],
          "scattermapbox": [
           {
            "marker": {
             "colorbar": {
              "outlinewidth": 0,
              "ticks": ""
             }
            },
            "type": "scattermapbox"
           }
          ],
          "scatterpolar": [
           {
            "marker": {
             "colorbar": {
              "outlinewidth": 0,
              "ticks": ""
             }
            },
            "type": "scatterpolar"
           }
          ],
          "scatterpolargl": [
           {
            "marker": {
             "colorbar": {
              "outlinewidth": 0,
              "ticks": ""
             }
            },
            "type": "scatterpolargl"
           }
          ],
          "scatterternary": [
           {
            "marker": {
             "colorbar": {
              "outlinewidth": 0,
              "ticks": ""
             }
            },
            "type": "scatterternary"
           }
          ],
          "surface": [
           {
            "colorbar": {
             "outlinewidth": 0,
             "ticks": ""
            },
            "colorscale": [
             [
              0,
              "#0d0887"
             ],
             [
              0.1111111111111111,
              "#46039f"
             ],
             [
              0.2222222222222222,
              "#7201a8"
             ],
             [
              0.3333333333333333,
              "#9c179e"
             ],
             [
              0.4444444444444444,
              "#bd3786"
             ],
             [
              0.5555555555555556,
              "#d8576b"
             ],
             [
              0.6666666666666666,
              "#ed7953"
             ],
             [
              0.7777777777777778,
              "#fb9f3a"
             ],
             [
              0.8888888888888888,
              "#fdca26"
             ],
             [
              1,
              "#f0f921"
             ]
            ],
            "type": "surface"
           }
          ],
          "table": [
           {
            "cells": {
             "fill": {
              "color": "#EBF0F8"
             },
             "line": {
              "color": "white"
             }
            },
            "header": {
             "fill": {
              "color": "#C8D4E3"
             },
             "line": {
              "color": "white"
             }
            },
            "type": "table"
           }
          ]
         },
         "layout": {
          "annotationdefaults": {
           "arrowcolor": "#2a3f5f",
           "arrowhead": 0,
           "arrowwidth": 1
          },
          "autotypenumbers": "strict",
          "coloraxis": {
           "colorbar": {
            "outlinewidth": 0,
            "ticks": ""
           }
          },
          "colorscale": {
           "diverging": [
            [
             0,
             "#8e0152"
            ],
            [
             0.1,
             "#c51b7d"
            ],
            [
             0.2,
             "#de77ae"
            ],
            [
             0.3,
             "#f1b6da"
            ],
            [
             0.4,
             "#fde0ef"
            ],
            [
             0.5,
             "#f7f7f7"
            ],
            [
             0.6,
             "#e6f5d0"
            ],
            [
             0.7,
             "#b8e186"
            ],
            [
             0.8,
             "#7fbc41"
            ],
            [
             0.9,
             "#4d9221"
            ],
            [
             1,
             "#276419"
            ]
           ],
           "sequential": [
            [
             0,
             "#0d0887"
            ],
            [
             0.1111111111111111,
             "#46039f"
            ],
            [
             0.2222222222222222,
             "#7201a8"
            ],
            [
             0.3333333333333333,
             "#9c179e"
            ],
            [
             0.4444444444444444,
             "#bd3786"
            ],
            [
             0.5555555555555556,
             "#d8576b"
            ],
            [
             0.6666666666666666,
             "#ed7953"
            ],
            [
             0.7777777777777778,
             "#fb9f3a"
            ],
            [
             0.8888888888888888,
             "#fdca26"
            ],
            [
             1,
             "#f0f921"
            ]
           ],
           "sequentialminus": [
            [
             0,
             "#0d0887"
            ],
            [
             0.1111111111111111,
             "#46039f"
            ],
            [
             0.2222222222222222,
             "#7201a8"
            ],
            [
             0.3333333333333333,
             "#9c179e"
            ],
            [
             0.4444444444444444,
             "#bd3786"
            ],
            [
             0.5555555555555556,
             "#d8576b"
            ],
            [
             0.6666666666666666,
             "#ed7953"
            ],
            [
             0.7777777777777778,
             "#fb9f3a"
            ],
            [
             0.8888888888888888,
             "#fdca26"
            ],
            [
             1,
             "#f0f921"
            ]
           ]
          },
          "colorway": [
           "#636efa",
           "#EF553B",
           "#00cc96",
           "#ab63fa",
           "#FFA15A",
           "#19d3f3",
           "#FF6692",
           "#B6E880",
           "#FF97FF",
           "#FECB52"
          ],
          "font": {
           "color": "#2a3f5f"
          },
          "geo": {
           "bgcolor": "white",
           "lakecolor": "white",
           "landcolor": "#E5ECF6",
           "showlakes": true,
           "showland": true,
           "subunitcolor": "white"
          },
          "hoverlabel": {
           "align": "left"
          },
          "hovermode": "closest",
          "mapbox": {
           "style": "light"
          },
          "paper_bgcolor": "white",
          "plot_bgcolor": "#E5ECF6",
          "polar": {
           "angularaxis": {
            "gridcolor": "white",
            "linecolor": "white",
            "ticks": ""
           },
           "bgcolor": "#E5ECF6",
           "radialaxis": {
            "gridcolor": "white",
            "linecolor": "white",
            "ticks": ""
           }
          },
          "scene": {
           "xaxis": {
            "backgroundcolor": "#E5ECF6",
            "gridcolor": "white",
            "gridwidth": 2,
            "linecolor": "white",
            "showbackground": true,
            "ticks": "",
            "zerolinecolor": "white"
           },
           "yaxis": {
            "backgroundcolor": "#E5ECF6",
            "gridcolor": "white",
            "gridwidth": 2,
            "linecolor": "white",
            "showbackground": true,
            "ticks": "",
            "zerolinecolor": "white"
           },
           "zaxis": {
            "backgroundcolor": "#E5ECF6",
            "gridcolor": "white",
            "gridwidth": 2,
            "linecolor": "white",
            "showbackground": true,
            "ticks": "",
            "zerolinecolor": "white"
           }
          },
          "shapedefaults": {
           "line": {
            "color": "#2a3f5f"
           }
          },
          "ternary": {
           "aaxis": {
            "gridcolor": "white",
            "linecolor": "white",
            "ticks": ""
           },
           "baxis": {
            "gridcolor": "white",
            "linecolor": "white",
            "ticks": ""
           },
           "bgcolor": "#E5ECF6",
           "caxis": {
            "gridcolor": "white",
            "linecolor": "white",
            "ticks": ""
           }
          },
          "title": {
           "x": 0.05
          },
          "xaxis": {
           "automargin": true,
           "gridcolor": "white",
           "linecolor": "white",
           "ticks": "",
           "title": {
            "standoff": 15
           },
           "zerolinecolor": "white",
           "zerolinewidth": 2
          },
          "yaxis": {
           "automargin": true,
           "gridcolor": "white",
           "linecolor": "white",
           "ticks": "",
           "title": {
            "standoff": 15
           },
           "zerolinecolor": "white",
           "zerolinewidth": 2
          }
         }
        },
        "title": {
         "text": "Elbow Method"
        },
        "xaxis": {
         "anchor": "y",
         "domain": [
          0,
          1
         ],
         "title": {
          "text": "x"
         }
        },
        "yaxis": {
         "anchor": "x",
         "domain": [
          0,
          1
         ],
         "title": {
          "text": "y"
         }
        }
       }
      }
     },
     "metadata": {},
     "output_type": "display_data"
    }
   ],
   "source": [
    "px.line(x=range(2, 14), y=wcss, markers=True, title=\"Elbow Method\").show()"
   ]
  },
  {
   "cell_type": "code",
   "execution_count": 98,
   "id": "1fcf6a9b",
   "metadata": {},
   "outputs": [],
   "source": [
    "kmeans = KMeans(n_clusters=6)\n",
    "data[\"Cluster\"] = kmeans.fit_predict(X_scaled)"
   ]
  },
  {
   "cell_type": "code",
   "execution_count": 99,
   "id": "c684bfe5",
   "metadata": {},
   "outputs": [],
   "source": [
    "cluster_summary = data.groupby(\"Cluster\")[features].mean()"
   ]
  },
  {
   "cell_type": "code",
   "execution_count": 100,
   "id": "d3c5ef68",
   "metadata": {},
   "outputs": [
    {
     "data": {
      "text/plain": [
       "Cluster\n",
       "4    516\n",
       "0    487\n",
       "2    314\n",
       "1    306\n",
       "5    296\n",
       "3    294\n",
       "Name: count, dtype: int64"
      ]
     },
     "execution_count": 100,
     "metadata": {},
     "output_type": "execute_result"
    }
   ],
   "source": [
    "data[\"Cluster\"].value_counts()"
   ]
  },
  {
   "cell_type": "code",
   "execution_count": 101,
   "id": "1d0268ce",
   "metadata": {},
   "outputs": [],
   "source": [
    "from sklearn.decomposition import PCA\n",
    "pca = PCA(n_components=2)\n",
    "X_pca = pca.fit_transform(X_scaled)\n",
    "data[\"PCA1\"], data[\"PCA2\"] = X_pca[:, 0], X_pca[:, 1]"
   ]
  },
  {
   "cell_type": "code",
   "execution_count": 102,
   "id": "b4efb610",
   "metadata": {},
   "outputs": [
    {
     "data": {
      "application/vnd.plotly.v1+json": {
       "config": {
        "plotlyServerURL": "https://plot.ly"
       },
       "data": [
        {
         "hovertemplate": "PCA1=%{x}<br>PCA2=%{y}<br>Cluster=%{marker.color}<extra></extra>",
         "legendgroup": "",
         "marker": {
          "color": {
           "bdata": "AwAAAAQAAAAFAAAABAAAAAMAAAAFAAAABQAAAAQAAAAEAAAAAAAAAAAAAAACAAAAAwAAAAQAAAACAAAAAAAAAAMAAAAFAAAAAAAAAAQAAAAEAAAAAwAAAAIAAAADAAAAAAAAAAQAAAAEAAAAAQAAAAQAAAAAAAAABAAAAAMAAAACAAAAAAAAAAEAAAAAAAAAAAAAAAMAAAAFAAAAAAAAAAQAAAAEAAAAAQAAAAQAAAAAAAAABQAAAAIAAAACAAAAAAAAAAEAAAABAAAAAgAAAAIAAAAEAAAAAwAAAAEAAAABAAAABQAAAAUAAAACAAAAAAAAAAQAAAAFAAAAAgAAAAEAAAACAAAABQAAAAMAAAAAAAAAAAAAAAUAAAABAAAABAAAAAUAAAAAAAAABAAAAAAAAAAAAAAAAQAAAAAAAAAEAAAAAwAAAAEAAAAAAAAAAAAAAAAAAAAEAAAAAwAAAAQAAAACAAAABAAAAAQAAAAEAAAABQAAAAIAAAACAAAAAAAAAAQAAAAFAAAABAAAAAIAAAABAAAABQAAAAUAAAABAAAABAAAAAQAAAABAAAAAwAAAAAAAAAEAAAAAgAAAAQAAAAAAAAAAAAAAAEAAAACAAAAAQAAAAMAAAACAAAAAwAAAAUAAAAFAAAAAwAAAAIAAAAEAAAAAAAAAAQAAAAAAAAAAQAAAAQAAAACAAAABQAAAAQAAAAEAAAABAAAAAAAAAAAAAAAAAAAAAIAAAADAAAAAwAAAAQAAAAFAAAABQAAAAMAAAAEAAAABAAAAAIAAAAEAAAABQAAAAAAAAABAAAAAQAAAAAAAAACAAAAAwAAAAEAAAAAAAAAAAAAAAAAAAAEAAAABAAAAAAAAAAFAAAAAgAAAAAAAAAAAAAAAgAAAAAAAAAAAAAAAgAAAAQAAAAAAAAABAAAAAAAAAAFAAAAAQAAAAQAAAAAAAAAAQAAAAAAAAADAAAABAAAAAEAAAACAAAAAgAAAAAAAAADAAAAAQAAAAUAAAABAAAAAAAAAAQAAAAAAAAAAwAAAAAAAAAFAAAABAAAAAIAAAADAAAABQAAAAEAAAADAAAABAAAAAIAAAADAAAABQAAAAAAAAABAAAABQAAAAQAAAAFAAAABAAAAAMAAAADAAAAAQAAAAAAAAADAAAABQAAAAAAAAAEAAAABQAAAAAAAAAEAAAAAgAAAAAAAAABAAAAAwAAAAAAAAABAAAABQAAAAQAAAABAAAAAwAAAAEAAAAFAAAAAAAAAAAAAAABAAAAAAAAAAMAAAAEAAAAAwAAAAMAAAAAAAAABAAAAAAAAAAFAAAAAAAAAAQAAAAEAAAABAAAAAIAAAAAAAAAAQAAAAQAAAACAAAABAAAAAQAAAAAAAAABAAAAAIAAAAFAAAAAQAAAAEAAAAFAAAABAAAAAMAAAADAAAAAQAAAAQAAAAAAAAAAgAAAAMAAAACAAAAAwAAAAQAAAAAAAAAAQAAAAAAAAAEAAAAAwAAAAQAAAAEAAAAAQAAAAUAAAAAAAAABQAAAAAAAAAEAAAAAAAAAAIAAAAAAAAAAgAAAAMAAAAEAAAAAAAAAAQAAAABAAAABAAAAAAAAAAAAAAAAQAAAAQAAAABAAAAAAAAAAQAAAAFAAAAAwAAAAIAAAAEAAAABAAAAAQAAAAEAAAAAAAAAAQAAAADAAAABAAAAAAAAAACAAAABQAAAAQAAAACAAAAAQAAAAQAAAAFAAAAAgAAAAQAAAACAAAAAAAAAAEAAAAEAAAAAAAAAAIAAAABAAAAAgAAAAEAAAAFAAAABAAAAAAAAAABAAAAAgAAAAMAAAACAAAABQAAAAAAAAAEAAAAAwAAAAMAAAACAAAAAAAAAAIAAAADAAAAAAAAAAAAAAAAAAAABQAAAAQAAAAAAAAABAAAAAQAAAACAAAAAAAAAAQAAAAAAAAABAAAAAAAAAAEAAAABAAAAAQAAAACAAAAAAAAAAEAAAABAAAABAAAAAEAAAADAAAAAQAAAAEAAAAEAAAAAAAAAAAAAAAAAAAAAAAAAAUAAAAAAAAABAAAAAMAAAAAAAAABAAAAAQAAAAEAAAABQAAAAAAAAABAAAABQAAAAAAAAACAAAAAgAAAAQAAAABAAAAAQAAAAUAAAAEAAAABAAAAAAAAAABAAAAAgAAAAQAAAABAAAAAQAAAAAAAAAFAAAAAgAAAAUAAAAFAAAABQAAAAQAAAAAAAAABQAAAAMAAAAAAAAAAAAAAAAAAAADAAAABAAAAAQAAAAAAAAAAAAAAAAAAAACAAAABAAAAAIAAAACAAAABQAAAAQAAAABAAAABQAAAAMAAAABAAAAAAAAAAIAAAABAAAABAAAAAIAAAAEAAAAAgAAAAQAAAABAAAAAgAAAAQAAAADAAAABQAAAAEAAAAEAAAABQAAAAAAAAAAAAAABQAAAAAAAAAFAAAAAwAAAAMAAAAAAAAAAAAAAAQAAAAEAAAAAgAAAAIAAAAEAAAAAwAAAAQAAAAAAAAAAgAAAAMAAAACAAAAAAAAAAMAAAADAAAABAAAAAEAAAACAAAAAgAAAAAAAAAEAAAABAAAAAEAAAAAAAAABQAAAAEAAAABAAAAAAAAAAIAAAAAAAAABQAAAAMAAAACAAAAAwAAAAEAAAAEAAAAAAAAAAIAAAACAAAAAAAAAAEAAAAEAAAAAgAAAAQAAAAAAAAAAgAAAAEAAAAFAAAAAwAAAAMAAAABAAAAAwAAAAMAAAAAAAAAAwAAAAQAAAAFAAAAAgAAAAAAAAAEAAAABAAAAAQAAAABAAAAAQAAAAAAAAACAAAAAAAAAAAAAAAEAAAAAAAAAAQAAAADAAAAAAAAAAIAAAADAAAABQAAAAEAAAAEAAAAAgAAAAQAAAABAAAABQAAAAUAAAAEAAAAAwAAAAMAAAAAAAAABAAAAAQAAAAEAAAAAAAAAAQAAAADAAAAAAAAAAUAAAAEAAAAAAAAAAQAAAADAAAAAAAAAAMAAAAAAAAAAAAAAAAAAAAEAAAAAgAAAAIAAAAFAAAAAAAAAAQAAAABAAAAAgAAAAQAAAABAAAABAAAAAAAAAAEAAAABAAAAAAAAAAEAAAAAgAAAAIAAAACAAAAAAAAAAQAAAAAAAAAAAAAAAQAAAACAAAAAAAAAAMAAAAEAAAABAAAAAUAAAADAAAAAAAAAAEAAAAEAAAABAAAAAMAAAAAAAAAAgAAAAAAAAACAAAAAAAAAAEAAAAFAAAAAAAAAAAAAAAFAAAAAgAAAAUAAAAEAAAAAQAAAAQAAAAFAAAABAAAAAUAAAABAAAAAgAAAAIAAAAFAAAABAAAAAIAAAAAAAAABQAAAAQAAAAFAAAABQAAAAIAAAAEAAAABQAAAAAAAAADAAAAAQAAAAMAAAAAAAAABQAAAAAAAAADAAAAAAAAAAEAAAAEAAAAAAAAAAAAAAAEAAAABAAAAAQAAAAAAAAABQAAAAMAAAABAAAAAQAAAAMAAAAEAAAABQAAAAEAAAAEAAAAAQAAAAMAAAAFAAAABQAAAAMAAAACAAAAAQAAAAEAAAABAAAAAQAAAAIAAAADAAAAAQAAAAAAAAAEAAAABAAAAAAAAAAAAAAABAAAAAMAAAAFAAAAAwAAAAUAAAAFAAAAAQAAAAQAAAABAAAABAAAAAMAAAADAAAABAAAAAQAAAAFAAAABAAAAAIAAAAAAAAAAQAAAAIAAAAEAAAABQAAAAQAAAACAAAAAwAAAAQAAAACAAAABAAAAAAAAAACAAAAAQAAAAMAAAAFAAAABAAAAAMAAAABAAAAAwAAAAEAAAACAAAAAQAAAAIAAAAEAAAABQAAAAUAAAAEAAAAAAAAAAAAAAACAAAAAgAAAAQAAAABAAAABAAAAAUAAAABAAAAAgAAAAEAAAAFAAAAAQAAAAUAAAAFAAAAAwAAAAQAAAAAAAAABAAAAAUAAAABAAAABAAAAAIAAAADAAAAAQAAAAUAAAAAAAAAAwAAAAEAAAACAAAABQAAAAQAAAAAAAAAAAAAAAAAAAACAAAAAAAAAAEAAAABAAAABAAAAAQAAAAEAAAABAAAAAQAAAAAAAAAAwAAAAUAAAADAAAAAgAAAAIAAAAAAAAABAAAAAAAAAADAAAAAwAAAAUAAAABAAAABAAAAAMAAAAAAAAAAAAAAAIAAAADAAAAAwAAAAAAAAACAAAAAwAAAAEAAAAEAAAABAAAAAEAAAACAAAAAQAAAAIAAAAAAAAAAwAAAAUAAAAEAAAAAQAAAAQAAAAFAAAAAAAAAAIAAAAFAAAAAgAAAAAAAAACAAAABAAAAAAAAAABAAAAAwAAAAQAAAAAAAAAAgAAAAMAAAABAAAABAAAAAUAAAAEAAAAAAAAAAQAAAAAAAAAAgAAAAEAAAABAAAAAwAAAAAAAAAAAAAABAAAAAIAAAACAAAABAAAAAUAAAAFAAAABAAAAAEAAAAAAAAAAQAAAAAAAAADAAAAAAAAAAAAAAADAAAAAwAAAAQAAAAAAAAAAQAAAAAAAAABAAAAAgAAAAAAAAAEAAAAAQAAAAIAAAADAAAABAAAAAIAAAAAAAAABAAAAAQAAAAAAAAAAAAAAAEAAAABAAAAAwAAAAQAAAADAAAAAQAAAAAAAAADAAAAAQAAAAAAAAADAAAAAwAAAAMAAAAFAAAAAwAAAAQAAAACAAAABAAAAAIAAAAEAAAABAAAAAEAAAACAAAABAAAAAAAAAAEAAAAAgAAAAEAAAAFAAAABAAAAAEAAAACAAAAAgAAAAEAAAACAAAAAgAAAAQAAAABAAAAAAAAAAAAAAAFAAAAAAAAAAEAAAABAAAAAQAAAAEAAAABAAAAAAAAAAUAAAAAAAAAAgAAAAAAAAAFAAAABQAAAAUAAAAFAAAAAwAAAAMAAAABAAAAAgAAAAAAAAAFAAAAAQAAAAEAAAAAAAAABQAAAAAAAAAEAAAABAAAAAAAAAAAAAAAAAAAAAMAAAADAAAABAAAAAMAAAACAAAAAwAAAAQAAAAAAAAABAAAAAIAAAABAAAABAAAAAAAAAAFAAAAAQAAAAQAAAAEAAAAAwAAAAEAAAACAAAAAgAAAAMAAAAAAAAAAwAAAAAAAAAEAAAAAAAAAAUAAAACAAAAAQAAAAEAAAAFAAAAAQAAAAQAAAACAAAABAAAAAUAAAABAAAAAgAAAAAAAAAFAAAAAAAAAAUAAAADAAAAAwAAAAEAAAAFAAAABAAAAAMAAAADAAAAAgAAAAIAAAAAAAAAAAAAAAUAAAAAAAAAAAAAAAQAAAAEAAAAAgAAAAIAAAACAAAABAAAAAQAAAAAAAAAAAAAAAMAAAAAAAAAAAAAAAUAAAAAAAAAAAAAAAQAAAAFAAAABQAAAAEAAAACAAAAAAAAAAEAAAAAAAAABAAAAAQAAAAEAAAAAwAAAAIAAAAAAAAAAAAAAAIAAAAEAAAABAAAAAAAAAAFAAAAAAAAAAMAAAACAAAABAAAAAIAAAAEAAAAAAAAAAEAAAAAAAAAAwAAAAIAAAABAAAABQAAAAUAAAAFAAAABAAAAAIAAAAEAAAAAQAAAAUAAAAAAAAAAQAAAAAAAAACAAAAAwAAAAAAAAADAAAAAgAAAAEAAAAEAAAABAAAAAAAAAACAAAABAAAAAIAAAAAAAAAAQAAAAUAAAAEAAAAAwAAAAAAAAACAAAAAQAAAAAAAAACAAAABAAAAAQAAAABAAAAAgAAAAEAAAAEAAAAAQAAAAEAAAAEAAAAAAAAAAMAAAAEAAAAAgAAAAQAAAAEAAAABQAAAAMAAAACAAAABQAAAAAAAAACAAAAAAAAAAEAAAAEAAAABAAAAAAAAAADAAAABQAAAAQAAAAAAAAABAAAAAMAAAADAAAAAwAAAAAAAAAAAAAAAgAAAAMAAAAAAAAABAAAAAEAAAABAAAAAwAAAAAAAAACAAAABAAAAAMAAAACAAAAAAAAAAAAAAAAAAAAAgAAAAAAAAAEAAAABQAAAAMAAAAEAAAABQAAAAUAAAAAAAAAAQAAAAIAAAAAAAAABQAAAAMAAAACAAAAAgAAAAMAAAAFAAAAAwAAAAEAAAAEAAAAAQAAAAQAAAAEAAAAAgAAAAEAAAAAAAAAAAAAAAUAAAADAAAAAAAAAAAAAAAEAAAAAQAAAAAAAAABAAAAAwAAAAMAAAADAAAAAAAAAAQAAAAAAAAAAAAAAAIAAAAEAAAABAAAAAEAAAABAAAAAAAAAAMAAAAAAAAABQAAAAAAAAAFAAAAAQAAAAUAAAAEAAAAAwAAAAMAAAAAAAAAAgAAAAMAAAABAAAABAAAAAAAAAAAAAAAAwAAAAIAAAAFAAAAAQAAAAMAAAAEAAAAAgAAAAAAAAABAAAAAAAAAAQAAAAAAAAAAgAAAAQAAAAAAAAAAgAAAAUAAAAEAAAAAwAAAAAAAAADAAAAAAAAAAQAAAAAAAAABAAAAAUAAAAAAAAAAQAAAAAAAAADAAAABAAAAAAAAAACAAAAAgAAAAAAAAAAAAAAAAAAAAAAAAAAAAAABQAAAAIAAAACAAAABQAAAAMAAAADAAAAAwAAAAMAAAABAAAABAAAAAEAAAAEAAAAAQAAAAEAAAAEAAAABAAAAAEAAAAFAAAAAAAAAAQAAAACAAAAAgAAAAIAAAAEAAAABQAAAAAAAAAFAAAABAAAAAAAAAABAAAAAwAAAAEAAAAFAAAAAAAAAAMAAAADAAAABAAAAAMAAAAAAAAAAQAAAAUAAAAEAAAAAAAAAAQAAAAAAAAABAAAAAIAAAAAAAAABQAAAAIAAAAEAAAAAQAAAAIAAAAAAAAAAwAAAAEAAAAFAAAAAwAAAAIAAAAFAAAABQAAAAIAAAACAAAAAwAAAAIAAAABAAAABAAAAAMAAAAAAAAAAAAAAAAAAAACAAAAAwAAAAEAAAAEAAAABAAAAAUAAAAAAAAAAAAAAAQAAAACAAAAAAAAAAQAAAAFAAAAAgAAAAUAAAADAAAAAQAAAAQAAAAEAAAABAAAAAMAAAAEAAAABQAAAAQAAAAAAAAABAAAAAQAAAAEAAAABQAAAAIAAAACAAAAAQAAAAQAAAAEAAAAAQAAAAUAAAAAAAAAAgAAAAIAAAAEAAAAAwAAAAQAAAADAAAABQAAAAQAAAACAAAAAwAAAAAAAAAEAAAAAgAAAAAAAAAAAAAAAAAAAAMAAAAFAAAAAwAAAAQAAAAEAAAABAAAAAMAAAADAAAABAAAAAIAAAAEAAAABAAAAAEAAAAEAAAAAAAAAAQAAAAEAAAABAAAAAUAAAAAAAAAAAAAAAUAAAAEAAAAAwAAAAUAAAAEAAAAAwAAAAUAAAAAAAAAAwAAAAIAAAACAAAABAAAAAUAAAABAAAAAAAAAAIAAAAAAAAAAQAAAAAAAAACAAAABAAAAAQAAAAEAAAAAQAAAAUAAAAAAAAAAAAAAAQAAAAAAAAAAAAAAAAAAAADAAAAAAAAAAAAAAABAAAAAAAAAAMAAAAAAAAAAwAAAAQAAAAAAAAABAAAAAAAAAAEAAAAAAAAAAIAAAACAAAAAgAAAAEAAAADAAAAAQAAAAEAAAAEAAAAAgAAAAIAAAAAAAAAAwAAAAIAAAAAAAAAAAAAAAEAAAADAAAABQAAAAIAAAAEAAAABAAAAAQAAAACAAAAAwAAAAIAAAAEAAAABQAAAAAAAAAAAAAAAAAAAAMAAAACAAAABAAAAAIAAAAEAAAAAAAAAAUAAAAFAAAAAgAAAAQAAAAAAAAAAQAAAAEAAAABAAAAAwAAAAUAAAADAAAABQAAAAMAAAABAAAABQAAAAAAAAACAAAABAAAAAUAAAAFAAAABQAAAAMAAAAAAAAAAwAAAAUAAAADAAAAAQAAAAUAAAADAAAAAQAAAAUAAAABAAAAAAAAAAUAAAABAAAABAAAAAAAAAADAAAABAAAAAAAAAAEAAAAAQAAAAEAAAAAAAAABAAAAAAAAAAFAAAAAgAAAAAAAAABAAAAAAAAAAUAAAADAAAABQAAAAAAAAAAAAAAAAAAAAAAAAACAAAAAwAAAAUAAAAEAAAABQAAAAEAAAAAAAAAAwAAAAQAAAAEAAAAAAAAAAMAAAAEAAAAAgAAAAIAAAADAAAAAgAAAAUAAAAAAAAAAwAAAAAAAAAAAAAABQAAAAQAAAADAAAABAAAAAIAAAAEAAAAAwAAAAIAAAACAAAAAwAAAAIAAAACAAAAAAAAAAEAAAAEAAAAAwAAAAQAAAAEAAAAAgAAAAAAAAADAAAABAAAAAIAAAACAAAAAAAAAAEAAAAEAAAAAwAAAAIAAAAEAAAAAQAAAAQAAAACAAAABAAAAAMAAAAAAAAABQAAAAAAAAAAAAAAAQAAAAQAAAADAAAAAgAAAAIAAAAAAAAAAAAAAAAAAAABAAAABQAAAAMAAAACAAAAAQAAAAQAAAABAAAAAAAAAAQAAAABAAAABAAAAAQAAAAEAAAAAwAAAAAAAAAEAAAAAQAAAAMAAAADAAAAAwAAAAUAAAAFAAAABAAAAAAAAAAFAAAAAAAAAAQAAAAEAAAAAwAAAAUAAAAFAAAAAgAAAAQAAAAEAAAAAAAAAAIAAAAFAAAAAAAAAAUAAAAEAAAAAwAAAAEAAAAFAAAAAwAAAAAAAAACAAAABAAAAAEAAAAAAAAAAAAAAAQAAAACAAAABQAAAAEAAAADAAAAAAAAAAEAAAAEAAAABAAAAAAAAAAFAAAAAAAAAAUAAAAFAAAABAAAAAIAAAAFAAAAAgAAAAUAAAAEAAAABAAAAAQAAAAEAAAABAAAAAEAAAAAAAAABAAAAAAAAAADAAAAAAAAAAEAAAAFAAAABQAAAAEAAAADAAAAAQAAAAQAAAAAAAAAAAAAAAIAAAAAAAAAAQAAAAQAAAACAAAABQAAAAAAAAAEAAAAAwAAAAQAAAAEAAAABQAAAAMAAAAFAAAAAAAAAAEAAAAFAAAAAAAAAAEAAAAEAAAAAAAAAAMAAAAEAAAAAAAAAAUAAAAAAAAAAQAAAAEAAAACAAAABAAAAAQAAAAEAAAAAAAAAAUAAAACAAAABAAAAAAAAAAAAAAAAgAAAAIAAAACAAAABQAAAAIAAAADAAAABAAAAAAAAAAEAAAABAAAAAIAAAAFAAAAAgAAAAAAAAACAAAAAwAAAAIAAAADAAAABAAAAAQAAAADAAAABAAAAAQAAAAAAAAABAAAAAAAAAADAAAAAwAAAAQAAAABAAAABQAAAAAAAAAFAAAABAAAAAEAAAAAAAAABAAAAAQAAAADAAAAAQAAAAIAAAAEAAAABAAAAAAAAAAAAAAABAAAAAEAAAAAAAAAAAAAAAUAAAAFAAAABAAAAAQAAAAEAAAAAAAAAAEAAAABAAAABAAAAAQAAAACAAAAAAAAAAAAAAAAAAAAAgAAAAAAAAADAAAABQAAAAEAAAAFAAAAAwAAAAMAAAAAAAAABQAAAAUAAAAAAAAAAgAAAAEAAAAAAAAAAwAAAAEAAAABAAAAAgAAAAAAAAAFAAAAAwAAAAMAAAAEAAAAAwAAAAQAAAAEAAAAAgAAAAUAAAAAAAAAAwAAAAEAAAACAAAABAAAAAQAAAAEAAAABQAAAAQAAAAEAAAABAAAAAEAAAADAAAAAwAAAAUAAAAAAAAAAgAAAAAAAAACAAAAAwAAAAUAAAAEAAAABAAAAAUAAAAAAAAAAQAAAAAAAAABAAAAAgAAAAEAAAAFAAAAAwAAAAAAAAABAAAABQAAAAIAAAAEAAAAAQAAAAEAAAABAAAABQAAAAAAAAAAAAAAAwAAAAEAAAAAAAAAAgAAAAAAAAAFAAAAAAAAAAQAAAAFAAAAAgAAAAIAAAAFAAAAAQAAAAQAAAAAAAAAAQAAAAQAAAADAAAABAAAAAEAAAAFAAAAAAAAAAEAAAABAAAAAAAAAAUAAAABAAAAAwAAAAAAAAACAAAABQAAAAIAAAAEAAAABAAAAAEAAAAAAAAABAAAAAIAAAADAAAAAAAAAAQAAAAAAAAAAgAAAAUAAAABAAAAAwAAAAUAAAADAAAABAAAAAAAAAAEAAAAAAAAAAQAAAABAAAAAgAAAAIAAAAFAAAABAAAAAUAAAABAAAABQAAAAUAAAAAAAAAAgAAAAQAAAAEAAAAAgAAAAQAAAACAAAAAwAAAAQAAAAEAAAAAQAAAAAAAAAAAAAAAQAAAAAAAAACAAAAAQAAAAEAAAAAAAAABAAAAAMAAAABAAAAAgAAAAUAAAACAAAAAgAAAAAAAAADAAAAAQAAAAMAAAAFAAAABQAAAAQAAAAEAAAABAAAAAIAAAAFAAAAAgAAAAIAAAABAAAABQAAAAQAAAAEAAAABAAAAAAAAAAFAAAAAwAAAAQAAAAEAAAAAAAAAAAAAAAEAAAAAgAAAAQAAAADAAAABAAAAAQAAAAEAAAABAAAAAIAAAACAAAAAAAAAAIAAAACAAAAAAAAAAEAAAABAAAAAQAAAAMAAAABAAAAAAAAAAQAAAAEAAAABAAAAAQAAAAAAAAABQAAAAMAAAACAAAABQAAAAIAAAAEAAAAAQAAAAUAAAACAAAABAAAAAQAAAAAAAAABAAAAAAAAAAEAAAAAAAAAAMAAAACAAAABQAAAAQAAAAEAAAABAAAAAUAAAAAAAAAAwAAAAUAAAAAAAAABQAAAAAAAAACAAAABQAAAAIAAAAAAAAABQAAAAEAAAABAAAABAAAAAAAAAAAAAAAAAAAAAMAAAAFAAAAAQAAAAIAAAAEAAAAAwAAAAIAAAAEAAAAAAAAAAAAAAABAAAABQAAAAUAAAAAAAAAAQAAAAAAAAAFAAAAAgAAAAQAAAADAAAAAAAAAAAAAAADAAAAAgAAAAAAAAAFAAAAAQAAAAUAAAAEAAAAAAAAAAQAAAADAAAABQAAAAUAAAABAAAAAgAAAAQAAAAEAAAABAAAAAAAAAABAAAAAQAAAAUAAAAAAAAAAQAAAAMAAAABAAAAAQAAAAQAAAACAAAABAAAAAEAAAAEAAAABAAAAAQAAAAFAAAAAwAAAAIAAAADAAAABQAAAAAAAAAEAAAAAwAAAAEAAAAEAAAAAgAAAAIAAAAAAAAABAAAAAAAAAAEAAAAAwAAAAAAAAABAAAABQAAAAEAAAAFAAAAAAAAAAAAAAABAAAAAgAAAAAAAAACAAAAAwAAAAQAAAAEAAAAAgAAAAQAAAAEAAAABAAAAAAAAAAEAAAABQAAAAUAAAAEAAAABAAAAAMAAAAEAAAABAAAAAEAAAAAAAAABAAAAAQAAAAEAAAAAAAAAAQAAAADAAAAAwAAAAMAAAADAAAAAwAAAAIAAAAEAAAAAAAAAAIAAAABAAAAAQAAAAAAAAAFAAAABQAAAAUAAAACAAAABQAAAAEAAAABAAAABQAAAAMAAAADAAAAAAAAAAMAAAAAAAAABAAAAAQAAAAFAAAABQAAAAIAAAACAAAABAAAAAEAAAAAAAAABAAAAAIAAAAFAAAAAAAAAAQAAAADAAAAAwAAAAAAAAAAAAAABQAAAAUAAAABAAAABAAAAAAAAAAFAAAAAAAAAAAAAAAEAAAAAwAAAAEAAAAEAAAAAQAAAAQAAAAAAAAAAAAAAAIAAAAEAAAAAAAAAAEAAAABAAAABAAAAAQAAAAFAAAAAwAAAAUAAAADAAAABAAAAAAAAAAFAAAAAAAAAAEAAAAAAAAABQAAAAMAAAABAAAAAgAAAAMAAAA=",
           "dtype": "i4"
          },
          "coloraxis": "coloraxis",
          "symbol": "circle"
         },
         "mode": "markers",
         "name": "",
         "showlegend": false,
         "type": "scattergl",
         "x": {
          "bdata": "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",
          "dtype": "f8"
         },
         "xaxis": "x",
         "y": {
          "bdata": "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",
          "dtype": "f8"
         },
         "yaxis": "y"
        }
       ],
       "layout": {
        "coloraxis": {
         "colorbar": {
          "title": {
           "text": "Cluster"
          }
         },
         "colorscale": [
          [
           0,
           "#0d0887"
          ],
          [
           0.1111111111111111,
           "#46039f"
          ],
          [
           0.2222222222222222,
           "#7201a8"
          ],
          [
           0.3333333333333333,
           "#9c179e"
          ],
          [
           0.4444444444444444,
           "#bd3786"
          ],
          [
           0.5555555555555556,
           "#d8576b"
          ],
          [
           0.6666666666666666,
           "#ed7953"
          ],
          [
           0.7777777777777778,
           "#fb9f3a"
          ],
          [
           0.8888888888888888,
           "#fdca26"
          ],
          [
           1,
           "#f0f921"
          ]
         ]
        },
        "legend": {
         "tracegroupgap": 0
        },
        "template": {
         "data": {
          "bar": [
           {
            "error_x": {
             "color": "#2a3f5f"
            },
            "error_y": {
             "color": "#2a3f5f"
            },
            "marker": {
             "line": {
              "color": "#E5ECF6",
              "width": 0.5
             },
             "pattern": {
              "fillmode": "overlay",
              "size": 10,
              "solidity": 0.2
             }
            },
            "type": "bar"
           }
          ],
          "barpolar": [
           {
            "marker": {
             "line": {
              "color": "#E5ECF6",
              "width": 0.5
             },
             "pattern": {
              "fillmode": "overlay",
              "size": 10,
              "solidity": 0.2
             }
            },
            "type": "barpolar"
           }
          ],
          "carpet": [
           {
            "aaxis": {
             "endlinecolor": "#2a3f5f",
             "gridcolor": "white",
             "linecolor": "white",
             "minorgridcolor": "white",
             "startlinecolor": "#2a3f5f"
            },
            "baxis": {
             "endlinecolor": "#2a3f5f",
             "gridcolor": "white",
             "linecolor": "white",
             "minorgridcolor": "white",
             "startlinecolor": "#2a3f5f"
            },
            "type": "carpet"
           }
          ],
          "choropleth": [
           {
            "colorbar": {
             "outlinewidth": 0,
             "ticks": ""
            },
            "type": "choropleth"
           }
          ],
          "contour": [
           {
            "colorbar": {
             "outlinewidth": 0,
             "ticks": ""
            },
            "colorscale": [
             [
              0,
              "#0d0887"
             ],
             [
              0.1111111111111111,
              "#46039f"
             ],
             [
              0.2222222222222222,
              "#7201a8"
             ],
             [
              0.3333333333333333,
              "#9c179e"
             ],
             [
              0.4444444444444444,
              "#bd3786"
             ],
             [
              0.5555555555555556,
              "#d8576b"
             ],
             [
              0.6666666666666666,
              "#ed7953"
             ],
             [
              0.7777777777777778,
              "#fb9f3a"
             ],
             [
              0.8888888888888888,
              "#fdca26"
             ],
             [
              1,
              "#f0f921"
             ]
            ],
            "type": "contour"
           }
          ],
          "contourcarpet": [
           {
            "colorbar": {
             "outlinewidth": 0,
             "ticks": ""
            },
            "type": "contourcarpet"
           }
          ],
          "heatmap": [
           {
            "colorbar": {
             "outlinewidth": 0,
             "ticks": ""
            },
            "colorscale": [
             [
              0,
              "#0d0887"
             ],
             [
              0.1111111111111111,
              "#46039f"
             ],
             [
              0.2222222222222222,
              "#7201a8"
             ],
             [
              0.3333333333333333,
              "#9c179e"
             ],
             [
              0.4444444444444444,
              "#bd3786"
             ],
             [
              0.5555555555555556,
              "#d8576b"
             ],
             [
              0.6666666666666666,
              "#ed7953"
             ],
             [
              0.7777777777777778,
              "#fb9f3a"
             ],
             [
              0.8888888888888888,
              "#fdca26"
             ],
             [
              1,
              "#f0f921"
             ]
            ],
            "type": "heatmap"
           }
          ],
          "histogram": [
           {
            "marker": {
             "pattern": {
              "fillmode": "overlay",
              "size": 10,
              "solidity": 0.2
             }
            },
            "type": "histogram"
           }
          ],
          "histogram2d": [
           {
            "colorbar": {
             "outlinewidth": 0,
             "ticks": ""
            },
            "colorscale": [
             [
              0,
              "#0d0887"
             ],
             [
              0.1111111111111111,
              "#46039f"
             ],
             [
              0.2222222222222222,
              "#7201a8"
             ],
             [
              0.3333333333333333,
              "#9c179e"
             ],
             [
              0.4444444444444444,
              "#bd3786"
             ],
             [
              0.5555555555555556,
              "#d8576b"
             ],
             [
              0.6666666666666666,
              "#ed7953"
             ],
             [
              0.7777777777777778,
              "#fb9f3a"
             ],
             [
              0.8888888888888888,
              "#fdca26"
             ],
             [
              1,
              "#f0f921"
             ]
            ],
            "type": "histogram2d"
           }
          ],
          "histogram2dcontour": [
           {
            "colorbar": {
             "outlinewidth": 0,
             "ticks": ""
            },
            "colorscale": [
             [
              0,
              "#0d0887"
             ],
             [
              0.1111111111111111,
              "#46039f"
             ],
             [
              0.2222222222222222,
              "#7201a8"
             ],
             [
              0.3333333333333333,
              "#9c179e"
             ],
             [
              0.4444444444444444,
              "#bd3786"
             ],
             [
              0.5555555555555556,
              "#d8576b"
             ],
             [
              0.6666666666666666,
              "#ed7953"
             ],
             [
              0.7777777777777778,
              "#fb9f3a"
             ],
             [
              0.8888888888888888,
              "#fdca26"
             ],
             [
              1,
              "#f0f921"
             ]
            ],
            "type": "histogram2dcontour"
           }
          ],
          "mesh3d": [
           {
            "colorbar": {
             "outlinewidth": 0,
             "ticks": ""
            },
            "type": "mesh3d"
           }
          ],
          "parcoords": [
           {
            "line": {
             "colorbar": {
              "outlinewidth": 0,
              "ticks": ""
             }
            },
            "type": "parcoords"
           }
          ],
          "pie": [
           {
            "automargin": true,
            "type": "pie"
           }
          ],
          "scatter": [
           {
            "fillpattern": {
             "fillmode": "overlay",
             "size": 10,
             "solidity": 0.2
            },
            "type": "scatter"
           }
          ],
          "scatter3d": [
           {
            "line": {
             "colorbar": {
              "outlinewidth": 0,
              "ticks": ""
             }
            },
            "marker": {
             "colorbar": {
              "outlinewidth": 0,
              "ticks": ""
             }
            },
            "type": "scatter3d"
           }
          ],
          "scattercarpet": [
           {
            "marker": {
             "colorbar": {
              "outlinewidth": 0,
              "ticks": ""
             }
            },
            "type": "scattercarpet"
           }
          ],
          "scattergeo": [
           {
            "marker": {
             "colorbar": {
              "outlinewidth": 0,
              "ticks": ""
             }
            },
            "type": "scattergeo"
           }
          ],
          "scattergl": [
           {
            "marker": {
             "colorbar": {
              "outlinewidth": 0,
              "ticks": ""
             }
            },
            "type": "scattergl"
           }
          ],
          "scattermap": [
           {
            "marker": {
             "colorbar": {
              "outlinewidth": 0,
              "ticks": ""
             }
            },
            "type": "scattermap"
           }
          ],
          "scattermapbox": [
           {
            "marker": {
             "colorbar": {
              "outlinewidth": 0,
              "ticks": ""
             }
            },
            "type": "scattermapbox"
           }
          ],
          "scatterpolar": [
           {
            "marker": {
             "colorbar": {
              "outlinewidth": 0,
              "ticks": ""
             }
            },
            "type": "scatterpolar"
           }
          ],
          "scatterpolargl": [
           {
            "marker": {
             "colorbar": {
              "outlinewidth": 0,
              "ticks": ""
             }
            },
            "type": "scatterpolargl"
           }
          ],
          "scatterternary": [
           {
            "marker": {
             "colorbar": {
              "outlinewidth": 0,
              "ticks": ""
             }
            },
            "type": "scatterternary"
           }
          ],
          "surface": [
           {
            "colorbar": {
             "outlinewidth": 0,
             "ticks": ""
            },
            "colorscale": [
             [
              0,
              "#0d0887"
             ],
             [
              0.1111111111111111,
              "#46039f"
             ],
             [
              0.2222222222222222,
              "#7201a8"
             ],
             [
              0.3333333333333333,
              "#9c179e"
             ],
             [
              0.4444444444444444,
              "#bd3786"
             ],
             [
              0.5555555555555556,
              "#d8576b"
             ],
             [
              0.6666666666666666,
              "#ed7953"
             ],
             [
              0.7777777777777778,
              "#fb9f3a"
             ],
             [
              0.8888888888888888,
              "#fdca26"
             ],
             [
              1,
              "#f0f921"
             ]
            ],
            "type": "surface"
           }
          ],
          "table": [
           {
            "cells": {
             "fill": {
              "color": "#EBF0F8"
             },
             "line": {
              "color": "white"
             }
            },
            "header": {
             "fill": {
              "color": "#C8D4E3"
             },
             "line": {
              "color": "white"
             }
            },
            "type": "table"
           }
          ]
         },
         "layout": {
          "annotationdefaults": {
           "arrowcolor": "#2a3f5f",
           "arrowhead": 0,
           "arrowwidth": 1
          },
          "autotypenumbers": "strict",
          "coloraxis": {
           "colorbar": {
            "outlinewidth": 0,
            "ticks": ""
           }
          },
          "colorscale": {
           "diverging": [
            [
             0,
             "#8e0152"
            ],
            [
             0.1,
             "#c51b7d"
            ],
            [
             0.2,
             "#de77ae"
            ],
            [
             0.3,
             "#f1b6da"
            ],
            [
             0.4,
             "#fde0ef"
            ],
            [
             0.5,
             "#f7f7f7"
            ],
            [
             0.6,
             "#e6f5d0"
            ],
            [
             0.7,
             "#b8e186"
            ],
            [
             0.8,
             "#7fbc41"
            ],
            [
             0.9,
             "#4d9221"
            ],
            [
             1,
             "#276419"
            ]
           ],
           "sequential": [
            [
             0,
             "#0d0887"
            ],
            [
             0.1111111111111111,
             "#46039f"
            ],
            [
             0.2222222222222222,
             "#7201a8"
            ],
            [
             0.3333333333333333,
             "#9c179e"
            ],
            [
             0.4444444444444444,
             "#bd3786"
            ],
            [
             0.5555555555555556,
             "#d8576b"
            ],
            [
             0.6666666666666666,
             "#ed7953"
            ],
            [
             0.7777777777777778,
             "#fb9f3a"
            ],
            [
             0.8888888888888888,
             "#fdca26"
            ],
            [
             1,
             "#f0f921"
            ]
           ],
           "sequentialminus": [
            [
             0,
             "#0d0887"
            ],
            [
             0.1111111111111111,
             "#46039f"
            ],
            [
             0.2222222222222222,
             "#7201a8"
            ],
            [
             0.3333333333333333,
             "#9c179e"
            ],
            [
             0.4444444444444444,
             "#bd3786"
            ],
            [
             0.5555555555555556,
             "#d8576b"
            ],
            [
             0.6666666666666666,
             "#ed7953"
            ],
            [
             0.7777777777777778,
             "#fb9f3a"
            ],
            [
             0.8888888888888888,
             "#fdca26"
            ],
            [
             1,
             "#f0f921"
            ]
           ]
          },
          "colorway": [
           "#636efa",
           "#EF553B",
           "#00cc96",
           "#ab63fa",
           "#FFA15A",
           "#19d3f3",
           "#FF6692",
           "#B6E880",
           "#FF97FF",
           "#FECB52"
          ],
          "font": {
           "color": "#2a3f5f"
          },
          "geo": {
           "bgcolor": "white",
           "lakecolor": "white",
           "landcolor": "#E5ECF6",
           "showlakes": true,
           "showland": true,
           "subunitcolor": "white"
          },
          "hoverlabel": {
           "align": "left"
          },
          "hovermode": "closest",
          "mapbox": {
           "style": "light"
          },
          "paper_bgcolor": "white",
          "plot_bgcolor": "#E5ECF6",
          "polar": {
           "angularaxis": {
            "gridcolor": "white",
            "linecolor": "white",
            "ticks": ""
           },
           "bgcolor": "#E5ECF6",
           "radialaxis": {
            "gridcolor": "white",
            "linecolor": "white",
            "ticks": ""
           }
          },
          "scene": {
           "xaxis": {
            "backgroundcolor": "#E5ECF6",
            "gridcolor": "white",
            "gridwidth": 2,
            "linecolor": "white",
            "showbackground": true,
            "ticks": "",
            "zerolinecolor": "white"
           },
           "yaxis": {
            "backgroundcolor": "#E5ECF6",
            "gridcolor": "white",
            "gridwidth": 2,
            "linecolor": "white",
            "showbackground": true,
            "ticks": "",
            "zerolinecolor": "white"
           },
           "zaxis": {
            "backgroundcolor": "#E5ECF6",
            "gridcolor": "white",
            "gridwidth": 2,
            "linecolor": "white",
            "showbackground": true,
            "ticks": "",
            "zerolinecolor": "white"
           }
          },
          "shapedefaults": {
           "line": {
            "color": "#2a3f5f"
           }
          },
          "ternary": {
           "aaxis": {
            "gridcolor": "white",
            "linecolor": "white",
            "ticks": ""
           },
           "baxis": {
            "gridcolor": "white",
            "linecolor": "white",
            "ticks": ""
           },
           "bgcolor": "#E5ECF6",
           "caxis": {
            "gridcolor": "white",
            "linecolor": "white",
            "ticks": ""
           }
          },
          "title": {
           "x": 0.05
          },
          "xaxis": {
           "automargin": true,
           "gridcolor": "white",
           "linecolor": "white",
           "ticks": "",
           "title": {
            "standoff": 15
           },
           "zerolinecolor": "white",
           "zerolinewidth": 2
          },
          "yaxis": {
           "automargin": true,
           "gridcolor": "white",
           "linecolor": "white",
           "ticks": "",
           "title": {
            "standoff": 15
           },
           "zerolinecolor": "white",
           "zerolinewidth": 2
          }
         }
        },
        "title": {
         "text": "Customer Segments based on KMeans Clustering"
        },
        "xaxis": {
         "anchor": "y",
         "domain": [
          0,
          1
         ],
         "title": {
          "text": "PCA1"
         }
        },
        "yaxis": {
         "anchor": "x",
         "domain": [
          0,
          1
         ],
         "title": {
          "text": "PCA2"
         }
        }
       }
      }
     },
     "metadata": {},
     "output_type": "display_data"
    }
   ],
   "source": [
    "px.scatter(data, x=\"PCA1\", y=\"PCA2\", color=\"Cluster\", title=\"Customer Segments based on KMeans Clustering\").show()"
   ]
  },
  {
   "cell_type": "code",
   "execution_count": 103,
   "id": "a43850cb",
   "metadata": {},
   "outputs": [
    {
     "data": {
      "text/html": [
       "<div>\n",
       "<style scoped>\n",
       "    .dataframe tbody tr th:only-of-type {\n",
       "        vertical-align: middle;\n",
       "    }\n",
       "\n",
       "    .dataframe tbody tr th {\n",
       "        vertical-align: top;\n",
       "    }\n",
       "\n",
       "    .dataframe thead th {\n",
       "        text-align: right;\n",
       "    }\n",
       "</style>\n",
       "<table border=\"1\" class=\"dataframe\">\n",
       "  <thead>\n",
       "    <tr style=\"text-align: right;\">\n",
       "      <th></th>\n",
       "      <th>Income</th>\n",
       "      <th>Age</th>\n",
       "      <th>Recency</th>\n",
       "      <th>Total_spending</th>\n",
       "      <th>NumWebPurchases</th>\n",
       "      <th>NumStorePurchases</th>\n",
       "      <th>NumWebVisitsMonth</th>\n",
       "    </tr>\n",
       "    <tr>\n",
       "      <th>Cluster</th>\n",
       "      <th></th>\n",
       "      <th></th>\n",
       "      <th></th>\n",
       "      <th></th>\n",
       "      <th></th>\n",
       "      <th></th>\n",
       "      <th></th>\n",
       "    </tr>\n",
       "  </thead>\n",
       "  <tbody>\n",
       "    <tr>\n",
       "      <th>0</th>\n",
       "      <td>33023.887064</td>\n",
       "      <td>53.026694</td>\n",
       "      <td>73.862423</td>\n",
       "      <td>91.640657</td>\n",
       "      <td>2.022587</td>\n",
       "      <td>3.098563</td>\n",
       "      <td>6.603696</td>\n",
       "    </tr>\n",
       "    <tr>\n",
       "      <th>1</th>\n",
       "      <td>78896.310458</td>\n",
       "      <td>46.039216</td>\n",
       "      <td>53.490196</td>\n",
       "      <td>1313.921569</td>\n",
       "      <td>4.424837</td>\n",
       "      <td>8.450980</td>\n",
       "      <td>2.568627</td>\n",
       "    </tr>\n",
       "    <tr>\n",
       "      <th>2</th>\n",
       "      <td>73452.904459</td>\n",
       "      <td>69.111465</td>\n",
       "      <td>49.764331</td>\n",
       "      <td>1161.719745</td>\n",
       "      <td>4.452229</td>\n",
       "      <td>8.277070</td>\n",
       "      <td>2.493631</td>\n",
       "    </tr>\n",
       "    <tr>\n",
       "      <th>3</th>\n",
       "      <td>53254.976190</td>\n",
       "      <td>63.792517</td>\n",
       "      <td>61.547619</td>\n",
       "      <td>548.476190</td>\n",
       "      <td>5.897959</td>\n",
       "      <td>5.921769</td>\n",
       "      <td>6.445578</td>\n",
       "    </tr>\n",
       "    <tr>\n",
       "      <th>4</th>\n",
       "      <td>34581.943798</td>\n",
       "      <td>52.153101</td>\n",
       "      <td>22.525194</td>\n",
       "      <td>117.970930</td>\n",
       "      <td>2.193798</td>\n",
       "      <td>3.329457</td>\n",
       "      <td>6.472868</td>\n",
       "    </tr>\n",
       "    <tr>\n",
       "      <th>5</th>\n",
       "      <td>63544.570946</td>\n",
       "      <td>56.864865</td>\n",
       "      <td>36.388514</td>\n",
       "      <td>1046.435811</td>\n",
       "      <td>8.253378</td>\n",
       "      <td>9.101351</td>\n",
       "      <td>5.935811</td>\n",
       "    </tr>\n",
       "  </tbody>\n",
       "</table>\n",
       "</div>"
      ],
      "text/plain": [
       "               Income        Age    Recency  Total_spending  NumWebPurchases  \\\n",
       "Cluster                                                                        \n",
       "0        33023.887064  53.026694  73.862423       91.640657         2.022587   \n",
       "1        78896.310458  46.039216  53.490196     1313.921569         4.424837   \n",
       "2        73452.904459  69.111465  49.764331     1161.719745         4.452229   \n",
       "3        53254.976190  63.792517  61.547619      548.476190         5.897959   \n",
       "4        34581.943798  52.153101  22.525194      117.970930         2.193798   \n",
       "5        63544.570946  56.864865  36.388514     1046.435811         8.253378   \n",
       "\n",
       "         NumStorePurchases  NumWebVisitsMonth  \n",
       "Cluster                                        \n",
       "0                 3.098563           6.603696  \n",
       "1                 8.450980           2.568627  \n",
       "2                 8.277070           2.493631  \n",
       "3                 5.921769           6.445578  \n",
       "4                 3.329457           6.472868  \n",
       "5                 9.101351           5.935811  "
      ]
     },
     "execution_count": 103,
     "metadata": {},
     "output_type": "execute_result"
    }
   ],
   "source": [
    "cluster_summary"
   ]
  },
  {
   "cell_type": "markdown",
   "id": "0ac73ea2",
   "metadata": {},
   "source": [
    "#### What we can see from these clusters is:\n",
    "\n",
    "- **Cluster 0:** Low income, low total spending, *infrequent buyers with lots of web visits*\n",
    "- **Cluster 1:** High income, high total spendings, high number of in-store purchases - *premium buyers, possibly loyal customers*\n",
    "- **Cluster 2:** High income, older in age than Cluster 1, but similar amount of total spending, high number of in-store purchases - possiby *loyal older premium customers*\n",
    "- **Cluster 3:** Average income, older age and moderate spendings with almost same number of in-store and  web purchases - *balanced customers*\n",
    "- **Cluster 4:** Low income, but lowest recency too, *frequent buyers of cheper products with lots of web visits, possibly new customers*\n",
    "- **Cluster 5:** Mid-to-high income,  low recency and high total spendings - *loyal highly engaged cutomers*\n"
   ]
  },
  {
   "cell_type": "code",
   "execution_count": 104,
   "id": "7845e99e",
   "metadata": {},
   "outputs": [
    {
     "data": {
      "text/plain": [
       "['scaler.pkl']"
      ]
     },
     "execution_count": 104,
     "metadata": {},
     "output_type": "execute_result"
    }
   ],
   "source": [
    "import joblib\n",
    "joblib.dump(kmeans, \"kmeans_model.pkl\")\n",
    "joblib.dump(scaler, \"scaler.pkl\")"
   ]
  }
 ],
 "metadata": {
  "kernelspec": {
   "display_name": "Python 3",
   "language": "python",
   "name": "python3"
  },
  "language_info": {
   "codemirror_mode": {
    "name": "ipython",
    "version": 3
   },
   "file_extension": ".py",
   "mimetype": "text/x-python",
   "name": "python",
   "nbconvert_exporter": "python",
   "pygments_lexer": "ipython3",
   "version": "3.12.10"
  }
 },
 "nbformat": 4,
 "nbformat_minor": 5
}
